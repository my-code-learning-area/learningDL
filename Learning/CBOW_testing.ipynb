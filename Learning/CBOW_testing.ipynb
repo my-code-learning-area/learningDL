{
 "cells": [
  {
   "cell_type": "code",
   "execution_count": 1,
   "id": "6b0f87ff",
   "metadata": {},
   "outputs": [
    {
     "name": "stderr",
     "output_type": "stream",
     "text": [
      "2023-11-16 22:52:25.516780: I tensorflow/tsl/cuda/cudart_stub.cc:28] Could not find cuda drivers on your machine, GPU will not be used.\n",
      "2023-11-16 22:52:25.559867: E tensorflow/compiler/xla/stream_executor/cuda/cuda_dnn.cc:9342] Unable to register cuDNN factory: Attempting to register factory for plugin cuDNN when one has already been registered\n",
      "2023-11-16 22:52:25.559905: E tensorflow/compiler/xla/stream_executor/cuda/cuda_fft.cc:609] Unable to register cuFFT factory: Attempting to register factory for plugin cuFFT when one has already been registered\n",
      "2023-11-16 22:52:25.559940: E tensorflow/compiler/xla/stream_executor/cuda/cuda_blas.cc:1518] Unable to register cuBLAS factory: Attempting to register factory for plugin cuBLAS when one has already been registered\n",
      "2023-11-16 22:52:25.567745: I tensorflow/tsl/cuda/cudart_stub.cc:28] Could not find cuda drivers on your machine, GPU will not be used.\n",
      "2023-11-16 22:52:25.568128: I tensorflow/core/platform/cpu_feature_guard.cc:182] This TensorFlow binary is optimized to use available CPU instructions in performance-critical operations.\n",
      "To enable the following instructions: AVX2 FMA, in other operations, rebuild TensorFlow with the appropriate compiler flags.\n",
      "2023-11-16 22:52:26.606073: W tensorflow/compiler/tf2tensorrt/utils/py_utils.cc:38] TF-TRT Warning: Could not find TensorRT\n"
     ]
    }
   ],
   "source": [
    "import tensorflow as tf\n",
    "from tensorflow.keras.models import Sequential\n",
    "from tensorflow.keras.layers import Embedding, Dense, Lambda\n",
    "from tensorflow.keras.preprocessing.text import Tokenizer\n",
    "from tensorflow.keras.optimizers import Adam\n",
    "import numpy as np\n",
    "import re"
   ]
  },
  {
   "cell_type": "code",
   "execution_count": 2,
   "id": "59241d82",
   "metadata": {},
   "outputs": [
    {
     "data": {
      "text/plain": [
       "['The speed of transmission is an important point of difference between the two viruses. Influenza has a shorter median incubation period (the time from infection to appearance of symptoms) and a shorter serial interval (the time between successive cases) than COVID-19 virus. The serial interval for COVID-19 virus is estimated to be 5-6 days, while for influenza virus, the serial interval is 3 days. This means that influenza can spread faster than COVID-19.',\n",
       " '',\n",
       " 'Further, transmission in the first 3-5 days of illness, or potentially pre-symptomatic transmission –transmission of the virus before the appearance of symptoms – is a major driver of transmission for influenza. In contrast, while we are learning that there are people who can shed COVID-19 virus 24-48 hours prior to symptom onset, at present, this does not appear to be a major driver of transmission.',\n",
       " '',\n",
       " 'The reproductive number – the number of secondary infections generated from one infected individual – is understood to be between 2 and 2.5 for COVID-19 virus, higher than for influenza. However, estimates for both COVID-19 and influenza viruses are very context and time-specific, making direct comparisons more difficult.']"
      ]
     },
     "execution_count": 2,
     "metadata": {},
     "output_type": "execute_result"
    }
   ],
   "source": [
    "data = []\n",
    "with open(\"../datasets/CBOW(Ass5)/CBOW.txt\") as file:\n",
    "    for line in file:\n",
    "        data.append(line.strip())\n",
    "        \n",
    "data"
   ]
  },
  {
   "cell_type": "code",
   "execution_count": 3,
   "id": "270c5fba",
   "metadata": {},
   "outputs": [
    {
     "data": {
      "text/plain": [
       "['The speed of transmission is an important point of difference between the two viruses Influenza has a shorter median incubation period the time from infection to appearance of symptoms and a shorter serial interval the time between successive cases than COVID 19 virus The serial interval for COVID 19 virus is estimated to be 5 6 days while for influenza virus the serial interval is 3 days This means that influenza can spread faster than COVID 19 ',\n",
       " 'Further transmission in the first 3 5 days of illness or potentially pre symptomatic transmission transmission of the virus before the appearance of symptoms is a major driver of transmission for influenza In contrast while we are learning that there are people who can shed COVID 19 virus 24 48 hours prior to symptom onset at present this does not appear to be a major driver of transmission ',\n",
       " 'The reproductive number the number of secondary infections generated from one infected individual is understood to be between 2 and 2 5 for COVID 19 virus higher than for influenza However estimates for both COVID 19 and influenza viruses are very context and time specific making direct comparisons more difficult ']"
      ]
     },
     "execution_count": 3,
     "metadata": {},
     "output_type": "execute_result"
    }
   ],
   "source": [
    "c_data = []\n",
    "for line in data:\n",
    "    if line == \"\":\n",
    "        continue\n",
    "    \n",
    "    line = re.sub(\"[^A-Za-z0-9]+\", \" \", line)\n",
    "    \n",
    "    c_data.append(line)\n",
    "    \n",
    "c_data"
   ]
  },
  {
   "cell_type": "code",
   "execution_count": 4,
   "id": "aeb4f035",
   "metadata": {},
   "outputs": [
    {
     "name": "stdout",
     "output_type": "stream",
     "text": [
      "[[1, 37, 2, 3, 9, 38, 39, 40, 2, 41, 13, 1, 42, 22, 4, 43, 11, 23, 44, 45, 46, 1, 14, 24, 47, 10, 25, 2, 26, 12, 11, 23, 15, 16, 1, 14, 13, 48, 49, 17, 5, 6, 7, 1, 15, 16, 8, 5, 6, 7, 9, 50, 10, 18, 19, 51, 20, 27, 8, 4, 7, 1, 15, 16, 9, 28, 20, 29, 52, 30, 4, 31, 53, 54, 17, 5, 6], [55, 3, 32, 1, 56, 28, 19, 20, 2, 57, 58, 59, 60, 61, 3, 3, 2, 1, 7, 62, 1, 25, 2, 26, 9, 11, 33, 34, 2, 3, 8, 4, 32, 63, 27, 64, 21, 65, 30, 66, 21, 67, 68, 31, 69, 5, 6, 7, 70, 71, 72, 73, 10, 74, 75, 76, 77, 29, 78, 79, 80, 10, 18, 11, 33, 34, 2, 3], [1, 81, 35, 1, 35, 2, 82, 83, 84, 24, 85, 86, 87, 9, 88, 10, 18, 13, 36, 12, 36, 19, 8, 5, 6, 7, 89, 17, 8, 4, 90, 91, 8, 92, 5, 6, 12, 4, 22, 21, 93, 94, 12, 14, 95, 96, 97, 98, 99, 100]]\n"
     ]
    }
   ],
   "source": [
    "tokenizer = Tokenizer()\n",
    "tokenizer.fit_on_texts(c_data)\n",
    "sequences = tokenizer.texts_to_sequences(c_data)\n",
    "\n",
    "print(sequences)"
   ]
  },
  {
   "cell_type": "code",
   "execution_count": 5,
   "id": "d41126ae",
   "metadata": {},
   "outputs": [
    {
     "name": "stdout",
     "output_type": "stream",
     "text": [
      "[1, 37, 2, 3, 9, 38, 39, 40, 2, 41, 13, 1, 42, 22, 4, 43, 11, 23, 44, 45, 46, 1, 14, 24, 47, 10, 25, 2, 26, 12, 11, 23, 15, 16, 1, 14, 13, 48, 49, 17, 5, 6, 7, 1, 15, 16, 8, 5, 6, 7, 9, 50, 10, 18, 19, 51, 20, 27, 8, 4, 7, 1, 15, 16, 9, 28, 20, 29, 52, 30, 4, 31, 53, 54, 17, 5, 6]\n",
      "['The', 'speed', 'of', 'transmission', 'is', 'an', 'important', 'point', 'of', 'difference', 'between', 'the', 'two', 'viruses', 'Influenza', 'has', 'a', 'shorter', 'median', 'incubation', 'period', 'the', 'time', 'from', 'infection', 'to', 'appearance', 'of', 'symptoms', 'and', 'a', 'shorter', 'serial', 'interval', 'the', 'time', 'between', 'successive', 'cases', 'than', 'COVID', '19', 'virus', 'The', 'serial', 'interval', 'for', 'COVID', '19', 'virus', 'is', 'estimated', 'to', 'be', '5', '6', 'days', 'while', 'for', 'influenza', 'virus', 'the', 'serial', 'interval', 'is', '3', 'days', 'This', 'means', 'that', 'influenza', 'can', 'spread', 'faster', 'than', 'COVID', '19']\n",
      "[55, 3, 32, 1, 56, 28, 19, 20, 2, 57, 58, 59, 60, 61, 3, 3, 2, 1, 7, 62, 1, 25, 2, 26, 9, 11, 33, 34, 2, 3, 8, 4, 32, 63, 27, 64, 21, 65, 30, 66, 21, 67, 68, 31, 69, 5, 6, 7, 70, 71, 72, 73, 10, 74, 75, 76, 77, 29, 78, 79, 80, 10, 18, 11, 33, 34, 2, 3]\n",
      "['Further', 'transmission', 'in', 'the', 'first', '3', '5', 'days', 'of', 'illness', 'or', 'potentially', 'pre', 'symptomatic', 'transmission', 'transmission', 'of', 'the', 'virus', 'before', 'the', 'appearance', 'of', 'symptoms', 'is', 'a', 'major', 'driver', 'of', 'transmission', 'for', 'influenza', 'In', 'contrast', 'while', 'we', 'are', 'learning', 'that', 'there', 'are', 'people', 'who', 'can', 'shed', 'COVID', '19', 'virus', '24', '48', 'hours', 'prior', 'to', 'symptom', 'onset', 'at', 'present', 'this', 'does', 'not', 'appear', 'to', 'be', 'a', 'major', 'driver', 'of', 'transmission']\n",
      "[1, 81, 35, 1, 35, 2, 82, 83, 84, 24, 85, 86, 87, 9, 88, 10, 18, 13, 36, 12, 36, 19, 8, 5, 6, 7, 89, 17, 8, 4, 90, 91, 8, 92, 5, 6, 12, 4, 22, 21, 93, 94, 12, 14, 95, 96, 97, 98, 99, 100]\n",
      "['The', 'reproductive', 'number', 'the', 'number', 'of', 'secondary', 'infections', 'generated', 'from', 'one', 'infected', 'individual', 'is', 'understood', 'to', 'be', 'between', '2', 'and', '2', '5', 'for', 'COVID', '19', 'virus', 'higher', 'than', 'for', 'influenza', 'However', 'estimates', 'for', 'both', 'COVID', '19', 'and', 'influenza', 'viruses', 'are', 'very', 'context', 'and', 'time', 'specific', 'making', 'direct', 'comparisons', 'more', 'difficult']\n"
     ]
    }
   ],
   "source": [
    "word_to_index, index_to_word = {},{}\n",
    "\n",
    "for i1, sequence in enumerate(sequences):\n",
    "    print(sequence)\n",
    "    words_of_sequence = c_data[i1].split()\n",
    "    print(words_of_sequence)\n",
    "    \n",
    "    for i2, index in enumerate(sequence):\n",
    "        index_to_word[index] = words_of_sequence[i2]\n",
    "        word_to_index[words_of_sequence[i2]] = index"
   ]
  },
  {
   "cell_type": "code",
   "execution_count": 6,
   "id": "04949c63",
   "metadata": {},
   "outputs": [
    {
     "name": "stdout",
     "output_type": "stream",
     "text": [
      "{1: 'the', 37: 'speed', 2: 'of', 3: 'transmission', 9: 'is', 38: 'an', 39: 'important', 40: 'point', 41: 'difference', 13: 'between', 42: 'two', 22: 'viruses', 4: 'influenza', 43: 'has', 11: 'a', 23: 'shorter', 44: 'median', 45: 'incubation', 46: 'period', 14: 'time', 24: 'from', 47: 'infection', 10: 'to', 25: 'appearance', 26: 'symptoms', 12: 'and', 15: 'serial', 16: 'interval', 48: 'successive', 49: 'cases', 17: 'than', 5: 'COVID', 6: '19', 7: 'virus', 8: 'for', 50: 'estimated', 18: 'be', 19: '5', 51: '6', 20: 'days', 27: 'while', 28: '3', 29: 'this', 52: 'means', 30: 'that', 31: 'can', 53: 'spread', 54: 'faster', 55: 'Further', 32: 'In', 56: 'first', 57: 'illness', 58: 'or', 59: 'potentially', 60: 'pre', 61: 'symptomatic', 62: 'before', 33: 'major', 34: 'driver', 63: 'contrast', 64: 'we', 21: 'are', 65: 'learning', 66: 'there', 67: 'people', 68: 'who', 69: 'shed', 70: '24', 71: '48', 72: 'hours', 73: 'prior', 74: 'symptom', 75: 'onset', 76: 'at', 77: 'present', 78: 'does', 79: 'not', 80: 'appear', 81: 'reproductive', 35: 'number', 82: 'secondary', 83: 'infections', 84: 'generated', 85: 'one', 86: 'infected', 87: 'individual', 88: 'understood', 36: '2', 89: 'higher', 90: 'However', 91: 'estimates', 92: 'both', 93: 'very', 94: 'context', 95: 'specific', 96: 'making', 97: 'direct', 98: 'comparisons', 99: 'more', 100: 'difficult'}\n",
      "\n",
      "==================\n",
      "\n",
      "{'The': 1, 'speed': 37, 'of': 2, 'transmission': 3, 'is': 9, 'an': 38, 'important': 39, 'point': 40, 'difference': 41, 'between': 13, 'the': 1, 'two': 42, 'viruses': 22, 'Influenza': 4, 'has': 43, 'a': 11, 'shorter': 23, 'median': 44, 'incubation': 45, 'period': 46, 'time': 14, 'from': 24, 'infection': 47, 'to': 10, 'appearance': 25, 'symptoms': 26, 'and': 12, 'serial': 15, 'interval': 16, 'successive': 48, 'cases': 49, 'than': 17, 'COVID': 5, '19': 6, 'virus': 7, 'for': 8, 'estimated': 50, 'be': 18, '5': 19, '6': 51, 'days': 20, 'while': 27, 'influenza': 4, '3': 28, 'This': 29, 'means': 52, 'that': 30, 'can': 31, 'spread': 53, 'faster': 54, 'Further': 55, 'in': 32, 'first': 56, 'illness': 57, 'or': 58, 'potentially': 59, 'pre': 60, 'symptomatic': 61, 'before': 62, 'major': 33, 'driver': 34, 'In': 32, 'contrast': 63, 'we': 64, 'are': 21, 'learning': 65, 'there': 66, 'people': 67, 'who': 68, 'shed': 69, '24': 70, '48': 71, 'hours': 72, 'prior': 73, 'symptom': 74, 'onset': 75, 'at': 76, 'present': 77, 'this': 29, 'does': 78, 'not': 79, 'appear': 80, 'reproductive': 81, 'number': 35, 'secondary': 82, 'infections': 83, 'generated': 84, 'one': 85, 'infected': 86, 'individual': 87, 'understood': 88, '2': 36, 'higher': 89, 'However': 90, 'estimates': 91, 'both': 92, 'very': 93, 'context': 94, 'specific': 95, 'making': 96, 'direct': 97, 'comparisons': 98, 'more': 99, 'difficult': 100}\n"
     ]
    }
   ],
   "source": [
    "print(index_to_word)\n",
    "print(\"\\n==================\\n\")\n",
    "print(word_to_index)"
   ]
  },
  {
   "cell_type": "code",
   "execution_count": 7,
   "id": "18e23407",
   "metadata": {},
   "outputs": [
    {
     "name": "stdout",
     "output_type": "stream",
     "text": [
      "[[1, 37, 3, 9], [37, 2, 9, 38], [2, 3, 38, 39], [3, 9, 39, 40], [9, 38, 40, 2], [38, 39, 2, 41], [39, 40, 41, 13], [40, 2, 13, 1], [2, 41, 1, 42], [41, 13, 42, 22], [13, 1, 22, 4], [1, 42, 4, 43], [42, 22, 43, 11], [22, 4, 11, 23], [4, 43, 23, 44], [43, 11, 44, 45], [11, 23, 45, 46], [23, 44, 46, 1], [44, 45, 1, 14], [45, 46, 14, 24], [46, 1, 24, 47], [1, 14, 47, 10], [14, 24, 10, 25], [24, 47, 25, 2], [47, 10, 2, 26], [10, 25, 26, 12], [25, 2, 12, 11], [2, 26, 11, 23], [26, 12, 23, 15], [12, 11, 15, 16], [11, 23, 16, 1], [23, 15, 1, 14], [15, 16, 14, 13], [16, 1, 13, 48], [1, 14, 48, 49], [14, 13, 49, 17], [13, 48, 17, 5], [48, 49, 5, 6], [49, 17, 6, 7], [17, 5, 7, 1], [5, 6, 1, 15], [6, 7, 15, 16], [7, 1, 16, 8], [1, 15, 8, 5], [15, 16, 5, 6], [16, 8, 6, 7], [8, 5, 7, 9], [5, 6, 9, 50], [6, 7, 50, 10], [7, 9, 10, 18], [9, 50, 18, 19], [50, 10, 19, 51], [10, 18, 51, 20], [18, 19, 20, 27], [19, 51, 27, 8], [51, 20, 8, 4], [20, 27, 4, 7], [27, 8, 7, 1], [8, 4, 1, 15], [4, 7, 15, 16], [7, 1, 16, 9], [1, 15, 9, 28], [15, 16, 28, 20], [16, 9, 20, 29], [9, 28, 29, 52], [28, 20, 52, 30], [20, 29, 30, 4], [29, 52, 4, 31], [52, 30, 31, 53], [30, 4, 53, 54], [4, 31, 54, 17], [31, 53, 17, 5], [53, 54, 5, 6], [55, 3, 1, 56], [3, 32, 56, 28], [32, 1, 28, 19], [1, 56, 19, 20], [56, 28, 20, 2], [28, 19, 2, 57], [19, 20, 57, 58], [20, 2, 58, 59], [2, 57, 59, 60], [57, 58, 60, 61], [58, 59, 61, 3], [59, 60, 3, 3], [60, 61, 3, 2], [61, 3, 2, 1], [3, 3, 1, 7], [3, 2, 7, 62], [2, 1, 62, 1], [1, 7, 1, 25], [7, 62, 25, 2], [62, 1, 2, 26], [1, 25, 26, 9], [25, 2, 9, 11], [2, 26, 11, 33], [26, 9, 33, 34], [9, 11, 34, 2], [11, 33, 2, 3], [33, 34, 3, 8], [34, 2, 8, 4], [2, 3, 4, 32], [3, 8, 32, 63], [8, 4, 63, 27], [4, 32, 27, 64], [32, 63, 64, 21], [63, 27, 21, 65], [27, 64, 65, 30], [64, 21, 30, 66], [21, 65, 66, 21], [65, 30, 21, 67], [30, 66, 67, 68], [66, 21, 68, 31], [21, 67, 31, 69], [67, 68, 69, 5], [68, 31, 5, 6], [31, 69, 6, 7], [69, 5, 7, 70], [5, 6, 70, 71], [6, 7, 71, 72], [7, 70, 72, 73], [70, 71, 73, 10], [71, 72, 10, 74], [72, 73, 74, 75], [73, 10, 75, 76], [10, 74, 76, 77], [74, 75, 77, 29], [75, 76, 29, 78], [76, 77, 78, 79], [77, 29, 79, 80], [29, 78, 80, 10], [78, 79, 10, 18], [79, 80, 18, 11], [80, 10, 11, 33], [10, 18, 33, 34], [18, 11, 34, 2], [11, 33, 2, 3], [1, 81, 1, 35], [81, 35, 35, 2], [35, 1, 2, 82], [1, 35, 82, 83], [35, 2, 83, 84], [2, 82, 84, 24], [82, 83, 24, 85], [83, 84, 85, 86], [84, 24, 86, 87], [24, 85, 87, 9], [85, 86, 9, 88], [86, 87, 88, 10], [87, 9, 10, 18], [9, 88, 18, 13], [88, 10, 13, 36], [10, 18, 36, 12], [18, 13, 12, 36], [13, 36, 36, 19], [36, 12, 19, 8], [12, 36, 8, 5], [36, 19, 5, 6], [19, 8, 6, 7], [8, 5, 7, 89], [5, 6, 89, 17], [6, 7, 17, 8], [7, 89, 8, 4], [89, 17, 4, 90], [17, 8, 90, 91], [8, 4, 91, 8], [4, 90, 8, 92], [90, 91, 92, 5], [91, 8, 5, 6], [8, 92, 6, 12], [92, 5, 12, 4], [5, 6, 4, 22], [6, 12, 22, 21], [12, 4, 21, 93], [4, 22, 93, 94], [22, 21, 94, 12], [21, 93, 12, 14], [93, 94, 14, 95], [94, 12, 95, 96], [12, 14, 96, 97], [14, 95, 97, 98], [95, 96, 98, 99], [96, 97, 99, 100]]\n",
      "\n",
      "==============\n",
      "\n",
      "[2, 3, 9, 38, 39, 40, 2, 41, 13, 1, 42, 22, 4, 43, 11, 23, 44, 45, 46, 1, 14, 24, 47, 10, 25, 2, 26, 12, 11, 23, 15, 16, 1, 14, 13, 48, 49, 17, 5, 6, 7, 1, 15, 16, 8, 5, 6, 7, 9, 50, 10, 18, 19, 51, 20, 27, 8, 4, 7, 1, 15, 16, 9, 28, 20, 29, 52, 30, 4, 31, 53, 54, 17, 32, 1, 56, 28, 19, 20, 2, 57, 58, 59, 60, 61, 3, 3, 2, 1, 7, 62, 1, 25, 2, 26, 9, 11, 33, 34, 2, 3, 8, 4, 32, 63, 27, 64, 21, 65, 30, 66, 21, 67, 68, 31, 69, 5, 6, 7, 70, 71, 72, 73, 10, 74, 75, 76, 77, 29, 78, 79, 80, 10, 18, 11, 33, 34, 35, 1, 35, 2, 82, 83, 84, 24, 85, 86, 87, 9, 88, 10, 18, 13, 36, 12, 36, 19, 8, 5, 6, 7, 89, 17, 8, 4, 90, 91, 8, 92, 5, 6, 12, 4, 22, 21, 93, 94, 12, 14, 95, 96, 97, 98]\n"
     ]
    }
   ],
   "source": [
    "contexts = []\n",
    "targets = []\n",
    "\n",
    "window_size = 2\n",
    "\n",
    "for sequence in sequences:\n",
    "    for i in range(window_size, len(sequence) - window_size):\n",
    "        context = sequence[i - window_size : i] + sequence[i + 1 : i + window_size + 1]\n",
    "        target = sequence[i]\n",
    "        \n",
    "        contexts.append(context)\n",
    "        targets.append(target)\n",
    "\n",
    "print(contexts)\n",
    "print(\"\\n==============\\n\")\n",
    "print(targets)"
   ]
  },
  {
   "cell_type": "code",
   "execution_count": 8,
   "id": "30b42c43",
   "metadata": {},
   "outputs": [],
   "source": [
    "x = np.array(contexts)\n",
    "y = np.array(targets)"
   ]
  },
  {
   "cell_type": "code",
   "execution_count": 9,
   "id": "f9e1a30b",
   "metadata": {},
   "outputs": [],
   "source": [
    "input_dim = len(tokenizer.word_index) + 1\n",
    "output_dim = 10"
   ]
  },
  {
   "cell_type": "code",
   "execution_count": 24,
   "id": "7ec8462b",
   "metadata": {},
   "outputs": [],
   "source": [
    "model = Sequential([\n",
    "    Embedding(input_dim, output_dim, input_length=2 * window_size),\n",
    "    Lambda(lambda x : tf.reduce_mean(x, 1)),\n",
    "    Dense(256, \"relu\"),\n",
    "    Dense(64, \"relu\"),\n",
    "    Dense(input_dim, \"softmax\")\n",
    "])"
   ]
  },
  {
   "cell_type": "code",
   "execution_count": 11,
   "id": "3d49ce6e",
   "metadata": {},
   "outputs": [],
   "source": [
    "model.compile(\"adam\", \"sparse_categorical_crossentropy\", [\"accuracy\"])"
   ]
  },
  {
   "cell_type": "code",
   "execution_count": 12,
   "id": "04acb7fb",
   "metadata": {},
   "outputs": [
    {
     "name": "stdout",
     "output_type": "stream",
     "text": [
      "Epoch 1/200\n",
      "6/6 [==============================] - 1s 3ms/step - loss: 4.6151 - accuracy: 0.0055\n",
      "Epoch 2/200\n",
      "6/6 [==============================] - 0s 3ms/step - loss: 4.6096 - accuracy: 0.0273\n",
      "Epoch 3/200\n",
      "6/6 [==============================] - 0s 3ms/step - loss: 4.6036 - accuracy: 0.0437\n",
      "Epoch 4/200\n",
      "6/6 [==============================] - 0s 3ms/step - loss: 4.5961 - accuracy: 0.0492\n",
      "Epoch 5/200\n",
      "6/6 [==============================] - 0s 3ms/step - loss: 4.5856 - accuracy: 0.0601\n",
      "Epoch 6/200\n",
      "6/6 [==============================] - 0s 3ms/step - loss: 4.5715 - accuracy: 0.0656\n",
      "Epoch 7/200\n",
      "6/6 [==============================] - 0s 3ms/step - loss: 4.5499 - accuracy: 0.0820\n",
      "Epoch 8/200\n",
      "6/6 [==============================] - 0s 3ms/step - loss: 4.5190 - accuracy: 0.0765\n",
      "Epoch 9/200\n",
      "6/6 [==============================] - 0s 3ms/step - loss: 4.4784 - accuracy: 0.0656\n",
      "Epoch 10/200\n",
      "6/6 [==============================] - 0s 3ms/step - loss: 4.4252 - accuracy: 0.0492\n",
      "Epoch 11/200\n",
      "6/6 [==============================] - 0s 3ms/step - loss: 4.3613 - accuracy: 0.0492\n",
      "Epoch 12/200\n",
      "6/6 [==============================] - 0s 3ms/step - loss: 4.2956 - accuracy: 0.0492\n",
      "Epoch 13/200\n",
      "6/6 [==============================] - 0s 3ms/step - loss: 4.2459 - accuracy: 0.0492\n",
      "Epoch 14/200\n",
      "6/6 [==============================] - 0s 2ms/step - loss: 4.1990 - accuracy: 0.0492\n",
      "Epoch 15/200\n",
      "6/6 [==============================] - 0s 2ms/step - loss: 4.1613 - accuracy: 0.0492\n",
      "Epoch 16/200\n",
      "6/6 [==============================] - 0s 3ms/step - loss: 4.1187 - accuracy: 0.0492\n",
      "Epoch 17/200\n",
      "6/6 [==============================] - 0s 3ms/step - loss: 4.0708 - accuracy: 0.0546\n",
      "Epoch 18/200\n",
      "6/6 [==============================] - 0s 3ms/step - loss: 4.0208 - accuracy: 0.0656\n",
      "Epoch 19/200\n",
      "6/6 [==============================] - 0s 3ms/step - loss: 3.9678 - accuracy: 0.0820\n",
      "Epoch 20/200\n",
      "6/6 [==============================] - 0s 4ms/step - loss: 3.9159 - accuracy: 0.1093\n",
      "Epoch 21/200\n",
      "6/6 [==============================] - 0s 3ms/step - loss: 3.8600 - accuracy: 0.1202\n",
      "Epoch 22/200\n",
      "6/6 [==============================] - 0s 3ms/step - loss: 3.8067 - accuracy: 0.1202\n",
      "Epoch 23/200\n",
      "6/6 [==============================] - 0s 3ms/step - loss: 3.7523 - accuracy: 0.1093\n",
      "Epoch 24/200\n",
      "6/6 [==============================] - 0s 3ms/step - loss: 3.6961 - accuracy: 0.1366\n",
      "Epoch 25/200\n",
      "6/6 [==============================] - 0s 3ms/step - loss: 3.6421 - accuracy: 0.1366\n",
      "Epoch 26/200\n",
      "6/6 [==============================] - 0s 3ms/step - loss: 3.5895 - accuracy: 0.1530\n",
      "Epoch 27/200\n",
      "6/6 [==============================] - 0s 3ms/step - loss: 3.5322 - accuracy: 0.1694\n",
      "Epoch 28/200\n",
      "6/6 [==============================] - 0s 3ms/step - loss: 3.4764 - accuracy: 0.1475\n",
      "Epoch 29/200\n",
      "6/6 [==============================] - 0s 3ms/step - loss: 3.4221 - accuracy: 0.1585\n",
      "Epoch 30/200\n",
      "6/6 [==============================] - 0s 3ms/step - loss: 3.3667 - accuracy: 0.1967\n",
      "Epoch 31/200\n",
      "6/6 [==============================] - 0s 3ms/step - loss: 3.3130 - accuracy: 0.2077\n",
      "Epoch 32/200\n",
      "6/6 [==============================] - 0s 3ms/step - loss: 3.2569 - accuracy: 0.1967\n",
      "Epoch 33/200\n",
      "6/6 [==============================] - 0s 3ms/step - loss: 3.1950 - accuracy: 0.2131\n",
      "Epoch 34/200\n",
      "6/6 [==============================] - 0s 3ms/step - loss: 3.1408 - accuracy: 0.2077\n",
      "Epoch 35/200\n",
      "6/6 [==============================] - 0s 3ms/step - loss: 3.0856 - accuracy: 0.1858\n",
      "Epoch 36/200\n",
      "6/6 [==============================] - 0s 3ms/step - loss: 3.0293 - accuracy: 0.2077\n",
      "Epoch 37/200\n",
      "6/6 [==============================] - 0s 4ms/step - loss: 2.9712 - accuracy: 0.2295\n",
      "Epoch 38/200\n",
      "6/6 [==============================] - 0s 4ms/step - loss: 2.9146 - accuracy: 0.2514\n",
      "Epoch 39/200\n",
      "6/6 [==============================] - 0s 3ms/step - loss: 2.8640 - accuracy: 0.2514\n",
      "Epoch 40/200\n",
      "6/6 [==============================] - 0s 3ms/step - loss: 2.8030 - accuracy: 0.2678\n",
      "Epoch 41/200\n",
      "6/6 [==============================] - 0s 4ms/step - loss: 2.7461 - accuracy: 0.2787\n",
      "Epoch 42/200\n",
      "6/6 [==============================] - 0s 3ms/step - loss: 2.6953 - accuracy: 0.2951\n",
      "Epoch 43/200\n",
      "6/6 [==============================] - 0s 4ms/step - loss: 2.6358 - accuracy: 0.3005\n",
      "Epoch 44/200\n",
      "6/6 [==============================] - 0s 4ms/step - loss: 2.5801 - accuracy: 0.2951\n",
      "Epoch 45/200\n",
      "6/6 [==============================] - 0s 4ms/step - loss: 2.5287 - accuracy: 0.2951\n",
      "Epoch 46/200\n",
      "6/6 [==============================] - 0s 3ms/step - loss: 2.4713 - accuracy: 0.3388\n",
      "Epoch 47/200\n",
      "6/6 [==============================] - 0s 3ms/step - loss: 2.4176 - accuracy: 0.3497\n",
      "Epoch 48/200\n",
      "6/6 [==============================] - 0s 3ms/step - loss: 2.3649 - accuracy: 0.3825\n",
      "Epoch 49/200\n",
      "6/6 [==============================] - 0s 3ms/step - loss: 2.3063 - accuracy: 0.3934\n",
      "Epoch 50/200\n",
      "6/6 [==============================] - 0s 4ms/step - loss: 2.2623 - accuracy: 0.3880\n",
      "Epoch 51/200\n",
      "6/6 [==============================] - 0s 4ms/step - loss: 2.2056 - accuracy: 0.3934\n",
      "Epoch 52/200\n",
      "6/6 [==============================] - 0s 4ms/step - loss: 2.1607 - accuracy: 0.4153\n",
      "Epoch 53/200\n",
      "6/6 [==============================] - 0s 3ms/step - loss: 2.1082 - accuracy: 0.4262\n",
      "Epoch 54/200\n",
      "6/6 [==============================] - 0s 3ms/step - loss: 2.0607 - accuracy: 0.4536\n",
      "Epoch 55/200\n",
      "6/6 [==============================] - 0s 3ms/step - loss: 2.0083 - accuracy: 0.4699\n",
      "Epoch 56/200\n",
      "6/6 [==============================] - 0s 3ms/step - loss: 1.9612 - accuracy: 0.4973\n",
      "Epoch 57/200\n",
      "6/6 [==============================] - 0s 3ms/step - loss: 1.9143 - accuracy: 0.5137\n",
      "Epoch 58/200\n",
      "6/6 [==============================] - 0s 3ms/step - loss: 1.8740 - accuracy: 0.5464\n",
      "Epoch 59/200\n",
      "6/6 [==============================] - 0s 3ms/step - loss: 1.8231 - accuracy: 0.5574\n",
      "Epoch 60/200\n",
      "6/6 [==============================] - 0s 3ms/step - loss: 1.7782 - accuracy: 0.5902\n",
      "Epoch 61/200\n",
      "6/6 [==============================] - 0s 3ms/step - loss: 1.7342 - accuracy: 0.5956\n",
      "Epoch 62/200\n",
      "6/6 [==============================] - 0s 3ms/step - loss: 1.6887 - accuracy: 0.6175\n",
      "Epoch 63/200\n",
      "6/6 [==============================] - 0s 3ms/step - loss: 1.6513 - accuracy: 0.6011\n",
      "Epoch 64/200\n",
      "6/6 [==============================] - 0s 3ms/step - loss: 1.6094 - accuracy: 0.6066\n",
      "Epoch 65/200\n",
      "6/6 [==============================] - 0s 4ms/step - loss: 1.5558 - accuracy: 0.6393\n",
      "Epoch 66/200\n",
      "6/6 [==============================] - 0s 4ms/step - loss: 1.5249 - accuracy: 0.6393\n",
      "Epoch 67/200\n",
      "6/6 [==============================] - 0s 4ms/step - loss: 1.4799 - accuracy: 0.6667\n",
      "Epoch 68/200\n",
      "6/6 [==============================] - 0s 3ms/step - loss: 1.4395 - accuracy: 0.6721\n",
      "Epoch 69/200\n",
      "6/6 [==============================] - 0s 3ms/step - loss: 1.4013 - accuracy: 0.6995\n",
      "Epoch 70/200\n",
      "6/6 [==============================] - 0s 3ms/step - loss: 1.3611 - accuracy: 0.7104\n",
      "Epoch 71/200\n",
      "6/6 [==============================] - 0s 3ms/step - loss: 1.3298 - accuracy: 0.7377\n",
      "Epoch 72/200\n",
      "6/6 [==============================] - 0s 3ms/step - loss: 1.2898 - accuracy: 0.7322\n",
      "Epoch 73/200\n",
      "6/6 [==============================] - 0s 3ms/step - loss: 1.2517 - accuracy: 0.7322\n",
      "Epoch 74/200\n",
      "6/6 [==============================] - 0s 3ms/step - loss: 1.2197 - accuracy: 0.7377\n",
      "Epoch 75/200\n",
      "6/6 [==============================] - 0s 3ms/step - loss: 1.1803 - accuracy: 0.7760\n",
      "Epoch 76/200\n",
      "6/6 [==============================] - 0s 3ms/step - loss: 1.1430 - accuracy: 0.7814\n",
      "Epoch 77/200\n",
      "6/6 [==============================] - 0s 4ms/step - loss: 1.1106 - accuracy: 0.7923\n",
      "Epoch 78/200\n",
      "6/6 [==============================] - 0s 3ms/step - loss: 1.0753 - accuracy: 0.7869\n",
      "Epoch 79/200\n",
      "6/6 [==============================] - 0s 3ms/step - loss: 1.0486 - accuracy: 0.7760\n",
      "Epoch 80/200\n",
      "6/6 [==============================] - 0s 3ms/step - loss: 1.0149 - accuracy: 0.7923\n",
      "Epoch 81/200\n",
      "6/6 [==============================] - 0s 3ms/step - loss: 0.9822 - accuracy: 0.8033\n",
      "Epoch 82/200\n",
      "6/6 [==============================] - 0s 3ms/step - loss: 0.9578 - accuracy: 0.8142\n",
      "Epoch 83/200\n",
      "6/6 [==============================] - 0s 3ms/step - loss: 0.9216 - accuracy: 0.8306\n",
      "Epoch 84/200\n"
     ]
    },
    {
     "name": "stdout",
     "output_type": "stream",
     "text": [
      "6/6 [==============================] - 0s 3ms/step - loss: 0.8954 - accuracy: 0.8306\n",
      "Epoch 85/200\n",
      "6/6 [==============================] - 0s 3ms/step - loss: 0.8686 - accuracy: 0.8415\n",
      "Epoch 86/200\n",
      "6/6 [==============================] - 0s 3ms/step - loss: 0.8363 - accuracy: 0.8634\n",
      "Epoch 87/200\n",
      "6/6 [==============================] - 0s 3ms/step - loss: 0.8076 - accuracy: 0.8470\n",
      "Epoch 88/200\n",
      "6/6 [==============================] - 0s 3ms/step - loss: 0.7824 - accuracy: 0.8579\n",
      "Epoch 89/200\n",
      "6/6 [==============================] - 0s 4ms/step - loss: 0.7564 - accuracy: 0.8689\n",
      "Epoch 90/200\n",
      "6/6 [==============================] - 0s 3ms/step - loss: 0.7377 - accuracy: 0.8579\n",
      "Epoch 91/200\n",
      "6/6 [==============================] - 0s 3ms/step - loss: 0.7183 - accuracy: 0.8525\n",
      "Epoch 92/200\n",
      "6/6 [==============================] - 0s 3ms/step - loss: 0.6910 - accuracy: 0.8907\n",
      "Epoch 93/200\n",
      "6/6 [==============================] - 0s 3ms/step - loss: 0.6665 - accuracy: 0.8852\n",
      "Epoch 94/200\n",
      "6/6 [==============================] - 0s 3ms/step - loss: 0.6433 - accuracy: 0.8907\n",
      "Epoch 95/200\n",
      "6/6 [==============================] - 0s 3ms/step - loss: 0.6223 - accuracy: 0.8852\n",
      "Epoch 96/200\n",
      "6/6 [==============================] - 0s 3ms/step - loss: 0.6022 - accuracy: 0.8852\n",
      "Epoch 97/200\n",
      "6/6 [==============================] - 0s 3ms/step - loss: 0.5840 - accuracy: 0.8907\n",
      "Epoch 98/200\n",
      "6/6 [==============================] - 0s 3ms/step - loss: 0.5670 - accuracy: 0.9126\n",
      "Epoch 99/200\n",
      "6/6 [==============================] - 0s 3ms/step - loss: 0.5443 - accuracy: 0.9016\n",
      "Epoch 100/200\n",
      "6/6 [==============================] - 0s 3ms/step - loss: 0.5279 - accuracy: 0.9126\n",
      "Epoch 101/200\n",
      "6/6 [==============================] - 0s 3ms/step - loss: 0.5107 - accuracy: 0.9290\n",
      "Epoch 102/200\n",
      "6/6 [==============================] - 0s 3ms/step - loss: 0.4960 - accuracy: 0.9290\n",
      "Epoch 103/200\n",
      "6/6 [==============================] - 0s 3ms/step - loss: 0.4779 - accuracy: 0.9399\n",
      "Epoch 104/200\n",
      "6/6 [==============================] - 0s 3ms/step - loss: 0.4630 - accuracy: 0.9508\n",
      "Epoch 105/200\n",
      "6/6 [==============================] - 0s 3ms/step - loss: 0.4477 - accuracy: 0.9399\n",
      "Epoch 106/200\n",
      "6/6 [==============================] - 0s 3ms/step - loss: 0.4318 - accuracy: 0.9563\n",
      "Epoch 107/200\n",
      "6/6 [==============================] - 0s 4ms/step - loss: 0.4147 - accuracy: 0.9563\n",
      "Epoch 108/200\n",
      "6/6 [==============================] - 0s 3ms/step - loss: 0.4048 - accuracy: 0.9617\n",
      "Epoch 109/200\n",
      "6/6 [==============================] - 0s 3ms/step - loss: 0.3984 - accuracy: 0.9672\n",
      "Epoch 110/200\n",
      "6/6 [==============================] - 0s 3ms/step - loss: 0.3851 - accuracy: 0.9672\n",
      "Epoch 111/200\n",
      "6/6 [==============================] - 0s 3ms/step - loss: 0.3704 - accuracy: 0.9672\n",
      "Epoch 112/200\n",
      "6/6 [==============================] - 0s 3ms/step - loss: 0.3543 - accuracy: 0.9672\n",
      "Epoch 113/200\n",
      "6/6 [==============================] - 0s 3ms/step - loss: 0.3436 - accuracy: 0.9781\n",
      "Epoch 114/200\n",
      "6/6 [==============================] - 0s 4ms/step - loss: 0.3316 - accuracy: 0.9781\n",
      "Epoch 115/200\n",
      "6/6 [==============================] - 0s 3ms/step - loss: 0.3201 - accuracy: 0.9727\n",
      "Epoch 116/200\n",
      "6/6 [==============================] - 0s 3ms/step - loss: 0.3120 - accuracy: 0.9781\n",
      "Epoch 117/200\n",
      "6/6 [==============================] - 0s 3ms/step - loss: 0.3021 - accuracy: 0.9891\n",
      "Epoch 118/200\n",
      "6/6 [==============================] - 0s 3ms/step - loss: 0.2910 - accuracy: 0.9891\n",
      "Epoch 119/200\n",
      "6/6 [==============================] - 0s 3ms/step - loss: 0.2823 - accuracy: 0.9891\n",
      "Epoch 120/200\n",
      "6/6 [==============================] - 0s 3ms/step - loss: 0.2738 - accuracy: 0.9836\n",
      "Epoch 121/200\n",
      "6/6 [==============================] - 0s 3ms/step - loss: 0.2631 - accuracy: 0.9836\n",
      "Epoch 122/200\n",
      "6/6 [==============================] - 0s 3ms/step - loss: 0.2558 - accuracy: 0.9891\n",
      "Epoch 123/200\n",
      "6/6 [==============================] - 0s 3ms/step - loss: 0.2481 - accuracy: 0.9891\n",
      "Epoch 124/200\n",
      "6/6 [==============================] - 0s 3ms/step - loss: 0.2386 - accuracy: 0.9891\n",
      "Epoch 125/200\n",
      "6/6 [==============================] - 0s 3ms/step - loss: 0.2344 - accuracy: 0.9836\n",
      "Epoch 126/200\n",
      "6/6 [==============================] - 0s 4ms/step - loss: 0.2258 - accuracy: 0.9891\n",
      "Epoch 127/200\n",
      "6/6 [==============================] - 0s 4ms/step - loss: 0.2213 - accuracy: 0.9836\n",
      "Epoch 128/200\n",
      "6/6 [==============================] - 0s 3ms/step - loss: 0.2112 - accuracy: 0.9836\n",
      "Epoch 129/200\n",
      "6/6 [==============================] - 0s 3ms/step - loss: 0.2037 - accuracy: 0.9891\n",
      "Epoch 130/200\n",
      "6/6 [==============================] - 0s 3ms/step - loss: 0.1988 - accuracy: 0.9891\n",
      "Epoch 131/200\n",
      "6/6 [==============================] - 0s 3ms/step - loss: 0.1936 - accuracy: 0.9891\n",
      "Epoch 132/200\n",
      "6/6 [==============================] - 0s 3ms/step - loss: 0.1870 - accuracy: 0.9891\n",
      "Epoch 133/200\n",
      "6/6 [==============================] - 0s 3ms/step - loss: 0.1803 - accuracy: 1.0000\n",
      "Epoch 134/200\n",
      "6/6 [==============================] - 0s 3ms/step - loss: 0.1750 - accuracy: 1.0000\n",
      "Epoch 135/200\n",
      "6/6 [==============================] - 0s 3ms/step - loss: 0.1727 - accuracy: 1.0000\n",
      "Epoch 136/200\n",
      "6/6 [==============================] - 0s 3ms/step - loss: 0.1664 - accuracy: 1.0000\n",
      "Epoch 137/200\n",
      "6/6 [==============================] - 0s 3ms/step - loss: 0.1594 - accuracy: 1.0000\n",
      "Epoch 138/200\n",
      "6/6 [==============================] - 0s 3ms/step - loss: 0.1533 - accuracy: 1.0000\n",
      "Epoch 139/200\n",
      "6/6 [==============================] - 0s 3ms/step - loss: 0.1513 - accuracy: 1.0000\n",
      "Epoch 140/200\n",
      "6/6 [==============================] - 0s 3ms/step - loss: 0.1458 - accuracy: 1.0000\n",
      "Epoch 141/200\n",
      "6/6 [==============================] - 0s 4ms/step - loss: 0.1413 - accuracy: 1.0000\n",
      "Epoch 142/200\n",
      "6/6 [==============================] - 0s 3ms/step - loss: 0.1377 - accuracy: 1.0000\n",
      "Epoch 143/200\n",
      "6/6 [==============================] - 0s 3ms/step - loss: 0.1324 - accuracy: 1.0000\n",
      "Epoch 144/200\n",
      "6/6 [==============================] - 0s 3ms/step - loss: 0.1288 - accuracy: 1.0000\n",
      "Epoch 145/200\n",
      "6/6 [==============================] - 0s 3ms/step - loss: 0.1259 - accuracy: 1.0000\n",
      "Epoch 146/200\n",
      "6/6 [==============================] - 0s 3ms/step - loss: 0.1236 - accuracy: 1.0000\n",
      "Epoch 147/200\n",
      "6/6 [==============================] - 0s 3ms/step - loss: 0.1182 - accuracy: 1.0000\n",
      "Epoch 148/200\n",
      "6/6 [==============================] - 0s 3ms/step - loss: 0.1163 - accuracy: 1.0000\n",
      "Epoch 149/200\n",
      "6/6 [==============================] - 0s 4ms/step - loss: 0.1106 - accuracy: 1.0000\n",
      "Epoch 150/200\n",
      "6/6 [==============================] - 0s 4ms/step - loss: 0.1085 - accuracy: 1.0000\n",
      "Epoch 151/200\n",
      "6/6 [==============================] - 0s 4ms/step - loss: 0.1049 - accuracy: 1.0000\n",
      "Epoch 152/200\n",
      "6/6 [==============================] - 0s 3ms/step - loss: 0.1024 - accuracy: 1.0000\n",
      "Epoch 153/200\n",
      "6/6 [==============================] - 0s 3ms/step - loss: 0.0995 - accuracy: 1.0000\n",
      "Epoch 154/200\n",
      "6/6 [==============================] - 0s 3ms/step - loss: 0.0968 - accuracy: 1.0000\n",
      "Epoch 155/200\n",
      "6/6 [==============================] - 0s 3ms/step - loss: 0.0936 - accuracy: 1.0000\n",
      "Epoch 156/200\n",
      "6/6 [==============================] - 0s 3ms/step - loss: 0.0921 - accuracy: 1.0000\n",
      "Epoch 157/200\n",
      "6/6 [==============================] - 0s 6ms/step - loss: 0.0900 - accuracy: 1.0000\n",
      "Epoch 158/200\n",
      "6/6 [==============================] - 0s 4ms/step - loss: 0.0871 - accuracy: 1.0000\n",
      "Epoch 159/200\n",
      "6/6 [==============================] - 0s 5ms/step - loss: 0.0843 - accuracy: 1.0000\n",
      "Epoch 160/200\n",
      "6/6 [==============================] - 0s 4ms/step - loss: 0.0828 - accuracy: 1.0000\n",
      "Epoch 161/200\n",
      "6/6 [==============================] - 0s 4ms/step - loss: 0.0800 - accuracy: 1.0000\n",
      "Epoch 162/200\n",
      "6/6 [==============================] - 0s 3ms/step - loss: 0.0778 - accuracy: 1.0000\n",
      "Epoch 163/200\n",
      "6/6 [==============================] - 0s 3ms/step - loss: 0.0760 - accuracy: 1.0000\n",
      "Epoch 164/200\n",
      "6/6 [==============================] - 0s 3ms/step - loss: 0.0747 - accuracy: 1.0000\n",
      "Epoch 165/200\n",
      "6/6 [==============================] - 0s 3ms/step - loss: 0.0724 - accuracy: 1.0000\n",
      "Epoch 166/200\n",
      "6/6 [==============================] - 0s 3ms/step - loss: 0.0701 - accuracy: 1.0000\n",
      "Epoch 167/200\n"
     ]
    },
    {
     "name": "stdout",
     "output_type": "stream",
     "text": [
      "6/6 [==============================] - 0s 3ms/step - loss: 0.0689 - accuracy: 1.0000\n",
      "Epoch 168/200\n",
      "6/6 [==============================] - 0s 3ms/step - loss: 0.0675 - accuracy: 1.0000\n",
      "Epoch 169/200\n",
      "6/6 [==============================] - 0s 3ms/step - loss: 0.0658 - accuracy: 1.0000\n",
      "Epoch 170/200\n",
      "6/6 [==============================] - 0s 4ms/step - loss: 0.0641 - accuracy: 1.0000\n",
      "Epoch 171/200\n",
      "6/6 [==============================] - 0s 3ms/step - loss: 0.0631 - accuracy: 1.0000\n",
      "Epoch 172/200\n",
      "6/6 [==============================] - 0s 3ms/step - loss: 0.0608 - accuracy: 1.0000\n",
      "Epoch 173/200\n",
      "6/6 [==============================] - 0s 3ms/step - loss: 0.0597 - accuracy: 1.0000\n",
      "Epoch 174/200\n",
      "6/6 [==============================] - 0s 3ms/step - loss: 0.0583 - accuracy: 1.0000\n",
      "Epoch 175/200\n",
      "6/6 [==============================] - 0s 3ms/step - loss: 0.0570 - accuracy: 1.0000\n",
      "Epoch 176/200\n",
      "6/6 [==============================] - 0s 3ms/step - loss: 0.0554 - accuracy: 1.0000\n",
      "Epoch 177/200\n",
      "6/6 [==============================] - 0s 3ms/step - loss: 0.0543 - accuracy: 1.0000\n",
      "Epoch 178/200\n",
      "6/6 [==============================] - 0s 3ms/step - loss: 0.0540 - accuracy: 1.0000\n",
      "Epoch 179/200\n",
      "6/6 [==============================] - 0s 3ms/step - loss: 0.0522 - accuracy: 1.0000\n",
      "Epoch 180/200\n",
      "6/6 [==============================] - 0s 3ms/step - loss: 0.0507 - accuracy: 1.0000\n",
      "Epoch 181/200\n",
      "6/6 [==============================] - 0s 3ms/step - loss: 0.0497 - accuracy: 1.0000\n",
      "Epoch 182/200\n",
      "6/6 [==============================] - 0s 3ms/step - loss: 0.0490 - accuracy: 1.0000\n",
      "Epoch 183/200\n",
      "6/6 [==============================] - 0s 3ms/step - loss: 0.0479 - accuracy: 1.0000\n",
      "Epoch 184/200\n",
      "6/6 [==============================] - 0s 3ms/step - loss: 0.0466 - accuracy: 1.0000\n",
      "Epoch 185/200\n",
      "6/6 [==============================] - 0s 3ms/step - loss: 0.0455 - accuracy: 1.0000\n",
      "Epoch 186/200\n",
      "6/6 [==============================] - 0s 3ms/step - loss: 0.0448 - accuracy: 1.0000\n",
      "Epoch 187/200\n",
      "6/6 [==============================] - 0s 3ms/step - loss: 0.0436 - accuracy: 1.0000\n",
      "Epoch 188/200\n",
      "6/6 [==============================] - 0s 3ms/step - loss: 0.0427 - accuracy: 1.0000\n",
      "Epoch 189/200\n",
      "6/6 [==============================] - 0s 3ms/step - loss: 0.0417 - accuracy: 1.0000\n",
      "Epoch 190/200\n",
      "6/6 [==============================] - 0s 3ms/step - loss: 0.0413 - accuracy: 1.0000\n",
      "Epoch 191/200\n",
      "6/6 [==============================] - 0s 3ms/step - loss: 0.0402 - accuracy: 1.0000\n",
      "Epoch 192/200\n",
      "6/6 [==============================] - 0s 3ms/step - loss: 0.0399 - accuracy: 1.0000\n",
      "Epoch 193/200\n",
      "6/6 [==============================] - 0s 3ms/step - loss: 0.0387 - accuracy: 1.0000\n",
      "Epoch 194/200\n",
      "6/6 [==============================] - 0s 3ms/step - loss: 0.0386 - accuracy: 1.0000\n",
      "Epoch 195/200\n",
      "6/6 [==============================] - 0s 3ms/step - loss: 0.0373 - accuracy: 1.0000\n",
      "Epoch 196/200\n",
      "6/6 [==============================] - 0s 3ms/step - loss: 0.0365 - accuracy: 1.0000\n",
      "Epoch 197/200\n",
      "6/6 [==============================] - 0s 4ms/step - loss: 0.0359 - accuracy: 1.0000\n",
      "Epoch 198/200\n",
      "6/6 [==============================] - 0s 4ms/step - loss: 0.0350 - accuracy: 1.0000\n",
      "Epoch 199/200\n",
      "6/6 [==============================] - 0s 3ms/step - loss: 0.0342 - accuracy: 1.0000\n",
      "Epoch 200/200\n",
      "6/6 [==============================] - 0s 3ms/step - loss: 0.0337 - accuracy: 1.0000\n"
     ]
    },
    {
     "data": {
      "text/plain": [
       "<keras.src.callbacks.History at 0x7f77ef2bd570>"
      ]
     },
     "execution_count": 12,
     "metadata": {},
     "output_type": "execute_result"
    }
   ],
   "source": [
    "model.fit(x, y, epochs=200)"
   ]
  },
  {
   "cell_type": "code",
   "execution_count": 15,
   "id": "db3e7a9e",
   "metadata": {},
   "outputs": [
    {
     "name": "stdout",
     "output_type": "stream",
     "text": [
      "Model: \"sequential\"\n",
      "_________________________________________________________________\n",
      " Layer (type)                Output Shape              Param #   \n",
      "=================================================================\n",
      " embedding (Embedding)       (None, 4, 10)             1010      \n",
      "                                                                 \n",
      " lambda (Lambda)             (None, 10)                0         \n",
      "                                                                 \n",
      " dense (Dense)               (None, 128)               1408      \n",
      "                                                                 \n",
      " dense_1 (Dense)             (None, 64)                8256      \n",
      "                                                                 \n",
      " dense_2 (Dense)             (None, 101)               6565      \n",
      "                                                                 \n",
      "=================================================================\n",
      "Total params: 17239 (67.34 KB)\n",
      "Trainable params: 17239 (67.34 KB)\n",
      "Non-trainable params: 0 (0.00 Byte)\n",
      "_________________________________________________________________\n"
     ]
    }
   ],
   "source": [
    "model.summary()"
   ]
  },
  {
   "cell_type": "code",
   "execution_count": 18,
   "id": "eed71c8e",
   "metadata": {},
   "outputs": [],
   "source": [
    "#weights = model.get_weights()[0]\n",
    "weights = model.get_weights()[0]"
   ]
  },
  {
   "cell_type": "code",
   "execution_count": 19,
   "id": "0fa3e238",
   "metadata": {},
   "outputs": [],
   "source": [
    "#from sklearn.decomposition import PCA\n",
    "from sklearn.decomposition import PCA"
   ]
  },
  {
   "cell_type": "code",
   "execution_count": 20,
   "id": "28004eba",
   "metadata": {},
   "outputs": [],
   "source": [
    "#pca = PCA(2)\n",
    "#reduce_weights = pca.fit_transform(weights)\n",
    "pca = PCA(2)\n",
    "reduce_weights = pca.fit_transform(weights)"
   ]
  },
  {
   "cell_type": "code",
   "execution_count": null,
   "id": "07089330",
   "metadata": {},
   "outputs": [],
   "source": [
    "#############################################"
   ]
  },
  {
   "cell_type": "code",
   "execution_count": 22,
   "id": "5f283480",
   "metadata": {},
   "outputs": [],
   "source": [
    "#import matplotlib.pyplot as plt\n",
    "import matplotlib.pyplot as plt"
   ]
  },
  {
   "cell_type": "code",
   "execution_count": 23,
   "id": "d3235cae",
   "metadata": {},
   "outputs": [
    {
     "data": {
      "image/png": "[encoded data removed]",
      "text/plain": [
       "<Figure size 640x480 with 1 Axes>"
      ]
     },
     "metadata": {},
     "output_type": "display_data"
    }
   ],
   "source": [
    "for i, word in enumerate(tokenizer.word_index.keys()):\n",
    "    x, y = reduce_weights[i]\n",
    "    plt.scatter(x,y)\n",
    "    plt.annotate(word, (x,y))\n",
    "plt.show()"
   ]
  },
  {
   "cell_type": "code",
   "execution_count": null,
   "id": "11add7ad",
   "metadata": {},
   "outputs": [],
   "source": []
  }
 ],
 "metadata": {
  "kernelspec": {
   "display_name": "Python 3 (ipykernel)",
   "language": "python",
   "name": "python3"
  },
  "language_info": {
   "codemirror_mode": {
    "name": "ipython",
    "version": 3
   },
   "file_extension": ".py",
   "mimetype": "text/x-python",
   "name": "python",
   "nbconvert_exporter": "python",
   "pygments_lexer": "ipython3",
   "version": "3.10.12"
  }
 },
 "nbformat": 4,
 "nbformat_minor": 5
}
