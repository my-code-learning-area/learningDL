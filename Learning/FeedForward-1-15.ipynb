{
 "cells": [
  {
   "cell_type": "markdown",
   "id": "99b63179",
   "metadata": {},
   "source": [
    "# Implementing Feedforward neural networks with Keras and TensorFlow for  classification of hand-written MNIST dataset using below steps: \n",
    "* a. Import the necessary packages\n",
    "* b. Load the training and testing data \n",
    "* c. Define the network architecture using Keras \n",
    "* d. Train the model using SGD with 11 epochs\n",
    "* e. Evaluate the network \n",
    "* f. Plot the training loss and accuracy"
   ]
  },
  {
   "cell_type": "markdown",
   "id": "d53a22c3",
   "metadata": {},
   "source": [
    "## A. Import The Necessary Packages"
   ]
  },
  {
   "cell_type": "code",
   "execution_count": 13,
   "id": "95f20da6",
   "metadata": {},
   "outputs": [],
   "source": [
    "import tensorflow as tf\n",
    "from tensorflow.keras.models import Sequential\n",
    "from tensorflow.keras.layers import Dense, Dropout\n",
    "from tensorflow.keras.optimizers import SGD\n",
    "import matplotlib.pyplot as plt\n",
    "\n",
    "import pandas as pd"
   ]
  },
  {
   "cell_type": "markdown",
   "id": "ca68e80c",
   "metadata": {},
   "source": [
    "## B. Load the training and testing data"
   ]
  },
  {
   "cell_type": "code",
   "execution_count": 2,
   "id": "69d21a5f",
   "metadata": {},
   "outputs": [],
   "source": [
    "test = pd.read_csv(\"../datasets/MNIST(Ass2&3)/mnist_test.csv\")\n",
    "train = pd.read_csv(\"../datasets/MNIST(Ass2&3)/mnist_train.csv\")"
   ]
  },
  {
   "cell_type": "code",
   "execution_count": 3,
   "id": "979146b8",
   "metadata": {},
   "outputs": [],
   "source": [
    "x_train = train.drop(\"label\", axis=1)\n",
    "x_test = test.drop(\"label\", axis=1)"
   ]
  },
  {
   "cell_type": "code",
   "execution_count": 4,
   "id": "15be624e",
   "metadata": {},
   "outputs": [],
   "source": [
    "x_train = x_train / 255.0\n",
    "x_test = x_test / 255.0"
   ]
  },
  {
   "cell_type": "code",
   "execution_count": 5,
   "id": "1ff1d1f2",
   "metadata": {},
   "outputs": [],
   "source": [
    "y_train = train[\"label\"]\n",
    "y_test = test[\"label\"]"
   ]
  },
  {
   "cell_type": "code",
   "execution_count": 6,
   "id": "14ce37b6",
   "metadata": {},
   "outputs": [],
   "source": [
    "y_train = tf.keras.utils.to_categorical(y_train)\n",
    "y_test = tf.keras.utils.to_categorical(y_test)"
   ]
  },
  {
   "cell_type": "code",
   "execution_count": 7,
   "id": "d610affa",
   "metadata": {},
   "outputs": [
    {
     "data": {
      "text/plain": [
       "(60000, 784)"
      ]
     },
     "execution_count": 7,
     "metadata": {},
     "output_type": "execute_result"
    }
   ],
   "source": [
    "x_train.shape"
   ]
  },
  {
   "cell_type": "code",
   "execution_count": 8,
   "id": "77645136",
   "metadata": {},
   "outputs": [
    {
     "name": "stderr",
     "output_type": "stream",
     "text": [
      "2023-11-16 17:39:41.315959: I tensorflow/compiler/xla/stream_executor/cuda/cuda_gpu_executor.cc:894] successful NUMA node read from SysFS had negative value (-1), but there must be at least one NUMA node, so returning NUMA node zero. See more at https://github.com/torvalds/linux/blob/v6.0/Documentation/ABI/testing/sysfs-bus-pci#L344-L355\n",
      "2023-11-16 17:39:41.316663: W tensorflow/core/common_runtime/gpu/gpu_device.cc:2211] Cannot dlopen some GPU libraries. Please make sure the missing libraries mentioned above are installed properly if you would like to use GPU. Follow the guide at https://www.tensorflow.org/install/gpu for how to download and setup the required libraries for your platform.\n",
      "Skipping registering GPU devices...\n"
     ]
    }
   ],
   "source": [
    "model = Sequential([\n",
    "    Dense(784, \"relu\"),\n",
    "    Dense(64, \"relu\"),\n",
    "    Dropout(0.2),\n",
    "    Dense(10, \"softmax\")\n",
    "])"
   ]
  },
  {
   "cell_type": "code",
   "execution_count": 9,
   "id": "fa61a2ad",
   "metadata": {},
   "outputs": [],
   "source": [
    "model.compile(SGD(), \"categorical_crossentropy\", metrics=[\"accuracy\"])"
   ]
  },
  {
   "cell_type": "code",
   "execution_count": 10,
   "id": "9df086e4",
   "metadata": {},
   "outputs": [
    {
     "name": "stdout",
     "output_type": "stream",
     "text": [
      "Epoch 1/10\n"
     ]
    },
    {
     "name": "stderr",
     "output_type": "stream",
     "text": [
      "2023-11-16 17:39:41.587826: W tensorflow/tsl/framework/cpu_allocator_impl.cc:83] Allocation of 376320000 exceeds 10% of free system memory.\n"
     ]
    },
    {
     "name": "stdout",
     "output_type": "stream",
     "text": [
      "938/938 [==============================] - 6s 5ms/step - loss: 0.8342 - accuracy: 0.7734\n",
      "Epoch 2/10\n",
      "938/938 [==============================] - 5s 5ms/step - loss: 0.4013 - accuracy: 0.8863\n",
      "Epoch 3/10\n",
      "938/938 [==============================] - 5s 5ms/step - loss: 0.3293 - accuracy: 0.9066\n",
      "Epoch 4/10\n",
      "938/938 [==============================] - 5s 5ms/step - loss: 0.2853 - accuracy: 0.9196\n",
      "Epoch 5/10\n",
      "938/938 [==============================] - 5s 5ms/step - loss: 0.2574 - accuracy: 0.9273\n",
      "Epoch 6/10\n",
      "938/938 [==============================] - 5s 5ms/step - loss: 0.2328 - accuracy: 0.9339\n",
      "Epoch 7/10\n",
      "938/938 [==============================] - 5s 5ms/step - loss: 0.2132 - accuracy: 0.9399\n",
      "Epoch 8/10\n",
      "938/938 [==============================] - 5s 5ms/step - loss: 0.1980 - accuracy: 0.9444\n",
      "Epoch 9/10\n",
      "938/938 [==============================] - 5s 5ms/step - loss: 0.1857 - accuracy: 0.9474\n",
      "Epoch 10/10\n",
      "938/938 [==============================] - 5s 6ms/step - loss: 0.1737 - accuracy: 0.9504\n"
     ]
    }
   ],
   "source": [
    "M = model.fit(x_train, y_train, batch_size=64, epochs=10)"
   ]
  },
  {
   "cell_type": "code",
   "execution_count": 11,
   "id": "c236f41b",
   "metadata": {},
   "outputs": [
    {
     "name": "stdout",
     "output_type": "stream",
     "text": [
      "313/313 [==============================] - 1s 2ms/step - loss: 0.1422 - accuracy: 0.9582\n"
     ]
    },
    {
     "data": {
      "text/plain": [
       "[0.14222204685211182, 0.9581999778747559]"
      ]
     },
     "execution_count": 11,
     "metadata": {},
     "output_type": "execute_result"
    }
   ],
   "source": [
    "model.evaluate(x_test, y_test)"
   ]
  },
  {
   "cell_type": "code",
   "execution_count": 14,
   "id": "c1f64f4a",
   "metadata": {},
   "outputs": [
    {
     "data": {
      "text/plain": [
       "[<matplotlib.lines.Line2D at 0x7f2130f364a0>]"
      ]
     },
     "execution_count": 14,
     "metadata": {},
     "output_type": "execute_result"
    },
    {
     "data": {
      "image/png": "[encoded data removed]",
      "text/plain": [
       "<Figure size 640x480 with 1 Axes>"
      ]
     },
     "metadata": {},
     "output_type": "display_data"
    }
   ],
   "source": [
    "plt.plot(M.history[\"accuracy\"])"
   ]
  },
  {
   "cell_type": "code",
   "execution_count": 15,
   "id": "50061462",
   "metadata": {},
   "outputs": [
    {
     "data": {
      "text/plain": [
       "[<matplotlib.lines.Line2D at 0x7f2130fe3fa0>]"
      ]
     },
     "execution_count": 15,
     "metadata": {},
     "output_type": "execute_result"
    },
    {
     "data": {
      "image/png": "[encoded data removed]",
      "text/plain": [
       "<Figure size 640x480 with 1 Axes>"
      ]
     },
     "metadata": {},
     "output_type": "display_data"
    }
   ],
   "source": [
    "plt.plot(M.history[\"loss\"])"
   ]
  },
  {
   "cell_type": "code",
   "execution_count": null,
   "id": "d0075982",
   "metadata": {},
   "outputs": [],
   "source": []
  }
 ],
 "metadata": {
  "kernelspec": {
   "display_name": "Python 3 (ipykernel)",
   "language": "python",
   "name": "python3"
  },
  "language_info": {
   "codemirror_mode": {
    "name": "ipython",
    "version": 3
   },
   "file_extension": ".py",
   "mimetype": "text/x-python",
   "name": "python",
   "nbconvert_exporter": "python",
   "pygments_lexer": "ipython3",
   "version": "3.10.12"
  }
 },
 "nbformat": 4,
 "nbformat_minor": 5
}
