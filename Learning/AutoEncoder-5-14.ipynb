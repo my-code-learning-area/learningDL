{
 "cells": [
  {
   "cell_type": "code",
   "execution_count": 1,
   "id": "c5e0b8dc",
   "metadata": {},
   "outputs": [],
   "source": [
    "import pandas as pd\n",
    "import numpy as np\n",
    "from sklearn.model_selection import train_test_split"
   ]
  },
  {
   "cell_type": "code",
   "execution_count": 2,
   "id": "ab8713eb",
   "metadata": {},
   "outputs": [],
   "source": [
    "data = pd.read_csv(\"../datasets/ECGdataset(Ass4)/ecg_autoencoder_dataset.csv\")"
   ]
  },
  {
   "cell_type": "code",
   "execution_count": 3,
   "id": "1915645f",
   "metadata": {},
   "outputs": [
    {
     "data": {
      "text/plain": [
       "array([[-1.1008778 , -3.9968398 , -4.2858426 , ...,  1.1196209 ,\n",
       "        -1.4362499 ,  1.        ],\n",
       "       [-0.56708802, -2.5934502 , -3.8742297 , ...,  0.90422673,\n",
       "        -0.42179659,  1.        ],\n",
       "       [ 0.49047253, -1.9144071 , -3.6163638 , ...,  1.403011  ,\n",
       "        -0.38356426,  1.        ],\n",
       "       ...,\n",
       "       [-1.1229693 , -2.2529248 , -2.8676281 , ..., -2.0083694 ,\n",
       "        -1.8083338 ,  0.        ],\n",
       "       [-0.54770461, -1.8895451 , -2.8397786 , ...,  1.1504486 ,\n",
       "         0.80493225,  0.        ],\n",
       "       [-1.3517791 , -2.2090058 , -2.5202247 , ..., -1.577823  ,\n",
       "        -0.68453092,  0.        ]])"
      ]
     },
     "execution_count": 3,
     "metadata": {},
     "output_type": "execute_result"
    }
   ],
   "source": [
    "x = data.values\n",
    "x"
   ]
  },
  {
   "cell_type": "code",
   "execution_count": 4,
   "id": "255f333f",
   "metadata": {},
   "outputs": [
    {
     "data": {
      "text/plain": [
       "array([0., 0., 0., ..., 0., 0., 0.])"
      ]
     },
     "execution_count": 4,
     "metadata": {},
     "output_type": "execute_result"
    }
   ],
   "source": [
    "y = np.zeros(x.shape[0])\n",
    "y"
   ]
  },
  {
   "cell_type": "code",
   "execution_count": 5,
   "id": "e5fe2231",
   "metadata": {},
   "outputs": [],
   "source": [
    "x_train, x_test, y_train, y_test = train_test_split(x, y, test_size=0.25, random_state=40)"
   ]
  },
  {
   "cell_type": "code",
   "execution_count": 29,
   "id": "f9cfe090",
   "metadata": {},
   "outputs": [],
   "source": [
    "import tensorflow as tf\n",
    "from tensorflow.keras.models import Sequential\n",
    "from tensorflow.keras.layers import Dense, InputLayer\n",
    "from sklearn.preprocessing import StandardScaler"
   ]
  },
  {
   "cell_type": "code",
   "execution_count": 7,
   "id": "58737935",
   "metadata": {},
   "outputs": [],
   "source": [
    "scaler = StandardScaler()\n",
    "x_train = scaler.fit_transform(x_train)\n",
    "x_test = scaler.transform(x_test)"
   ]
  },
  {
   "cell_type": "code",
   "execution_count": 8,
   "id": "95e152f4",
   "metadata": {},
   "outputs": [],
   "source": [
    "input_dim = x_train.shape[1]\n",
    "embedding_dim = 16"
   ]
  },
  {
   "cell_type": "code",
   "execution_count": 30,
   "id": "e5eb8f5a",
   "metadata": {},
   "outputs": [],
   "source": [
    "encoder = Sequential([\n",
    "    InputLayer(input_dim),\n",
    "    Dense(32, \"relu\"),\n",
    "    Dense(embedding_dim, \"relu\")\n",
    "])"
   ]
  },
  {
   "cell_type": "code",
   "execution_count": 10,
   "id": "f24d3637",
   "metadata": {},
   "outputs": [],
   "source": [
    "decoder = Sequential([\n",
    "    InputLayer(embedding_dim),\n",
    "    Dense(32, \"relu\"),\n",
    "    Dense(input_dim, \"sigmoid\")\n",
    "])"
   ]
  },
  {
   "cell_type": "code",
   "execution_count": 11,
   "id": "3b364298",
   "metadata": {},
   "outputs": [],
   "source": [
    "autoencoder = Sequential([encoder, decoder])"
   ]
  },
  {
   "cell_type": "code",
   "execution_count": 12,
   "id": "d1acfd7f",
   "metadata": {},
   "outputs": [],
   "source": [
    "from tensorflow.keras.optimizers import Adam"
   ]
  },
  {
   "cell_type": "code",
   "execution_count": 13,
   "id": "819c5fa4",
   "metadata": {},
   "outputs": [],
   "source": [
    "autoencoder.compile(\"adam\", \"mean_squared_error\")"
   ]
  },
  {
   "cell_type": "code",
   "execution_count": 14,
   "id": "72c2ad47",
   "metadata": {},
   "outputs": [
    {
     "name": "stdout",
     "output_type": "stream",
     "text": [
      "Epoch 1/10\n",
      "118/118 [==============================] - 1s 3ms/step - loss: 0.0684 - val_loss: 2.0257e-04\n",
      "Epoch 2/10\n",
      "118/118 [==============================] - 0s 2ms/step - loss: 1.1062e-04 - val_loss: 6.0771e-05\n",
      "Epoch 3/10\n",
      "118/118 [==============================] - 0s 2ms/step - loss: 4.0187e-05 - val_loss: 2.8453e-05\n",
      "Epoch 4/10\n",
      "118/118 [==============================] - 0s 2ms/step - loss: 1.9915e-05 - val_loss: 1.6314e-05\n",
      "Epoch 5/10\n",
      "118/118 [==============================] - 0s 2ms/step - loss: 1.1494e-05 - val_loss: 1.0174e-05\n",
      "Epoch 6/10\n",
      "118/118 [==============================] - 0s 2ms/step - loss: 6.8988e-06 - val_loss: 6.8398e-06\n",
      "Epoch 7/10\n",
      "118/118 [==============================] - 0s 2ms/step - loss: 4.6278e-06 - val_loss: 4.9095e-06\n",
      "Epoch 8/10\n",
      "118/118 [==============================] - 0s 2ms/step - loss: 3.3105e-06 - val_loss: 3.6754e-06\n",
      "Epoch 9/10\n",
      "118/118 [==============================] - 0s 2ms/step - loss: 2.4613e-06 - val_loss: 2.8784e-06\n",
      "Epoch 10/10\n",
      "118/118 [==============================] - 0s 2ms/step - loss: 1.8911e-06 - val_loss: 2.3079e-06\n"
     ]
    },
    {
     "data": {
      "text/plain": [
       "<keras.src.callbacks.History at 0x7f0f244e7f10>"
      ]
     },
     "execution_count": 14,
     "metadata": {},
     "output_type": "execute_result"
    }
   ],
   "source": [
    "autoencoder.fit(x_train, y_train, 32, 10, validation_data=(x_test, y_test))"
   ]
  },
  {
   "cell_type": "code",
   "execution_count": 15,
   "id": "2fbba313",
   "metadata": {},
   "outputs": [
    {
     "name": "stdout",
     "output_type": "stream",
     "text": [
      "Model: \"sequential_2\"\n",
      "_________________________________________________________________\n",
      " Layer (type)                Output Shape              Param #   \n",
      "=================================================================\n",
      " sequential (Sequential)     (None, 16)                5072      \n",
      "                                                                 \n",
      " sequential_1 (Sequential)   (None, 141)               5197      \n",
      "                                                                 \n",
      "=================================================================\n",
      "Total params: 10269 (40.11 KB)\n",
      "Trainable params: 10269 (40.11 KB)\n",
      "Non-trainable params: 0 (0.00 Byte)\n",
      "_________________________________________________________________\n"
     ]
    }
   ],
   "source": [
    "autoencoder.summary()"
   ]
  },
  {
   "cell_type": "code",
   "execution_count": 20,
   "id": "5d589fb3",
   "metadata": {},
   "outputs": [
    {
     "name": "stdout",
     "output_type": "stream",
     "text": [
      "40/40 [==============================] - 0s 1ms/step\n"
     ]
    },
    {
     "data": {
      "text/plain": [
       "array([ 0.62064205,  0.14980479, -0.15823695, ...,  0.29968936,\n",
       "        0.14332785, -0.47080659])"
      ]
     },
     "execution_count": 20,
     "metadata": {},
     "output_type": "execute_result"
    }
   ],
   "source": [
    "predictions = autoencoder.predict(x_test)\n",
    "mse = np.mean((x_test - predictions) * 2, axis=1)\n",
    "mse"
   ]
  },
  {
   "cell_type": "code",
   "execution_count": 23,
   "id": "5cbdabfe",
   "metadata": {},
   "outputs": [
    {
     "data": {
      "text/plain": [
       "array([1, 0, 0, ..., 0, 0, 0])"
      ]
     },
     "execution_count": 23,
     "metadata": {},
     "output_type": "execute_result"
    }
   ],
   "source": [
    "threshold = np.percentile(mse, 95)\n",
    "y_test_pred = np.where(mse > threshold, 1, 0)\n",
    "y_test_pred"
   ]
  },
  {
   "cell_type": "code",
   "execution_count": 28,
   "id": "052ea736",
   "metadata": {},
   "outputs": [
    {
     "data": {
      "text/plain": [
       "0.9496"
      ]
     },
     "execution_count": 28,
     "metadata": {},
     "output_type": "execute_result"
    }
   ],
   "source": [
    "from sklearn.metrics import accuracy_score\n",
    "accuracy_score(y_test, y_test_pred)"
   ]
  }
 ],
 "metadata": {
  "kernelspec": {
   "display_name": "Python 3 (ipykernel)",
   "language": "python",
   "name": "python3"
  },
  "language_info": {
   "codemirror_mode": {
    "name": "ipython",
    "version": 3
   },
   "file_extension": ".py",
   "mimetype": "text/x-python",
   "name": "python",
   "nbconvert_exporter": "python",
   "pygments_lexer": "ipython3",
   "version": "3.10.12"
  }
 },
 "nbformat": 4,
 "nbformat_minor": 5
}
