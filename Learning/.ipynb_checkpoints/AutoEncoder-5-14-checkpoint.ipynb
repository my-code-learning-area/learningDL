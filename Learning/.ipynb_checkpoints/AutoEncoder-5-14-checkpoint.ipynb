{
 "cells": [
  {
   "cell_type": "code",
   "execution_count": 1,
   "id": "d1db5f81",
   "metadata": {},
   "outputs": [],
   "source": [
    "import pandas as pd\n",
    "import numpy as np\n",
    "from sklearn.model_selection import train_test_split"
   ]
  },
  {
   "cell_type": "code",
   "execution_count": 2,
   "id": "403c8c50",
   "metadata": {},
   "outputs": [],
   "source": [
    "data = pd.read_csv(\"../datasets/ECGdataset(Ass4)/ecg_autoencoder_dataset.csv\")"
   ]
  },
  {
   "cell_type": "code",
   "execution_count": 3,
   "id": "3dc6a4e1",
   "metadata": {},
   "outputs": [
    {
     "data": {
      "text/plain": [
       "array([[-1.1008778 , -3.9968398 , -4.2858426 , ...,  1.1196209 ,\n",
       "        -1.4362499 ,  1.        ],\n",
       "       [-0.56708802, -2.5934502 , -3.8742297 , ...,  0.90422673,\n",
       "        -0.42179659,  1.        ],\n",
       "       [ 0.49047253, -1.9144071 , -3.6163638 , ...,  1.403011  ,\n",
       "        -0.38356426,  1.        ],\n",
       "       ...,\n",
       "       [-1.1229693 , -2.2529248 , -2.8676281 , ..., -2.0083694 ,\n",
       "        -1.8083338 ,  0.        ],\n",
       "       [-0.54770461, -1.8895451 , -2.8397786 , ...,  1.1504486 ,\n",
       "         0.80493225,  0.        ],\n",
       "       [-1.3517791 , -2.2090058 , -2.5202247 , ..., -1.577823  ,\n",
       "        -0.68453092,  0.        ]])"
      ]
     },
     "execution_count": 3,
     "metadata": {},
     "output_type": "execute_result"
    }
   ],
   "source": [
    "x = data.values\n",
    "x"
   ]
  },
  {
   "cell_type": "code",
   "execution_count": 4,
   "id": "299cdc8f",
   "metadata": {},
   "outputs": [
    {
     "data": {
      "text/plain": [
       "array([0., 0., 0., ..., 0., 0., 0.])"
      ]
     },
     "execution_count": 4,
     "metadata": {},
     "output_type": "execute_result"
    }
   ],
   "source": [
    "y = np.zeros(x.shape[0])\n",
    "y"
   ]
  },
  {
   "cell_type": "code",
   "execution_count": 5,
   "id": "827de4fb",
   "metadata": {},
   "outputs": [],
   "source": [
    "x_train, x_test, y_train, y_test = train_test_split(x, y, test_size=0.25, random_state=40)"
   ]
  },
  {
   "cell_type": "code",
   "execution_count": 6,
   "id": "95c1cf49",
   "metadata": {},
   "outputs": [
    {
     "name": "stderr",
     "output_type": "stream",
     "text": [
      "2023-11-16 16:00:14.027996: I tensorflow/tsl/cuda/cudart_stub.cc:28] Could not find cuda drivers on your machine, GPU will not be used.\n",
      "2023-11-16 16:00:14.072576: E tensorflow/compiler/xla/stream_executor/cuda/cuda_dnn.cc:9342] Unable to register cuDNN factory: Attempting to register factory for plugin cuDNN when one has already been registered\n",
      "2023-11-16 16:00:14.072620: E tensorflow/compiler/xla/stream_executor/cuda/cuda_fft.cc:609] Unable to register cuFFT factory: Attempting to register factory for plugin cuFFT when one has already been registered\n",
      "2023-11-16 16:00:14.072659: E tensorflow/compiler/xla/stream_executor/cuda/cuda_blas.cc:1518] Unable to register cuBLAS factory: Attempting to register factory for plugin cuBLAS when one has already been registered\n",
      "2023-11-16 16:00:14.081192: I tensorflow/tsl/cuda/cudart_stub.cc:28] Could not find cuda drivers on your machine, GPU will not be used.\n",
      "2023-11-16 16:00:14.081453: I tensorflow/core/platform/cpu_feature_guard.cc:182] This TensorFlow binary is optimized to use available CPU instructions in performance-critical operations.\n",
      "To enable the following instructions: AVX2 FMA, in other operations, rebuild TensorFlow with the appropriate compiler flags.\n",
      "2023-11-16 16:00:15.040217: W tensorflow/compiler/tf2tensorrt/utils/py_utils.cc:38] TF-TRT Warning: Could not find TensorRT\n"
     ]
    }
   ],
   "source": [
    "import tensorflow as tf\n",
    "from tensorflow.keras.models import Sequential\n",
    "from tensorflow.keras.layers import Dense, InputLayer\n",
    "from sklearn.preprocessing import StandardScaler"
   ]
  },
  {
   "cell_type": "code",
   "execution_count": 7,
   "id": "2c01e81b",
   "metadata": {},
   "outputs": [],
   "source": [
    "scaler = StandardScaler()\n",
    "x_train = scaler.fit_transform(x_train)\n",
    "x_test = scaler.transform(x_test)"
   ]
  },
  {
   "cell_type": "code",
   "execution_count": 8,
   "id": "34c5516a",
   "metadata": {},
   "outputs": [],
   "source": [
    "input_dim = x_train.shape[1]\n",
    "embedding_dim = 16"
   ]
  },
  {
   "cell_type": "code",
   "execution_count": 9,
   "id": "c23ce8d2",
   "metadata": {},
   "outputs": [
    {
     "name": "stderr",
     "output_type": "stream",
     "text": [
      "2023-11-16 16:00:15.743423: I tensorflow/compiler/xla/stream_executor/cuda/cuda_gpu_executor.cc:894] successful NUMA node read from SysFS had negative value (-1), but there must be at least one NUMA node, so returning NUMA node zero. See more at https://github.com/torvalds/linux/blob/v6.0/Documentation/ABI/testing/sysfs-bus-pci#L344-L355\n",
      "2023-11-16 16:00:15.743888: W tensorflow/core/common_runtime/gpu/gpu_device.cc:2211] Cannot dlopen some GPU libraries. Please make sure the missing libraries mentioned above are installed properly if you would like to use GPU. Follow the guide at https://www.tensorflow.org/install/gpu for how to download and setup the required libraries for your platform.\n",
      "Skipping registering GPU devices...\n"
     ]
    }
   ],
   "source": [
    "encoder = Sequential([\n",
    "    InputLayer(input_dim),\n",
    "    Dense(32, \"relu\"),\n",
    "    Dense(embedding_dim, \"relu\")\n",
    "])"
   ]
  },
  {
   "cell_type": "code",
   "execution_count": 10,
   "id": "09d0df21",
   "metadata": {},
   "outputs": [],
   "source": [
    "decoder = Sequential([\n",
    "    InputLayer(embedding_dim),\n",
    "    Dense(32, \"relu\"),\n",
    "    Dense(input_dim, \"sigmoid\")\n",
    "])"
   ]
  },
  {
   "cell_type": "code",
   "execution_count": 11,
   "id": "1a00b847",
   "metadata": {},
   "outputs": [],
   "source": [
    "autoencoder = Sequential([encoder, decoder])"
   ]
  },
  {
   "cell_type": "code",
   "execution_count": 12,
   "id": "93bb2ef3",
   "metadata": {},
   "outputs": [],
   "source": [
    "from tensorflow.keras.optimizers import Adam"
   ]
  },
  {
   "cell_type": "code",
   "execution_count": 13,
   "id": "ca30c9bc",
   "metadata": {},
   "outputs": [],
   "source": [
    "autoencoder.compile(\"adam\", \"mean_squared_error\")"
   ]
  },
  {
   "cell_type": "code",
   "execution_count": 14,
   "id": "d62d9527",
   "metadata": {},
   "outputs": [
    {
     "name": "stdout",
     "output_type": "stream",
     "text": [
      "Epoch 1/10\n",
      "118/118 [==============================] - 1s 3ms/step - loss: 0.0684 - val_loss: 2.0257e-04\n",
      "Epoch 2/10\n",
      "118/118 [==============================] - 0s 2ms/step - loss: 1.1062e-04 - val_loss: 6.0771e-05\n",
      "Epoch 3/10\n",
      "118/118 [==============================] - 0s 2ms/step - loss: 4.0187e-05 - val_loss: 2.8453e-05\n",
      "Epoch 4/10\n",
      "118/118 [==============================] - 0s 2ms/step - loss: 1.9915e-05 - val_loss: 1.6314e-05\n",
      "Epoch 5/10\n",
      "118/118 [==============================] - 0s 2ms/step - loss: 1.1494e-05 - val_loss: 1.0174e-05\n",
      "Epoch 6/10\n",
      "118/118 [==============================] - 0s 2ms/step - loss: 6.8988e-06 - val_loss: 6.8398e-06\n",
      "Epoch 7/10\n",
      "118/118 [==============================] - 0s 2ms/step - loss: 4.6278e-06 - val_loss: 4.9095e-06\n",
      "Epoch 8/10\n",
      "118/118 [==============================] - 0s 2ms/step - loss: 3.3105e-06 - val_loss: 3.6754e-06\n",
      "Epoch 9/10\n",
      "118/118 [==============================] - 0s 2ms/step - loss: 2.4613e-06 - val_loss: 2.8784e-06\n",
      "Epoch 10/10\n",
      "118/118 [==============================] - 0s 2ms/step - loss: 1.8911e-06 - val_loss: 2.3079e-06\n"
     ]
    },
    {
     "data": {
      "text/plain": [
       "<keras.src.callbacks.History at 0x7f0f244e7f10>"
      ]
     },
     "execution_count": 14,
     "metadata": {},
     "output_type": "execute_result"
    }
   ],
   "source": [
    "autoencoder.fit(x_train, y_train, 32, 10, validation_data=(x_test, y_test))"
   ]
  },
  {
   "cell_type": "code",
   "execution_count": 15,
   "id": "53b97b15",
   "metadata": {},
   "outputs": [
    {
     "name": "stdout",
     "output_type": "stream",
     "text": [
      "Model: \"sequential_2\"\n",
      "_________________________________________________________________\n",
      " Layer (type)                Output Shape              Param #   \n",
      "=================================================================\n",
      " sequential (Sequential)     (None, 16)                5072      \n",
      "                                                                 \n",
      " sequential_1 (Sequential)   (None, 141)               5197      \n",
      "                                                                 \n",
      "=================================================================\n",
      "Total params: 10269 (40.11 KB)\n",
      "Trainable params: 10269 (40.11 KB)\n",
      "Non-trainable params: 0 (0.00 Byte)\n",
      "_________________________________________________________________\n"
     ]
    }
   ],
   "source": [
    "autoencoder.summary()"
   ]
  },
  {
   "cell_type": "code",
   "execution_count": 20,
   "id": "0690cb4f",
   "metadata": {},
   "outputs": [
    {
     "name": "stdout",
     "output_type": "stream",
     "text": [
      "40/40 [==============================] - 0s 1ms/step\n"
     ]
    },
    {
     "data": {
      "text/plain": [
       "array([ 0.62064205,  0.14980479, -0.15823695, ...,  0.29968936,\n",
       "        0.14332785, -0.47080659])"
      ]
     },
     "execution_count": 20,
     "metadata": {},
     "output_type": "execute_result"
    }
   ],
   "source": [
    "predictions = autoencoder.predict(x_test)\n",
    "mse = np.mean((x_test - predictions) * 2, axis=1)\n",
    "mse"
   ]
  },
  {
   "cell_type": "code",
   "execution_count": 23,
   "id": "e16e78bc",
   "metadata": {},
   "outputs": [
    {
     "data": {
      "text/plain": [
       "array([1, 0, 0, ..., 0, 0, 0])"
      ]
     },
     "execution_count": 23,
     "metadata": {},
     "output_type": "execute_result"
    }
   ],
   "source": [
    "threshold = np.percentile(mse, 95)\n",
    "y_test_pred = np.where(mse > threshold, 1, 0)\n",
    "y_test_pred"
   ]
  },
  {
   "cell_type": "code",
   "execution_count": 26,
   "id": "cb91edce",
   "metadata": {},
   "outputs": [
    {
     "data": {
      "text/plain": [
       "0.9496"
      ]
     },
     "execution_count": 26,
     "metadata": {},
     "output_type": "execute_result"
    }
   ],
   "source": [
    "from sklearn.metrics import accuracy_score\n",
    "accuracy_score(y_test, y_test_pred)"
   ]
  },
  {
   "cell_type": "code",
   "execution_count": null,
   "id": "e21c428f",
   "metadata": {},
   "outputs": [],
   "source": []
  }
 ],
 "metadata": {
  "kernelspec": {
   "display_name": "Python 3 (ipykernel)",
   "language": "python",
   "name": "python3"
  },
  "language_info": {
   "codemirror_mode": {
    "name": "ipython",
    "version": 3
   },
   "file_extension": ".py",
   "mimetype": "text/x-python",
   "name": "python",
   "nbconvert_exporter": "python",
   "pygments_lexer": "ipython3",
   "version": "3.10.12"
  }
 },
 "nbformat": 4,
 "nbformat_minor": 5
}
