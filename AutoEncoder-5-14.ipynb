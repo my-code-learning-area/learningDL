{
 "cells": [
  {
   "cell_type": "markdown",
   "id": "2f483c3b",
   "metadata": {},
   "source": [
    "# Implement anomaly detection for given credit card dataset using Autoencoder and  build the model by using the following steps:\n",
    "* a. Import required libraries\n",
    "* b. Upload / access the dataset\n",
    "* c. Encoder converts it into latent representation\n",
    "* d. Decoder networks convert it back to the original input\n",
    "* e. Compile the models with Optimizer, Loss, and Evaluation Metrics"
   ]
  },
  {
   "cell_type": "code",
   "execution_count": 1,
   "id": "c5e0b8dc",
   "metadata": {},
   "outputs": [],
   "source": [
    "import pandas as pd\n",
    "import numpy as np\n",
    "from sklearn.model_selection import train_test_split"
   ]
  },
  {
   "cell_type": "code",
   "execution_count": 2,
   "id": "ab8713eb",
   "metadata": {},
   "outputs": [],
   "source": [
    "data = pd.read_csv(\"../datasets/ECGdataset(Ass4)/ecg_autoencoder_dataset.csv\")"
   ]
  },
  {
   "cell_type": "code",
   "execution_count": 3,
   "id": "1915645f",
   "metadata": {},
   "outputs": [
    {
     "data": {
      "text/plain": [
       "array([[-1.1008778 , -3.9968398 , -4.2858426 , ...,  1.1196209 ,\n",
       "        -1.4362499 ,  1.        ],\n",
       "       [-0.56708802, -2.5934502 , -3.8742297 , ...,  0.90422673,\n",
       "        -0.42179659,  1.        ],\n",
       "       [ 0.49047253, -1.9144071 , -3.6163638 , ...,  1.403011  ,\n",
       "        -0.38356426,  1.        ],\n",
       "       ...,\n",
       "       [-1.1229693 , -2.2529248 , -2.8676281 , ..., -2.0083694 ,\n",
       "        -1.8083338 ,  0.        ],\n",
       "       [-0.54770461, -1.8895451 , -2.8397786 , ...,  1.1504486 ,\n",
       "         0.80493225,  0.        ],\n",
       "       [-1.3517791 , -2.2090058 , -2.5202247 , ..., -1.577823  ,\n",
       "        -0.68453092,  0.        ]])"
      ]
     },
     "execution_count": 3,
     "metadata": {},
     "output_type": "execute_result"
    }
   ],
   "source": [
    "x = data.values\n",
    "x"
   ]
  },
  {
   "cell_type": "code",
   "execution_count": 4,
   "id": "255f333f",
   "metadata": {},
   "outputs": [
    {
     "data": {
      "text/plain": [
       "array([0., 0., 0., ..., 0., 0., 0.])"
      ]
     },
     "execution_count": 4,
     "metadata": {},
     "output_type": "execute_result"
    }
   ],
   "source": [
    "y = np.zeros(x.shape[0])\n",
    "y"
   ]
  },
  {
   "cell_type": "code",
   "execution_count": 5,
   "id": "e5fe2231",
   "metadata": {},
   "outputs": [],
   "source": [
    "x_train, x_test, y_train, y_test = train_test_split(x, y, test_size=0.25, random_state=40)"
   ]
  },
  {
   "cell_type": "code",
   "execution_count": 7,
   "id": "f9cfe090",
   "metadata": {},
   "outputs": [],
   "source": [
    "import tensorflow as tf\n",
    "from tensorflow.keras.models import Sequential\n",
    "from tensorflow.keras.layers import Dense, InputLayer\n",
    "from sklearn.preprocessing import StandardScaler"
   ]
  },
  {
   "cell_type": "code",
   "execution_count": 8,
   "id": "58737935",
   "metadata": {},
   "outputs": [],
   "source": [
    "scaler = StandardScaler()\n",
    "x_train = scaler.fit_transform(x_train)\n",
    "x_test = scaler.transform(x_test)"
   ]
  },
  {
   "cell_type": "code",
   "execution_count": 11,
   "id": "52640b92",
   "metadata": {},
   "outputs": [
    {
     "data": {
      "text/plain": [
       "(3747, 141)"
      ]
     },
     "execution_count": 11,
     "metadata": {},
     "output_type": "execute_result"
    }
   ],
   "source": [
    "x_train.shape"
   ]
  },
  {
   "cell_type": "code",
   "execution_count": 18,
   "id": "95e152f4",
   "metadata": {},
   "outputs": [
    {
     "data": {
      "text/plain": [
       "141"
      ]
     },
     "execution_count": 18,
     "metadata": {},
     "output_type": "execute_result"
    }
   ],
   "source": [
    "input_dim = x_train.shape[1]\n",
    "embedding_dim = 16\n",
    "\n",
    "input_dim"
   ]
  },
  {
   "cell_type": "code",
   "execution_count": 19,
   "id": "e5eb8f5a",
   "metadata": {},
   "outputs": [],
   "source": [
    "encoder = Sequential([\n",
    "    InputLayer(input_dim),\n",
    "    Dense(32, \"relu\"),\n",
    "    Dense(embedding_dim, \"relu\")\n",
    "])"
   ]
  },
  {
   "cell_type": "code",
   "execution_count": 20,
   "id": "f24d3637",
   "metadata": {},
   "outputs": [],
   "source": [
    "decoder = Sequential([\n",
    "    InputLayer(embedding_dim),\n",
    "    Dense(32, \"relu\"),\n",
    "    Dense(input_dim, \"sigmoid\")\n",
    "])"
   ]
  },
  {
   "cell_type": "code",
   "execution_count": 21,
   "id": "3b364298",
   "metadata": {},
   "outputs": [],
   "source": [
    "autoencoder = Sequential([encoder, decoder])"
   ]
  },
  {
   "cell_type": "code",
   "execution_count": 22,
   "id": "d1acfd7f",
   "metadata": {},
   "outputs": [],
   "source": [
    "from tensorflow.keras.optimizers import Adam"
   ]
  },
  {
   "cell_type": "code",
   "execution_count": 23,
   "id": "819c5fa4",
   "metadata": {},
   "outputs": [],
   "source": [
    "autoencoder.compile(\"adam\", \"mean_squared_error\")"
   ]
  },
  {
   "cell_type": "code",
   "execution_count": 26,
   "id": "72c2ad47",
   "metadata": {},
   "outputs": [
    {
     "name": "stdout",
     "output_type": "stream",
     "text": [
      "Epoch 1/10\n",
      "32/32 [==============================] - 0s 3ms/step - loss: 4.6710e-07 - val_loss: 2.6026e-07\n",
      "Epoch 2/10\n",
      "32/32 [==============================] - 0s 3ms/step - loss: 4.4461e-07 - val_loss: 2.4613e-07\n",
      "Epoch 3/10\n",
      "32/32 [==============================] - 0s 2ms/step - loss: 4.2256e-07 - val_loss: 2.3393e-07\n",
      "Epoch 4/10\n",
      "32/32 [==============================] - 0s 3ms/step - loss: 4.0221e-07 - val_loss: 2.2210e-07\n",
      "Epoch 5/10\n",
      "32/32 [==============================] - 0s 3ms/step - loss: 3.8298e-07 - val_loss: 2.1179e-07\n",
      "Epoch 6/10\n",
      "32/32 [==============================] - 0s 3ms/step - loss: 3.6601e-07 - val_loss: 2.0097e-07\n",
      "Epoch 7/10\n",
      "32/32 [==============================] - 0s 3ms/step - loss: 3.4779e-07 - val_loss: 1.9258e-07\n",
      "Epoch 8/10\n",
      "32/32 [==============================] - 0s 3ms/step - loss: 3.3247e-07 - val_loss: 1.8374e-07\n",
      "Epoch 9/10\n",
      "32/32 [==============================] - 0s 3ms/step - loss: 3.1808e-07 - val_loss: 1.7473e-07\n",
      "Epoch 10/10\n",
      "32/32 [==============================] - 0s 3ms/step - loss: 3.0374e-07 - val_loss: 1.6704e-07\n"
     ]
    },
    {
     "data": {
      "text/plain": [
       "<keras.src.callbacks.History at 0x7f22a01dd8d0>"
      ]
     },
     "execution_count": 26,
     "metadata": {},
     "output_type": "execute_result"
    }
   ],
   "source": [
    "autoencoder.fit(x_train, y_train, 120, 10, validation_data=(x_test, y_test))"
   ]
  },
  {
   "cell_type": "code",
   "execution_count": 15,
   "id": "2fbba313",
   "metadata": {},
   "outputs": [
    {
     "name": "stdout",
     "output_type": "stream",
     "text": [
      "Model: \"sequential_2\"\n",
      "_________________________________________________________________\n",
      " Layer (type)                Output Shape              Param #   \n",
      "=================================================================\n",
      " sequential (Sequential)     (None, 16)                5072      \n",
      "                                                                 \n",
      " sequential_1 (Sequential)   (None, 141)               5197      \n",
      "                                                                 \n",
      "=================================================================\n",
      "Total params: 10269 (40.11 KB)\n",
      "Trainable params: 10269 (40.11 KB)\n",
      "Non-trainable params: 0 (0.00 Byte)\n",
      "_________________________________________________________________\n"
     ]
    }
   ],
   "source": [
    "autoencoder.summary()"
   ]
  },
  {
   "cell_type": "code",
   "execution_count": 28,
   "id": "5d589fb3",
   "metadata": {},
   "outputs": [
    {
     "name": "stdout",
     "output_type": "stream",
     "text": [
      "40/40 [==============================] - 0s 918us/step\n"
     ]
    },
    {
     "data": {
      "text/plain": [
       "array([ 0.62063868,  0.15085741, -0.15821668, ...,  0.29980554,\n",
       "        0.14342884, -0.47071824])"
      ]
     },
     "execution_count": 28,
     "metadata": {},
     "output_type": "execute_result"
    }
   ],
   "source": [
    "predictions = autoencoder.predict(x_test)\n",
    "mse = np.mean((x_test - predictions) * 2, 1)\n",
    "mse"
   ]
  },
  {
   "cell_type": "code",
   "execution_count": 23,
   "id": "5cbdabfe",
   "metadata": {},
   "outputs": [
    {
     "data": {
      "text/plain": [
       "array([1, 0, 0, ..., 0, 0, 0])"
      ]
     },
     "execution_count": 23,
     "metadata": {},
     "output_type": "execute_result"
    }
   ],
   "source": [
    "threshold = np.percentile(mse, 95)\n",
    "y_test_pred = np.where(mse > threshold, 1, 0)\n",
    "y_test_pred"
   ]
  },
  {
   "cell_type": "code",
   "execution_count": 28,
   "id": "052ea736",
   "metadata": {},
   "outputs": [
    {
     "data": {
      "text/plain": [
       "0.9496"
      ]
     },
     "execution_count": 28,
     "metadata": {},
     "output_type": "execute_result"
    }
   ],
   "source": [
    "from sklearn.metrics import accuracy_score\n",
    "accuracy_score(y_test, y_test_pred)"
   ]
  }
 ],
 "metadata": {
  "kernelspec": {
   "display_name": "Python 3 (ipykernel)",
   "language": "python",
   "name": "python3"
  },
  "language_info": {
   "codemirror_mode": {
    "name": "ipython",
    "version": 3
   },
   "file_extension": ".py",
   "mimetype": "text/x-python",
   "name": "python",
   "nbconvert_exporter": "python",
   "pygments_lexer": "ipython3",
   "version": "3.10.12"
  }
 },
 "nbformat": 4,
 "nbformat_minor": 5
}
