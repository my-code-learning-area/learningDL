{
 "cells": [
  {
   "cell_type": "code",
   "execution_count": 17,
   "id": "35db7e05",
   "metadata": {},
   "outputs": [],
   "source": [
    "import numpy as np\n",
    "import pandas as pd\n",
    "import keras \n",
    "import tensorflow as tf\n",
    "\n",
    "from tensorflow.keras.layers import Dense,Dropout\n",
    "from tensorflow.keras.models import Sequential\n",
    "from tensorflow.keras.optimizers import SGD"
   ]
  },
  {
   "cell_type": "code",
   "execution_count": 19,
   "id": "128bbb8a",
   "metadata": {},
   "outputs": [],
   "source": [
    "train_data=pd.read_csv('../LP-IV-datasets/MNIST/mnist_train.csv')\n",
    "x_train=train_data.drop('label',axis=1).values\n",
    "y_train=train_data['label'].values"
   ]
  },
  {
   "cell_type": "code",
   "execution_count": 20,
   "id": "62b5e69a",
   "metadata": {},
   "outputs": [],
   "source": [
    "test_data=pd.read_csv('../LP-IV-datasets/MNIST/mnist_test.csv')\n",
    "x_test=test_data.drop('label',axis=1).values\n",
    "y_test=test_data['label'].values"
   ]
  },
  {
   "cell_type": "code",
   "execution_count": 21,
   "id": "e4dc5537",
   "metadata": {},
   "outputs": [],
   "source": [
    "x_train=x_train/255.0\n",
    "x_test=x_test/255.0\n",
    "\n",
    "x_train=x_train.reshape((-1,28*28))\n",
    "x_test=x_test.reshape((-1,28*28))"
   ]
  },
  {
   "cell_type": "code",
   "execution_count": 22,
   "id": "f75479df",
   "metadata": {},
   "outputs": [],
   "source": [
    "y_train=keras.utils.to_categorical(y_train,10)\n",
    "y_test=keras.utils.to_categorical(y_test,10)"
   ]
  },
  {
   "cell_type": "code",
   "execution_count": 27,
   "id": "58c989c8",
   "metadata": {},
   "outputs": [
    {
     "name": "stdout",
     "output_type": "stream",
     "text": [
      "Model: \"sequential_3\"\n",
      "_________________________________________________________________\n",
      " Layer (type)                Output Shape              Param #   \n",
      "=================================================================\n",
      " dense_9 (Dense)             (None, 128)               100480    \n",
      "                                                                 \n",
      " dense_10 (Dense)            (None, 64)                8256      \n",
      "                                                                 \n",
      " dropout_3 (Dropout)         (None, 64)                0         \n",
      "                                                                 \n",
      " dense_11 (Dense)            (None, 10)                650       \n",
      "                                                                 \n",
      "=================================================================\n",
      "Total params: 109386 (427.29 KB)\n",
      "Trainable params: 109386 (427.29 KB)\n",
      "Non-trainable params: 0 (0.00 Byte)\n",
      "_________________________________________________________________\n"
     ]
    }
   ],
   "source": [
    "model=Sequential()\n",
    "\n",
    "model.add(Dense(128,input_shape=(28*28,),activation='relu'))\n",
    "model.add(Dense(64,activation='relu'))\n",
    "model.add(Dropout(0.2))\n",
    "model.add(Dense(10,activation='softmax'))\n",
    "\n",
    "model.compile(optimizer=SGD(),loss='categorical_crossentropy',metrics=['accuracy'])\n",
    "model.summary()"
   ]
  },
  {
   "cell_type": "code",
   "execution_count": 28,
   "id": "6d8c0421",
   "metadata": {},
   "outputs": [
    {
     "name": "stdout",
     "output_type": "stream",
     "text": [
      "Epoch 1/11\n",
      "1875/1875 [==============================] - 5s 2ms/step - loss: 0.7605 - accuracy: 0.7794 - val_loss: 0.3294 - val_accuracy: 0.9101\n",
      "Epoch 2/11\n",
      "1875/1875 [==============================] - 4s 2ms/step - loss: 0.3596 - accuracy: 0.8953 - val_loss: 0.2526 - val_accuracy: 0.9279\n",
      "Epoch 3/11\n",
      "1875/1875 [==============================] - 4s 2ms/step - loss: 0.2900 - accuracy: 0.9160 - val_loss: 0.2137 - val_accuracy: 0.9370\n",
      "Epoch 4/11\n",
      "1875/1875 [==============================] - 4s 2ms/step - loss: 0.2475 - accuracy: 0.9287 - val_loss: 0.1863 - val_accuracy: 0.9446\n",
      "Epoch 5/11\n",
      "1875/1875 [==============================] - 4s 2ms/step - loss: 0.2180 - accuracy: 0.9369 - val_loss: 0.1693 - val_accuracy: 0.9488\n",
      "Epoch 6/11\n",
      "1875/1875 [==============================] - 4s 2ms/step - loss: 0.1972 - accuracy: 0.9425 - val_loss: 0.1538 - val_accuracy: 0.9539\n",
      "Epoch 7/11\n",
      "1875/1875 [==============================] - 4s 2ms/step - loss: 0.1822 - accuracy: 0.9470 - val_loss: 0.1418 - val_accuracy: 0.9565\n",
      "Epoch 8/11\n",
      "1875/1875 [==============================] - 4s 2ms/step - loss: 0.1646 - accuracy: 0.9524 - val_loss: 0.1338 - val_accuracy: 0.9596\n",
      "Epoch 9/11\n",
      "1875/1875 [==============================] - 4s 2ms/step - loss: 0.1554 - accuracy: 0.9546 - val_loss: 0.1278 - val_accuracy: 0.9616\n",
      "Epoch 10/11\n",
      "1875/1875 [==============================] - 4s 2ms/step - loss: 0.1436 - accuracy: 0.9583 - val_loss: 0.1188 - val_accuracy: 0.9632\n",
      "Epoch 11/11\n",
      "1875/1875 [==============================] - 4s 2ms/step - loss: 0.1355 - accuracy: 0.9608 - val_loss: 0.1145 - val_accuracy: 0.9657\n"
     ]
    }
   ],
   "source": [
    "hist=model.fit(x_train,y_train,epochs=11,shuffle=True,validation_data=(x_test,y_test))"
   ]
  },
  {
   "cell_type": "code",
   "execution_count": 29,
   "id": "a6587c29",
   "metadata": {},
   "outputs": [
    {
     "name": "stdout",
     "output_type": "stream",
     "text": [
      "313/313 [==============================] - 0s 1ms/step - loss: 0.1145 - accuracy: 0.9657\n"
     ]
    }
   ],
   "source": [
    "score=model.evaluate(x_test,y_test)"
   ]
  },
  {
   "cell_type": "code",
   "execution_count": 31,
   "id": "01da3d4b",
   "metadata": {},
   "outputs": [
    {
     "data": {
      "text/plain": [
       "[<matplotlib.lines.Line2D at 0x7fcc4d427c10>]"
      ]
     },
     "execution_count": 31,
     "metadata": {},
     "output_type": "execute_result"
    },
    {
     "data": {
      "image/png": "[encoded data removed]",
      "text/plain": [
       "<Figure size 640x480 with 1 Axes>"
      ]
     },
     "metadata": {},
     "output_type": "display_data"
    }
   ],
   "source": [
    "import matplotlib.pyplot as plt\n",
    "\n",
    "plt.plot(hist.history['loss'])\n",
    "plt.plot(hist.history['val_loss'])\n",
    "plt.plot(hist.history['accuracy'])\n",
    "plt.plot(hist.history['val_accuracy'])"
   ]
  },
  {
   "cell_type": "code",
   "execution_count": null,
   "id": "97592146",
   "metadata": {},
   "outputs": [],
   "source": []
  }
 ],
 "metadata": {
  "kernelspec": {
   "display_name": "Python 3 (ipykernel)",
   "language": "python",
   "name": "python3"
  },
  "language_info": {
   "codemirror_mode": {
    "name": "ipython",
    "version": 3
   },
   "file_extension": ".py",
   "mimetype": "text/x-python",
   "name": "python",
   "nbconvert_exporter": "python",
   "pygments_lexer": "ipython3",
   "version": "3.10.12"
  }
 },
 "nbformat": 4,
 "nbformat_minor": 5
}
