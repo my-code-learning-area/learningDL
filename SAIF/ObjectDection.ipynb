{
 "cells": [
  {
   "cell_type": "code",
   "execution_count": 2,
   "id": "1330da7b",
   "metadata": {
    "id": "1330da7b"
   },
   "outputs": [],
   "source": [
    "import tensorflow as tf\n",
    "from tensorflow import keras\n",
    "from tensorflow.keras.applications import VGG16\n",
    "from tensorflow.keras.models import Model\n",
    "from tensorflow.keras.layers import Dense, Flatten\n",
    "from tensorflow.keras.optimizers import Adam\n",
    "from tensorflow.keras.preprocessing.image import ImageDataGenerator\n",
    "import numpy as np"
   ]
  },
  {
   "cell_type": "code",
   "execution_count": 4,
   "id": "64730a37",
   "metadata": {
    "id": "64730a37",
    "outputId": "1b0d45eb-cd7f-4bca-c5a0-d0d57f52160b"
   },
   "outputs": [
    {
     "name": "stdout",
     "output_type": "stream",
     "text": [
      "Found 9144 images belonging to 102 classes.\n"
     ]
    }
   ],
   "source": [
    "dataset_dir = \"./caltech-101-img\" #Specifies the directory path where the dataset is located\n",
    "dataset_datagen = ImageDataGenerator(\n",
    "    rescale=1.0 / 255,\n",
    ")\n",
    "#normalises the image\n",
    "\n",
    "# # here batch_size is the number of images in each batch\n",
    "batch_size = 2000\n",
    "dataset_generator = dataset_datagen.flow_from_directory(\n",
    "    dataset_dir,\n",
    "    target_size=(64, 64), #resizes the image into 64 by 64 pixel\n",
    "    batch_size=batch_size, #Sets the batch size for training.\n",
    "    class_mode='categorical' # labels are one-hot encoded\n",
    ")"
   ]
  },
  {
   "cell_type": "code",
   "execution_count": 5,
   "id": "de9c22a5",
   "metadata": {
    "id": "de9c22a5",
    "outputId": "68d8e07a-8a2e-4e4c-f5f4-faa693d47fa7"
   },
   "outputs": [
    {
     "name": "stdout",
     "output_type": "stream",
     "text": [
      "2000\n",
      "2000\n"
     ]
    }
   ],
   "source": [
    "x_train, y_train =  dataset_generator[0]\n",
    "x_test, y_test = dataset_generator[1]\n",
    "\n",
    "print(len(x_train))\n",
    "print(len(x_test))"
   ]
  },
  {
   "cell_type": "code",
   "execution_count": 11,
   "id": "17657cba",
   "metadata": {
    "id": "17657cba"
   },
   "outputs": [],
   "source": [
    "weights_path = \"./LP-IV-datasets/Object Detection(Ass6)/vgg16_weights_tf_dim_ordering_tf_kernels_notop.h5\"\n",
    "base_model = VGG16(weights=weights_path, include_top=False, input_shape=(64, 64, 3))"
   ]
  },
  {
   "cell_type": "code",
   "execution_count": 12,
   "id": "327e6188",
   "metadata": {
    "id": "327e6188"
   },
   "outputs": [],
   "source": [
    "for layer in base_model.layers:\n",
    "   layer.trainable = False"
   ]
  },
  {
   "cell_type": "code",
   "execution_count": 13,
   "id": "abe69ee2",
   "metadata": {
    "id": "abe69ee2"
   },
   "outputs": [],
   "source": [
    "x = Flatten()(base_model.output)\n",
    "# Explanation: This line adds a Flatten layer to the output of the base_model. The Flatten layer is used to transform the 3D tensor output from the convolutional base (which is usually the output of the last convolutional layer) into a 1D tensor. This flattening step is necessary when transitioning from convolutional layers to densely connected layers.\n",
    "# Example: Suppose the output shape of base_model is (7, 7, 512). This means you have a 3D tensor with dimensions 7x7x512. Applying the Flatten layer converts this 3D tensor into a 1D tensor by unraveling the values along the dimensions. In this case, the resulting 1D tensor would have a size of 7 * 7 * 512 = 25088.\n",
    "x = Dense(64, activation='relu')(x)\n",
    "predictions = Dense(102, activation='softmax')(x)\n",
    "\n",
    "# Create the model\n",
    "model = Model(inputs=base_model.input, outputs=predictions)\n",
    "# Compile the model\n",
    "model.compile(optimizer=\"adam\", loss='categorical_crossentropy', metrics=['accuracy'])"
   ]
  },
  {
   "cell_type": "code",
   "execution_count": 15,
   "id": "5b39aef1",
   "metadata": {
    "id": "5b39aef1",
    "outputId": "3ceae54e-15d2-4966-8656-dc5ad1741445",
    "scrolled": true
   },
   "outputs": [
    {
     "name": "stdout",
     "output_type": "stream",
     "text": [
      "Epoch 1/3\n",
      "32/32 [==============================] - 80s 3s/step - loss: 3.5240 - accuracy: 0.2700 - val_loss: 3.2280 - val_accuracy: 0.3335\n",
      "Epoch 2/3\n",
      "32/32 [==============================] - 83s 3s/step - loss: 2.8592 - accuracy: 0.3820 - val_loss: 2.8765 - val_accuracy: 0.4000\n",
      "Epoch 3/3\n",
      "32/32 [==============================] - 87s 3s/step - loss: 2.4319 - accuracy: 0.4760 - val_loss: 2.5899 - val_accuracy: 0.4445\n"
     ]
    },
    {
     "data": {
      "text/plain": [
       "<keras.src.callbacks.History at 0x7f9db1aa8040>"
      ]
     },
     "execution_count": 15,
     "metadata": {},
     "output_type": "execute_result"
    }
   ],
   "source": [
    "model.fit(x_train, y_train, batch_size=64, epochs=3, validation_data=(x_test, y_test))"
   ]
  },
  {
   "cell_type": "code",
   "execution_count": 16,
   "id": "259aa649",
   "metadata": {
    "id": "259aa649",
    "outputId": "e5b95039-cd05-444b-aa9f-82b3131e4972"
   },
   "outputs": [
    {
     "name": "stdout",
     "output_type": "stream",
     "text": [
      "Epoch 1/3\n",
      "32/32 [==============================] - 84s 3s/step - loss: 3.1768 - accuracy: 0.3520 - val_loss: 2.3305 - val_accuracy: 0.4930\n",
      "Epoch 2/3\n",
      "32/32 [==============================] - 85s 3s/step - loss: 1.7735 - accuracy: 0.5805 - val_loss: 1.9069 - val_accuracy: 0.5580\n",
      "Epoch 3/3\n",
      "32/32 [==============================] - 85s 3s/step - loss: 1.1539 - accuracy: 0.7015 - val_loss: 1.8204 - val_accuracy: 0.5850\n"
     ]
    },
    {
     "data": {
      "text/plain": [
       "<keras.src.callbacks.History at 0x7f9db19c07f0>"
      ]
     },
     "execution_count": 16,
     "metadata": {},
     "output_type": "execute_result"
    }
   ],
   "source": [
    "base_model = VGG16(weights=weights_path, include_top=False, input_shape=(64, 64, 3))\n",
    "# freeze all layers first\n",
    "for layer in base_model.layers:\n",
    "   layer.trainable = False\n",
    "# unfreeze last 4 layers of base model\n",
    "for layer in base_model.layers[len(base_model.layers) - 2:]:\n",
    "   layer.trainable = True\n",
    "# fine-tuning hyper parameters\n",
    "x = Flatten()(base_model.output)\n",
    "x = Dense(512, activation='relu')(x)\n",
    "x = tf.keras.layers.Dropout(0.3)(x)\n",
    "predictions = Dense(102, activation='softmax')(x)\n",
    "\n",
    "# Create the model\n",
    "model = Model(inputs=base_model.input, outputs=predictions)\n",
    "# Compile the model\n",
    "model.compile(optimizer=Adam(learning_rate=0.001), loss='categorical_crossentropy', metrics=['accuracy'])\n",
    "# training fine tuned model\n",
    "model.fit(x_train, y_train, batch_size=64, epochs=3, validation_data=(x_test, y_test))\n"
   ]
  },
  {
   "cell_type": "code",
   "execution_count": null,
   "id": "a1a900bd",
   "metadata": {
    "id": "a1a900bd"
   },
   "outputs": [],
   "source": [
    "# Hyperparameters are configuration settings that are not learned from the data but need to be specified before training\n",
    "# Fine-tuning involves adjusting these hyperparameters to achieve better model performance.\n",
    "# When you initially load a pretrained model, you might set certain layers to be non-trainable to preserve the knowledge from the original task (e.g., image recognition on ImageNet).\n",
    "# Unfreezing layers means allowing them to be updated during training. In transfer learning, it's common to gradually unfreeze layers as training progresses. Early layers may be frozen first, and later layers may be unfrozen in subsequent epochs.\n",
    "# Unfreezing more layers can be beneficial when the task you're working on is significantly different from the original task, and you need the model to adapt more to your specific data."
   ]
  },
  {
   "cell_type": "code",
   "execution_count": 18,
   "id": "f050408b",
   "metadata": {
    "id": "f050408b",
    "outputId": "64bfed1e-39ef-47a4-8560-241625ad2f84"
   },
   "outputs": [
    {
     "name": "stdout",
     "output_type": "stream",
     "text": [
      "63/63 [==============================] - 40s 642ms/step\n"
     ]
    }
   ],
   "source": [
    "import matplotlib.pyplot as plt\n",
    "predicted_value = model.predict(x_test)"
   ]
  },
  {
   "cell_type": "code",
   "execution_count": 19,
   "id": "679c630c",
   "metadata": {
    "id": "679c630c"
   },
   "outputs": [],
   "source": [
    "labels = list(dataset_generator.class_indices.keys())"
   ]
  },
  {
   "cell_type": "code",
   "execution_count": 36,
   "id": "99ce3710",
   "metadata": {
    "id": "99ce3710",
    "outputId": "2739327d-85b0-4f22-c057-216cd9a8c78a"
   },
   "outputs": [
    {
     "name": "stdout",
     "output_type": "stream",
     "text": [
      "Preditcted:  Motorbikes\n",
      "Actual:  Motorbikes\n"
     ]
    },
    {
     "data": {
      "image/png": "[encoded data removed]",
      "text/plain": [
       "<Figure size 640x480 with 1 Axes>"
      ]
     },
     "metadata": {},
     "output_type": "display_data"
    }
   ],
   "source": [
    "n = 1001\n",
    "plt.imshow(x_test[n])\n",
    "print(\"Preditcted: \", labels[np.argmax(predicted_value[n])])\n",
    "print(\"Actual: \", labels[np.argmax(y_test[n])])"
   ]
  },
  {
   "cell_type": "code",
   "execution_count": null,
   "id": "f9f1e94f",
   "metadata": {
    "id": "f9f1e94f"
   },
   "outputs": [],
   "source": []
  }
 ],
 "metadata": {
  "colab": {
   "provenance": []
  },
  "kernelspec": {
   "display_name": "Python 3 (ipykernel)",
   "language": "python",
   "name": "python3"
  },
  "language_info": {
   "codemirror_mode": {
    "name": "ipython",
    "version": 3
   },
   "file_extension": ".py",
   "mimetype": "text/x-python",
   "name": "python",
   "nbconvert_exporter": "python",
   "pygments_lexer": "ipython3",
   "version": "3.10.12"
  }
 },
 "nbformat": 4,
 "nbformat_minor": 5
}
