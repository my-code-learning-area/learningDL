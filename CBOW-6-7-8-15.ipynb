{
 "cells": [
  {
   "cell_type": "markdown",
   "id": "d57aea7f",
   "metadata": {},
   "source": [
    "# Implement the Continuous Bag of Words (CBOW) Model for the given (textual document 1) using the below steps:\n",
    "* a. Data preparation\n",
    "* b. Generate training data\n",
    "* c. Train model\n",
    "* d. Output"
   ]
  },
  {
   "cell_type": "code",
   "execution_count": 26,
   "id": "f474ca2c",
   "metadata": {},
   "outputs": [],
   "source": [
    "import tensorflow as tf\n",
    "from tensorflow.keras.models import Sequential\n",
    "from tensorflow.keras.layers import Dense, Lambda, Embedding\n",
    "from tensorflow.keras.preprocessing.text import Tokenizer\n",
    "from tensorflow.keras.optimizers import Adam\n",
    "\n",
    "from sklearn.decomposition import PCA\n",
    "import matplotlib.pyplot as plt\n",
    "import numpy as np\n",
    "import re"
   ]
  },
  {
   "cell_type": "markdown",
   "id": "44bdc428",
   "metadata": {},
   "source": [
    "# A. Data Preparation"
   ]
  },
  {
   "cell_type": "code",
   "execution_count": 27,
   "id": "b22b4d97",
   "metadata": {},
   "outputs": [
    {
     "data": {
      "text/plain": [
       "['The speed of transmission is an important point of difference between the two viruses. Influenza has a shorter median incubation period (the time from infection to appearance of symptoms) and a shorter serial interval (the time between successive cases) than COVID-19 virus. The serial interval for COVID-19 virus is estimated to be 5-6 days, while for influenza virus, the serial interval is 3 days. This means that influenza can spread faster than COVID-19.',\n",
       " '',\n",
       " 'Further, transmission in the first 3-5 days of illness, or potentially pre-symptomatic transmission –transmission of the virus before the appearance of symptoms – is a major driver of transmission for influenza. In contrast, while we are learning that there are people who can shed COVID-19 virus 24-48 hours prior to symptom onset, at present, this does not appear to be a major driver of transmission.',\n",
       " '',\n",
       " 'The reproductive number – the number of secondary infections generated from one infected individual – is understood to be between 2 and 2.5 for COVID-19 virus, higher than for influenza. However, estimates for both COVID-19 and influenza viruses are very context and time-specific, making direct comparisons more difficult.']"
      ]
     },
     "execution_count": 27,
     "metadata": {},
     "output_type": "execute_result"
    }
   ],
   "source": [
    "data = []\n",
    "with open(\"../datasets/CBOW(Ass5)/CBOW.txt\") as file:\n",
    "    for para in file:\n",
    "        data.append(para.strip())\n",
    "\n",
    "data"
   ]
  },
  {
   "cell_type": "code",
   "execution_count": 28,
   "id": "0ef3ef38",
   "metadata": {},
   "outputs": [
    {
     "data": {
      "text/plain": [
       "['The speed of transmission is an important point of difference between the two viruses Influenza has a shorter median incubation period the time from infection to appearance of symptoms and a shorter serial interval the time between successive cases than COVID 19 virus The serial interval for COVID 19 virus is estimated to be 5 6 days while for influenza virus the serial interval is 3 days This means that influenza can spread faster than COVID 19',\n",
       " 'Further transmission in the first 3 5 days of illness or potentially pre symptomatic transmission transmission of the virus before the appearance of symptoms is a major driver of transmission for influenza In contrast while we are learning that there are people who can shed COVID 19 virus 24 48 hours prior to symptom onset at present this does not appear to be a major driver of transmission',\n",
       " 'The reproductive number the number of secondary infections generated from one infected individual is understood to be between 2 and 2 5 for COVID 19 virus higher than for influenza However estimates for both COVID 19 and influenza viruses are very context and time specific making direct comparisons more difficult']"
      ]
     },
     "execution_count": 28,
     "metadata": {},
     "output_type": "execute_result"
    }
   ],
   "source": [
    "corpus = []\n",
    "for para in data:\n",
    "    if para == \"\" :\n",
    "        continue\n",
    "    \n",
    "    para = re.sub(\"[^A-Za-z0-9]+\", \" \", para)\n",
    "    \n",
    "    corpus.append(para.strip())\n",
    "    \n",
    "corpus"
   ]
  },
  {
   "cell_type": "markdown",
   "id": "7baa7152",
   "metadata": {},
   "source": [
    "# Generating Training Data"
   ]
  },
  {
   "cell_type": "code",
   "execution_count": 29,
   "id": "d3c22a62",
   "metadata": {},
   "outputs": [
    {
     "name": "stdout",
     "output_type": "stream",
     "text": [
      "[[1, 37, 2, 3, 9, 38, 39, 40, 2, 41, 13, 1, 42, 22, 4, 43, 11, 23, 44, 45, 46, 1, 14, 24, 47, 10, 25, 2, 26, 12, 11, 23, 15, 16, 1, 14, 13, 48, 49, 17, 5, 6, 7, 1, 15, 16, 8, 5, 6, 7, 9, 50, 10, 18, 19, 51, 20, 27, 8, 4, 7, 1, 15, 16, 9, 28, 20, 29, 52, 30, 4, 31, 53, 54, 17, 5, 6], [55, 3, 32, 1, 56, 28, 19, 20, 2, 57, 58, 59, 60, 61, 3, 3, 2, 1, 7, 62, 1, 25, 2, 26, 9, 11, 33, 34, 2, 3, 8, 4, 32, 63, 27, 64, 21, 65, 30, 66, 21, 67, 68, 31, 69, 5, 6, 7, 70, 71, 72, 73, 10, 74, 75, 76, 77, 29, 78, 79, 80, 10, 18, 11, 33, 34, 2, 3], [1, 81, 35, 1, 35, 2, 82, 83, 84, 24, 85, 86, 87, 9, 88, 10, 18, 13, 36, 12, 36, 19, 8, 5, 6, 7, 89, 17, 8, 4, 90, 91, 8, 92, 5, 6, 12, 4, 22, 21, 93, 94, 12, 14, 95, 96, 97, 98, 99, 100]]\n"
     ]
    }
   ],
   "source": [
    "tokenizer = Tokenizer()\n",
    "tokenizer.fit_on_texts(corpus)\n",
    "sequences = tokenizer.texts_to_sequences(corpus)\n",
    "\n",
    "print(sequences)"
   ]
  },
  {
   "cell_type": "code",
   "execution_count": 30,
   "id": "83a7619b",
   "metadata": {},
   "outputs": [
    {
     "name": "stdout",
     "output_type": "stream",
     "text": [
      "[1, 37, 2, 3, 9, 38, 39, 40, 2, 41, 13, 1, 42, 22, 4, 43, 11, 23, 44, 45, 46, 1, 14, 24, 47, 10, 25, 2, 26, 12, 11, 23, 15, 16, 1, 14, 13, 48, 49, 17, 5, 6, 7, 1, 15, 16, 8, 5, 6, 7, 9, 50, 10, 18, 19, 51, 20, 27, 8, 4, 7, 1, 15, 16, 9, 28, 20, 29, 52, 30, 4, 31, 53, 54, 17, 5, 6]\n",
      "['The', 'speed', 'of', 'transmission', 'is', 'an', 'important', 'point', 'of', 'difference', 'between', 'the', 'two', 'viruses', 'Influenza', 'has', 'a', 'shorter', 'median', 'incubation', 'period', 'the', 'time', 'from', 'infection', 'to', 'appearance', 'of', 'symptoms', 'and', 'a', 'shorter', 'serial', 'interval', 'the', 'time', 'between', 'successive', 'cases', 'than', 'COVID', '19', 'virus', 'The', 'serial', 'interval', 'for', 'COVID', '19', 'virus', 'is', 'estimated', 'to', 'be', '5', '6', 'days', 'while', 'for', 'influenza', 'virus', 'the', 'serial', 'interval', 'is', '3', 'days', 'This', 'means', 'that', 'influenza', 'can', 'spread', 'faster', 'than', 'COVID', '19']\n",
      "[55, 3, 32, 1, 56, 28, 19, 20, 2, 57, 58, 59, 60, 61, 3, 3, 2, 1, 7, 62, 1, 25, 2, 26, 9, 11, 33, 34, 2, 3, 8, 4, 32, 63, 27, 64, 21, 65, 30, 66, 21, 67, 68, 31, 69, 5, 6, 7, 70, 71, 72, 73, 10, 74, 75, 76, 77, 29, 78, 79, 80, 10, 18, 11, 33, 34, 2, 3]\n",
      "['Further', 'transmission', 'in', 'the', 'first', '3', '5', 'days', 'of', 'illness', 'or', 'potentially', 'pre', 'symptomatic', 'transmission', 'transmission', 'of', 'the', 'virus', 'before', 'the', 'appearance', 'of', 'symptoms', 'is', 'a', 'major', 'driver', 'of', 'transmission', 'for', 'influenza', 'In', 'contrast', 'while', 'we', 'are', 'learning', 'that', 'there', 'are', 'people', 'who', 'can', 'shed', 'COVID', '19', 'virus', '24', '48', 'hours', 'prior', 'to', 'symptom', 'onset', 'at', 'present', 'this', 'does', 'not', 'appear', 'to', 'be', 'a', 'major', 'driver', 'of', 'transmission']\n",
      "[1, 81, 35, 1, 35, 2, 82, 83, 84, 24, 85, 86, 87, 9, 88, 10, 18, 13, 36, 12, 36, 19, 8, 5, 6, 7, 89, 17, 8, 4, 90, 91, 8, 92, 5, 6, 12, 4, 22, 21, 93, 94, 12, 14, 95, 96, 97, 98, 99, 100]\n",
      "['The', 'reproductive', 'number', 'the', 'number', 'of', 'secondary', 'infections', 'generated', 'from', 'one', 'infected', 'individual', 'is', 'understood', 'to', 'be', 'between', '2', 'and', '2', '5', 'for', 'COVID', '19', 'virus', 'higher', 'than', 'for', 'influenza', 'However', 'estimates', 'for', 'both', 'COVID', '19', 'and', 'influenza', 'viruses', 'are', 'very', 'context', 'and', 'time', 'specific', 'making', 'direct', 'comparisons', 'more', 'difficult']\n"
     ]
    }
   ],
   "source": [
    "index_to_word_map = {}\n",
    "word_to_index_map = {}\n",
    "for index1, sequence in enumerate(sequences):\n",
    "    print(sequence)\n",
    "    words_in_sequence = corpus[index1].split()\n",
    "    print(words_in_sequence)\n",
    "    for i, val in enumerate(sequence):\n",
    "        index_to_word_map[val] = words_in_sequence[i]\n",
    "        word_to_index_map[words_in_sequence[i]] = val"
   ]
  },
  {
   "cell_type": "code",
   "execution_count": 31,
   "id": "f82a12e9",
   "metadata": {},
   "outputs": [
    {
     "name": "stdout",
     "output_type": "stream",
     "text": [
      "{1: 'the', 37: 'speed', 2: 'of', 3: 'transmission', 9: 'is', 38: 'an', 39: 'important', 40: 'point', 41: 'difference', 13: 'between', 42: 'two', 22: 'viruses', 4: 'influenza', 43: 'has', 11: 'a', 23: 'shorter', 44: 'median', 45: 'incubation', 46: 'period', 14: 'time', 24: 'from', 47: 'infection', 10: 'to', 25: 'appearance', 26: 'symptoms', 12: 'and', 15: 'serial', 16: 'interval', 48: 'successive', 49: 'cases', 17: 'than', 5: 'COVID', 6: '19', 7: 'virus', 8: 'for', 50: 'estimated', 18: 'be', 19: '5', 51: '6', 20: 'days', 27: 'while', 28: '3', 29: 'this', 52: 'means', 30: 'that', 31: 'can', 53: 'spread', 54: 'faster', 55: 'Further', 32: 'In', 56: 'first', 57: 'illness', 58: 'or', 59: 'potentially', 60: 'pre', 61: 'symptomatic', 62: 'before', 33: 'major', 34: 'driver', 63: 'contrast', 64: 'we', 21: 'are', 65: 'learning', 66: 'there', 67: 'people', 68: 'who', 69: 'shed', 70: '24', 71: '48', 72: 'hours', 73: 'prior', 74: 'symptom', 75: 'onset', 76: 'at', 77: 'present', 78: 'does', 79: 'not', 80: 'appear', 81: 'reproductive', 35: 'number', 82: 'secondary', 83: 'infections', 84: 'generated', 85: 'one', 86: 'infected', 87: 'individual', 88: 'understood', 36: '2', 89: 'higher', 90: 'However', 91: 'estimates', 92: 'both', 93: 'very', 94: 'context', 95: 'specific', 96: 'making', 97: 'direct', 98: 'comparisons', 99: 'more', 100: 'difficult'}\n",
      "\n",
      "======================\n",
      "\n",
      "{'The': 1, 'speed': 37, 'of': 2, 'transmission': 3, 'is': 9, 'an': 38, 'important': 39, 'point': 40, 'difference': 41, 'between': 13, 'the': 1, 'two': 42, 'viruses': 22, 'Influenza': 4, 'has': 43, 'a': 11, 'shorter': 23, 'median': 44, 'incubation': 45, 'period': 46, 'time': 14, 'from': 24, 'infection': 47, 'to': 10, 'appearance': 25, 'symptoms': 26, 'and': 12, 'serial': 15, 'interval': 16, 'successive': 48, 'cases': 49, 'than': 17, 'COVID': 5, '19': 6, 'virus': 7, 'for': 8, 'estimated': 50, 'be': 18, '5': 19, '6': 51, 'days': 20, 'while': 27, 'influenza': 4, '3': 28, 'This': 29, 'means': 52, 'that': 30, 'can': 31, 'spread': 53, 'faster': 54, 'Further': 55, 'in': 32, 'first': 56, 'illness': 57, 'or': 58, 'potentially': 59, 'pre': 60, 'symptomatic': 61, 'before': 62, 'major': 33, 'driver': 34, 'In': 32, 'contrast': 63, 'we': 64, 'are': 21, 'learning': 65, 'there': 66, 'people': 67, 'who': 68, 'shed': 69, '24': 70, '48': 71, 'hours': 72, 'prior': 73, 'symptom': 74, 'onset': 75, 'at': 76, 'present': 77, 'this': 29, 'does': 78, 'not': 79, 'appear': 80, 'reproductive': 81, 'number': 35, 'secondary': 82, 'infections': 83, 'generated': 84, 'one': 85, 'infected': 86, 'individual': 87, 'understood': 88, '2': 36, 'higher': 89, 'However': 90, 'estimates': 91, 'both': 92, 'very': 93, 'context': 94, 'specific': 95, 'making': 96, 'direct': 97, 'comparisons': 98, 'more': 99, 'difficult': 100}\n"
     ]
    }
   ],
   "source": [
    "print(index_to_word_map)\n",
    "print(\"\\n======================\\n\")\n",
    "print(word_to_index_map)"
   ]
  },
  {
   "cell_type": "code",
   "execution_count": 32,
   "id": "41bfa229",
   "metadata": {},
   "outputs": [
    {
     "name": "stdout",
     "output_type": "stream",
     "text": [
      "[[1, 37, 3, 9], [37, 2, 9, 38], [2, 3, 38, 39], [3, 9, 39, 40], [9, 38, 40, 2], [38, 39, 2, 41], [39, 40, 41, 13], [40, 2, 13, 1], [2, 41, 1, 42], [41, 13, 42, 22], [13, 1, 22, 4], [1, 42, 4, 43], [42, 22, 43, 11], [22, 4, 11, 23], [4, 43, 23, 44], [43, 11, 44, 45], [11, 23, 45, 46], [23, 44, 46, 1], [44, 45, 1, 14], [45, 46, 14, 24], [46, 1, 24, 47], [1, 14, 47, 10], [14, 24, 10, 25], [24, 47, 25, 2], [47, 10, 2, 26], [10, 25, 26, 12], [25, 2, 12, 11], [2, 26, 11, 23], [26, 12, 23, 15], [12, 11, 15, 16], [11, 23, 16, 1], [23, 15, 1, 14], [15, 16, 14, 13], [16, 1, 13, 48], [1, 14, 48, 49], [14, 13, 49, 17], [13, 48, 17, 5], [48, 49, 5, 6], [49, 17, 6, 7], [17, 5, 7, 1], [5, 6, 1, 15], [6, 7, 15, 16], [7, 1, 16, 8], [1, 15, 8, 5], [15, 16, 5, 6], [16, 8, 6, 7], [8, 5, 7, 9], [5, 6, 9, 50], [6, 7, 50, 10], [7, 9, 10, 18], [9, 50, 18, 19], [50, 10, 19, 51], [10, 18, 51, 20], [18, 19, 20, 27], [19, 51, 27, 8], [51, 20, 8, 4], [20, 27, 4, 7], [27, 8, 7, 1], [8, 4, 1, 15], [4, 7, 15, 16], [7, 1, 16, 9], [1, 15, 9, 28], [15, 16, 28, 20], [16, 9, 20, 29], [9, 28, 29, 52], [28, 20, 52, 30], [20, 29, 30, 4], [29, 52, 4, 31], [52, 30, 31, 53], [30, 4, 53, 54], [4, 31, 54, 17], [31, 53, 17, 5], [53, 54, 5, 6], [55, 3, 1, 56], [3, 32, 56, 28], [32, 1, 28, 19], [1, 56, 19, 20], [56, 28, 20, 2], [28, 19, 2, 57], [19, 20, 57, 58], [20, 2, 58, 59], [2, 57, 59, 60], [57, 58, 60, 61], [58, 59, 61, 3], [59, 60, 3, 3], [60, 61, 3, 2], [61, 3, 2, 1], [3, 3, 1, 7], [3, 2, 7, 62], [2, 1, 62, 1], [1, 7, 1, 25], [7, 62, 25, 2], [62, 1, 2, 26], [1, 25, 26, 9], [25, 2, 9, 11], [2, 26, 11, 33], [26, 9, 33, 34], [9, 11, 34, 2], [11, 33, 2, 3], [33, 34, 3, 8], [34, 2, 8, 4], [2, 3, 4, 32], [3, 8, 32, 63], [8, 4, 63, 27], [4, 32, 27, 64], [32, 63, 64, 21], [63, 27, 21, 65], [27, 64, 65, 30], [64, 21, 30, 66], [21, 65, 66, 21], [65, 30, 21, 67], [30, 66, 67, 68], [66, 21, 68, 31], [21, 67, 31, 69], [67, 68, 69, 5], [68, 31, 5, 6], [31, 69, 6, 7], [69, 5, 7, 70], [5, 6, 70, 71], [6, 7, 71, 72], [7, 70, 72, 73], [70, 71, 73, 10], [71, 72, 10, 74], [72, 73, 74, 75], [73, 10, 75, 76], [10, 74, 76, 77], [74, 75, 77, 29], [75, 76, 29, 78], [76, 77, 78, 79], [77, 29, 79, 80], [29, 78, 80, 10], [78, 79, 10, 18], [79, 80, 18, 11], [80, 10, 11, 33], [10, 18, 33, 34], [18, 11, 34, 2], [11, 33, 2, 3], [1, 81, 1, 35], [81, 35, 35, 2], [35, 1, 2, 82], [1, 35, 82, 83], [35, 2, 83, 84], [2, 82, 84, 24], [82, 83, 24, 85], [83, 84, 85, 86], [84, 24, 86, 87], [24, 85, 87, 9], [85, 86, 9, 88], [86, 87, 88, 10], [87, 9, 10, 18], [9, 88, 18, 13], [88, 10, 13, 36], [10, 18, 36, 12], [18, 13, 12, 36], [13, 36, 36, 19], [36, 12, 19, 8], [12, 36, 8, 5], [36, 19, 5, 6], [19, 8, 6, 7], [8, 5, 7, 89], [5, 6, 89, 17], [6, 7, 17, 8], [7, 89, 8, 4], [89, 17, 4, 90], [17, 8, 90, 91], [8, 4, 91, 8], [4, 90, 8, 92], [90, 91, 92, 5], [91, 8, 5, 6], [8, 92, 6, 12], [92, 5, 12, 4], [5, 6, 4, 22], [6, 12, 22, 21], [12, 4, 21, 93], [4, 22, 93, 94], [22, 21, 94, 12], [21, 93, 12, 14], [93, 94, 14, 95], [94, 12, 95, 96], [12, 14, 96, 97], [14, 95, 97, 98], [95, 96, 98, 99], [96, 97, 99, 100]]\n",
      "\n",
      "===============\n",
      "\n",
      "[2, 3, 9, 38, 39, 40, 2, 41, 13, 1, 42, 22, 4, 43, 11, 23, 44, 45, 46, 1, 14, 24, 47, 10, 25, 2, 26, 12, 11, 23, 15, 16, 1, 14, 13, 48, 49, 17, 5, 6, 7, 1, 15, 16, 8, 5, 6, 7, 9, 50, 10, 18, 19, 51, 20, 27, 8, 4, 7, 1, 15, 16, 9, 28, 20, 29, 52, 30, 4, 31, 53, 54, 17, 32, 1, 56, 28, 19, 20, 2, 57, 58, 59, 60, 61, 3, 3, 2, 1, 7, 62, 1, 25, 2, 26, 9, 11, 33, 34, 2, 3, 8, 4, 32, 63, 27, 64, 21, 65, 30, 66, 21, 67, 68, 31, 69, 5, 6, 7, 70, 71, 72, 73, 10, 74, 75, 76, 77, 29, 78, 79, 80, 10, 18, 11, 33, 34, 35, 1, 35, 2, 82, 83, 84, 24, 85, 86, 87, 9, 88, 10, 18, 13, 36, 12, 36, 19, 8, 5, 6, 7, 89, 17, 8, 4, 90, 91, 8, 92, 5, 6, 12, 4, 22, 21, 93, 94, 12, 14, 95, 96, 97, 98]\n"
     ]
    }
   ],
   "source": [
    "contexts = []\n",
    "targets = []\n",
    "\n",
    "window_size = 2\n",
    "\n",
    "for sequence in sequences:\n",
    "    for i in range(window_size, len(sequence) - window_size):\n",
    "        context = sequence[i - window_size : i] + sequence[i + 1 : i + window_size + 1]\n",
    "        target = sequence[i]\n",
    "        \n",
    "        contexts.append(context)\n",
    "        targets.append(target)\n",
    "\n",
    "print(contexts)\n",
    "print(\"\\n===============\\n\")\n",
    "print(targets)"
   ]
  },
  {
   "cell_type": "code",
   "execution_count": 33,
   "id": "9b20cb64",
   "metadata": {},
   "outputs": [],
   "source": [
    "x = np.array(contexts)\n",
    "y = np.array(targets)"
   ]
  },
  {
   "cell_type": "code",
   "execution_count": 34,
   "id": "f5fff546",
   "metadata": {},
   "outputs": [
    {
     "name": "stdout",
     "output_type": "stream",
     "text": [
      "['the', 'speed', 'transmission', 'is'] => of\n",
      "['speed', 'of', 'is', 'an'] => transmission\n",
      "['of', 'transmission', 'an', 'important'] => is\n",
      "['transmission', 'is', 'important', 'point'] => an\n",
      "['is', 'an', 'point', 'of'] => important\n"
     ]
    }
   ],
   "source": [
    "# sample of training data\n",
    "for i in range(5):\n",
    "    words = []\n",
    "    target = index_to_word_map.get(targets[i])\n",
    "    for j in contexts[i]:\n",
    "        words.append(index_to_word_map.get(j))\n",
    "    print(words, \"=>\", target)"
   ]
  },
  {
   "cell_type": "code",
   "execution_count": 35,
   "id": "5fab8540",
   "metadata": {},
   "outputs": [],
   "source": [
    "input_dim = len(tokenizer.word_counts) + 1\n",
    "embedding_size = 10"
   ]
  },
  {
   "cell_type": "code",
   "execution_count": 36,
   "id": "4951bfb6",
   "metadata": {},
   "outputs": [],
   "source": [
    "model = Sequential([\n",
    "    Embedding(input_dim, embedding_size, input_length=2*window_size),\n",
    "    Lambda(lambda x: tf.reduce_mean(x, axis=1)),\n",
    "    Dense(128, \"relu\"),\n",
    "    Dense(64, \"relu\"),\n",
    "    Dense(input_dim, \"softmax\")\n",
    "])"
   ]
  },
  {
   "cell_type": "code",
   "execution_count": 37,
   "id": "8485fc31",
   "metadata": {},
   "outputs": [],
   "source": [
    "model.compile(\"adam\", \"sparse_categorical_crossentropy\", [\"accuracy\"])"
   ]
  },
  {
   "cell_type": "code",
   "execution_count": 38,
   "id": "cba3e2d6",
   "metadata": {},
   "outputs": [
    {
     "name": "stdout",
     "output_type": "stream",
     "text": [
      "Epoch 1/200\n",
      "6/6 [==============================] - 1s 69ms/step - loss: 4.6143 - accuracy: 0.0273\n",
      "Epoch 2/200\n",
      "6/6 [==============================] - 0s 2ms/step - loss: 4.6078 - accuracy: 0.0546\n",
      "Epoch 3/200\n",
      "6/6 [==============================] - 0s 3ms/step - loss: 4.6016 - accuracy: 0.0656\n",
      "Epoch 4/200\n",
      "6/6 [==============================] - 0s 4ms/step - loss: 4.5931 - accuracy: 0.0601\n",
      "Epoch 5/200\n",
      "6/6 [==============================] - 0s 4ms/step - loss: 4.5815 - accuracy: 0.0546\n",
      "Epoch 6/200\n",
      "6/6 [==============================] - 0s 4ms/step - loss: 4.5657 - accuracy: 0.0437\n",
      "Epoch 7/200\n",
      "6/6 [==============================] - 0s 3ms/step - loss: 4.5430 - accuracy: 0.0437\n",
      "Epoch 8/200\n",
      "6/6 [==============================] - 0s 4ms/step - loss: 4.5102 - accuracy: 0.0437\n",
      "Epoch 9/200\n",
      "6/6 [==============================] - 0s 4ms/step - loss: 4.4658 - accuracy: 0.0437\n",
      "Epoch 10/200\n",
      "6/6 [==============================] - 0s 4ms/step - loss: 4.4124 - accuracy: 0.0437\n",
      "Epoch 11/200\n",
      "6/6 [==============================] - 0s 4ms/step - loss: 4.3449 - accuracy: 0.0437\n",
      "Epoch 12/200\n",
      "6/6 [==============================] - 0s 4ms/step - loss: 4.2885 - accuracy: 0.0437\n",
      "Epoch 13/200\n",
      "6/6 [==============================] - 0s 5ms/step - loss: 4.2420 - accuracy: 0.0437\n",
      "Epoch 14/200\n",
      "6/6 [==============================] - 0s 4ms/step - loss: 4.2124 - accuracy: 0.0437\n",
      "Epoch 15/200\n",
      "6/6 [==============================] - 0s 4ms/step - loss: 4.1824 - accuracy: 0.0437\n",
      "Epoch 16/200\n",
      "6/6 [==============================] - 0s 4ms/step - loss: 4.1491 - accuracy: 0.0437\n",
      "Epoch 17/200\n",
      "6/6 [==============================] - 0s 4ms/step - loss: 4.1117 - accuracy: 0.0601\n",
      "Epoch 18/200\n",
      "6/6 [==============================] - 0s 4ms/step - loss: 4.0775 - accuracy: 0.0656\n",
      "Epoch 19/200\n",
      "6/6 [==============================] - 0s 5ms/step - loss: 4.0404 - accuracy: 0.0765\n",
      "Epoch 20/200\n",
      "6/6 [==============================] - 0s 4ms/step - loss: 4.0051 - accuracy: 0.1038\n",
      "Epoch 21/200\n",
      "6/6 [==============================] - 0s 3ms/step - loss: 3.9671 - accuracy: 0.1148\n",
      "Epoch 22/200\n",
      "6/6 [==============================] - 0s 4ms/step - loss: 3.9263 - accuracy: 0.1093\n",
      "Epoch 23/200\n",
      "6/6 [==============================] - 0s 4ms/step - loss: 3.8850 - accuracy: 0.1093\n",
      "Epoch 24/200\n",
      "6/6 [==============================] - 0s 3ms/step - loss: 3.8391 - accuracy: 0.1257\n",
      "Epoch 25/200\n",
      "6/6 [==============================] - 0s 4ms/step - loss: 3.7915 - accuracy: 0.1257\n",
      "Epoch 26/200\n",
      "6/6 [==============================] - 0s 3ms/step - loss: 3.7423 - accuracy: 0.1530\n",
      "Epoch 27/200\n",
      "6/6 [==============================] - 0s 3ms/step - loss: 3.6895 - accuracy: 0.1530\n",
      "Epoch 28/200\n",
      "6/6 [==============================] - 0s 3ms/step - loss: 3.6343 - accuracy: 0.1530\n",
      "Epoch 29/200\n",
      "6/6 [==============================] - 0s 4ms/step - loss: 3.5760 - accuracy: 0.1530\n",
      "Epoch 30/200\n",
      "6/6 [==============================] - 0s 4ms/step - loss: 3.5174 - accuracy: 0.1585\n",
      "Epoch 31/200\n",
      "6/6 [==============================] - 0s 4ms/step - loss: 3.4564 - accuracy: 0.1585\n",
      "Epoch 32/200\n",
      "6/6 [==============================] - 0s 4ms/step - loss: 3.3934 - accuracy: 0.1803\n",
      "Epoch 33/200\n",
      "6/6 [==============================] - 0s 4ms/step - loss: 3.3313 - accuracy: 0.1913\n",
      "Epoch 34/200\n",
      "6/6 [==============================] - 0s 4ms/step - loss: 3.2693 - accuracy: 0.2022\n",
      "Epoch 35/200\n",
      "6/6 [==============================] - 0s 4ms/step - loss: 3.2047 - accuracy: 0.2022\n",
      "Epoch 36/200\n",
      "6/6 [==============================] - 0s 4ms/step - loss: 3.1460 - accuracy: 0.2131\n",
      "Epoch 37/200\n",
      "6/6 [==============================] - 0s 4ms/step - loss: 3.0792 - accuracy: 0.2131\n",
      "Epoch 38/200\n",
      "6/6 [==============================] - 0s 4ms/step - loss: 3.0165 - accuracy: 0.2131\n",
      "Epoch 39/200\n",
      "6/6 [==============================] - 0s 3ms/step - loss: 2.9524 - accuracy: 0.2295\n",
      "Epoch 40/200\n",
      "6/6 [==============================] - 0s 3ms/step - loss: 2.8882 - accuracy: 0.2459\n",
      "Epoch 41/200\n",
      "6/6 [==============================] - 0s 3ms/step - loss: 2.8230 - accuracy: 0.2623\n",
      "Epoch 42/200\n",
      "6/6 [==============================] - 0s 4ms/step - loss: 2.7549 - accuracy: 0.2623\n",
      "Epoch 43/200\n",
      "6/6 [==============================] - 0s 3ms/step - loss: 2.6935 - accuracy: 0.2568\n",
      "Epoch 44/200\n",
      "6/6 [==============================] - 0s 4ms/step - loss: 2.6247 - accuracy: 0.2678\n",
      "Epoch 45/200\n",
      "6/6 [==============================] - 0s 3ms/step - loss: 2.5550 - accuracy: 0.2842\n",
      "Epoch 46/200\n",
      "6/6 [==============================] - 0s 4ms/step - loss: 2.4875 - accuracy: 0.3005\n",
      "Epoch 47/200\n",
      "6/6 [==============================] - 0s 4ms/step - loss: 2.4260 - accuracy: 0.3388\n",
      "Epoch 48/200\n",
      "6/6 [==============================] - 0s 3ms/step - loss: 2.3535 - accuracy: 0.3661\n",
      "Epoch 49/200\n",
      "6/6 [==============================] - 0s 3ms/step - loss: 2.2865 - accuracy: 0.3716\n",
      "Epoch 50/200\n",
      "6/6 [==============================] - 0s 4ms/step - loss: 2.2257 - accuracy: 0.3825\n",
      "Epoch 51/200\n",
      "6/6 [==============================] - 0s 5ms/step - loss: 2.1576 - accuracy: 0.4044\n",
      "Epoch 52/200\n",
      "6/6 [==============================] - 0s 5ms/step - loss: 2.0884 - accuracy: 0.4317\n",
      "Epoch 53/200\n",
      "6/6 [==============================] - 0s 5ms/step - loss: 2.0278 - accuracy: 0.4590\n",
      "Epoch 54/200\n",
      "6/6 [==============================] - 0s 5ms/step - loss: 1.9633 - accuracy: 0.4645\n",
      "Epoch 55/200\n",
      "6/6 [==============================] - 0s 4ms/step - loss: 1.8994 - accuracy: 0.4863\n",
      "Epoch 56/200\n",
      "6/6 [==============================] - 0s 3ms/step - loss: 1.8388 - accuracy: 0.4809\n",
      "Epoch 57/200\n",
      "6/6 [==============================] - 0s 3ms/step - loss: 1.7826 - accuracy: 0.5027\n",
      "Epoch 58/200\n",
      "6/6 [==============================] - 0s 3ms/step - loss: 1.7213 - accuracy: 0.5301\n",
      "Epoch 59/200\n",
      "6/6 [==============================] - 0s 3ms/step - loss: 1.6665 - accuracy: 0.5519\n",
      "Epoch 60/200\n",
      "6/6 [==============================] - 0s 3ms/step - loss: 1.6029 - accuracy: 0.5792\n",
      "Epoch 61/200\n",
      "6/6 [==============================] - 0s 3ms/step - loss: 1.5536 - accuracy: 0.5902\n",
      "Epoch 62/200\n",
      "6/6 [==============================] - 0s 4ms/step - loss: 1.4940 - accuracy: 0.6230\n",
      "Epoch 63/200\n",
      "6/6 [==============================] - 0s 4ms/step - loss: 1.4451 - accuracy: 0.6230\n",
      "Epoch 64/200\n",
      "6/6 [==============================] - 0s 4ms/step - loss: 1.3937 - accuracy: 0.6230\n",
      "Epoch 65/200\n",
      "6/6 [==============================] - 0s 4ms/step - loss: 1.3392 - accuracy: 0.6776\n",
      "Epoch 66/200\n",
      "6/6 [==============================] - 0s 3ms/step - loss: 1.2943 - accuracy: 0.7104\n",
      "Epoch 67/200\n",
      "6/6 [==============================] - 0s 4ms/step - loss: 1.2500 - accuracy: 0.7432\n",
      "Epoch 68/200\n",
      "6/6 [==============================] - 0s 4ms/step - loss: 1.2064 - accuracy: 0.7377\n",
      "Epoch 69/200\n",
      "6/6 [==============================] - 0s 5ms/step - loss: 1.1633 - accuracy: 0.7486\n",
      "Epoch 70/200\n",
      "6/6 [==============================] - 0s 4ms/step - loss: 1.1184 - accuracy: 0.7814\n",
      "Epoch 71/200\n",
      "6/6 [==============================] - 0s 3ms/step - loss: 1.0772 - accuracy: 0.7814\n",
      "Epoch 72/200\n",
      "6/6 [==============================] - 0s 3ms/step - loss: 1.0344 - accuracy: 0.7814\n",
      "Epoch 73/200\n",
      "6/6 [==============================] - 0s 4ms/step - loss: 1.0013 - accuracy: 0.7923\n",
      "Epoch 74/200\n",
      "6/6 [==============================] - 0s 3ms/step - loss: 0.9606 - accuracy: 0.8142\n",
      "Epoch 75/200\n",
      "6/6 [==============================] - 0s 4ms/step - loss: 0.9265 - accuracy: 0.8251\n",
      "Epoch 76/200\n",
      "6/6 [==============================] - 0s 3ms/step - loss: 0.8895 - accuracy: 0.8251\n",
      "Epoch 77/200\n",
      "6/6 [==============================] - 0s 4ms/step - loss: 0.8578 - accuracy: 0.8361\n",
      "Epoch 78/200\n",
      "6/6 [==============================] - 0s 4ms/step - loss: 0.8263 - accuracy: 0.8634\n",
      "Epoch 79/200\n",
      "6/6 [==============================] - 0s 3ms/step - loss: 0.7948 - accuracy: 0.8634\n",
      "Epoch 80/200\n",
      "6/6 [==============================] - 0s 4ms/step - loss: 0.7672 - accuracy: 0.8634\n",
      "Epoch 81/200\n",
      "6/6 [==============================] - 0s 4ms/step - loss: 0.7354 - accuracy: 0.8689\n",
      "Epoch 82/200\n",
      "6/6 [==============================] - 0s 3ms/step - loss: 0.7126 - accuracy: 0.8907\n",
      "Epoch 83/200\n",
      "6/6 [==============================] - 0s 3ms/step - loss: 0.6849 - accuracy: 0.9016\n",
      "Epoch 84/200\n"
     ]
    },
    {
     "name": "stdout",
     "output_type": "stream",
     "text": [
      "6/6 [==============================] - 0s 3ms/step - loss: 0.6576 - accuracy: 0.9126\n",
      "Epoch 85/200\n",
      "6/6 [==============================] - 0s 4ms/step - loss: 0.6345 - accuracy: 0.8962\n",
      "Epoch 86/200\n",
      "6/6 [==============================] - 0s 4ms/step - loss: 0.6080 - accuracy: 0.9126\n",
      "Epoch 87/200\n",
      "6/6 [==============================] - 0s 3ms/step - loss: 0.5865 - accuracy: 0.9180\n",
      "Epoch 88/200\n",
      "6/6 [==============================] - 0s 4ms/step - loss: 0.5658 - accuracy: 0.9126\n",
      "Epoch 89/200\n",
      "6/6 [==============================] - 0s 4ms/step - loss: 0.5495 - accuracy: 0.9180\n",
      "Epoch 90/200\n",
      "6/6 [==============================] - 0s 3ms/step - loss: 0.5228 - accuracy: 0.9235\n",
      "Epoch 91/200\n",
      "6/6 [==============================] - 0s 3ms/step - loss: 0.5079 - accuracy: 0.9344\n",
      "Epoch 92/200\n",
      "6/6 [==============================] - 0s 4ms/step - loss: 0.4899 - accuracy: 0.9399\n",
      "Epoch 93/200\n",
      "6/6 [==============================] - 0s 4ms/step - loss: 0.4774 - accuracy: 0.9454\n",
      "Epoch 94/200\n",
      "6/6 [==============================] - 0s 3ms/step - loss: 0.4552 - accuracy: 0.9290\n",
      "Epoch 95/200\n",
      "6/6 [==============================] - 0s 4ms/step - loss: 0.4389 - accuracy: 0.9344\n",
      "Epoch 96/200\n",
      "6/6 [==============================] - 0s 4ms/step - loss: 0.4221 - accuracy: 0.9399\n",
      "Epoch 97/200\n",
      "6/6 [==============================] - 0s 3ms/step - loss: 0.4046 - accuracy: 0.9563\n",
      "Epoch 98/200\n",
      "6/6 [==============================] - 0s 3ms/step - loss: 0.3915 - accuracy: 0.9563\n",
      "Epoch 99/200\n",
      "6/6 [==============================] - 0s 3ms/step - loss: 0.3789 - accuracy: 0.9617\n",
      "Epoch 100/200\n",
      "6/6 [==============================] - 0s 3ms/step - loss: 0.3627 - accuracy: 0.9672\n",
      "Epoch 101/200\n",
      "6/6 [==============================] - 0s 3ms/step - loss: 0.3506 - accuracy: 0.9727\n",
      "Epoch 102/200\n",
      "6/6 [==============================] - 0s 3ms/step - loss: 0.3379 - accuracy: 0.9727\n",
      "Epoch 103/200\n",
      "6/6 [==============================] - 0s 3ms/step - loss: 0.3282 - accuracy: 0.9672\n",
      "Epoch 104/200\n",
      "6/6 [==============================] - 0s 3ms/step - loss: 0.3182 - accuracy: 0.9617\n",
      "Epoch 105/200\n",
      "6/6 [==============================] - 0s 3ms/step - loss: 0.3014 - accuracy: 0.9781\n",
      "Epoch 106/200\n",
      "6/6 [==============================] - 0s 4ms/step - loss: 0.2964 - accuracy: 0.9727\n",
      "Epoch 107/200\n",
      "6/6 [==============================] - 0s 4ms/step - loss: 0.2844 - accuracy: 0.9727\n",
      "Epoch 108/200\n",
      "6/6 [==============================] - 0s 3ms/step - loss: 0.2732 - accuracy: 0.9727\n",
      "Epoch 109/200\n",
      "6/6 [==============================] - 0s 4ms/step - loss: 0.2652 - accuracy: 0.9672\n",
      "Epoch 110/200\n",
      "6/6 [==============================] - 0s 3ms/step - loss: 0.2581 - accuracy: 0.9727\n",
      "Epoch 111/200\n",
      "6/6 [==============================] - 0s 3ms/step - loss: 0.2479 - accuracy: 0.9781\n",
      "Epoch 112/200\n",
      "6/6 [==============================] - 0s 3ms/step - loss: 0.2393 - accuracy: 0.9727\n",
      "Epoch 113/200\n",
      "6/6 [==============================] - 0s 3ms/step - loss: 0.2319 - accuracy: 0.9836\n",
      "Epoch 114/200\n",
      "6/6 [==============================] - 0s 3ms/step - loss: 0.2242 - accuracy: 0.9781\n",
      "Epoch 115/200\n",
      "6/6 [==============================] - 0s 3ms/step - loss: 0.2142 - accuracy: 0.9836\n",
      "Epoch 116/200\n",
      "6/6 [==============================] - 0s 4ms/step - loss: 0.2126 - accuracy: 0.9836\n",
      "Epoch 117/200\n",
      "6/6 [==============================] - 0s 4ms/step - loss: 0.2028 - accuracy: 0.9781\n",
      "Epoch 118/200\n",
      "6/6 [==============================] - 0s 3ms/step - loss: 0.1962 - accuracy: 0.9836\n",
      "Epoch 119/200\n",
      "6/6 [==============================] - 0s 3ms/step - loss: 0.1877 - accuracy: 0.9891\n",
      "Epoch 120/200\n",
      "6/6 [==============================] - 0s 4ms/step - loss: 0.1837 - accuracy: 0.9836\n",
      "Epoch 121/200\n",
      "6/6 [==============================] - 0s 4ms/step - loss: 0.1804 - accuracy: 0.9836\n",
      "Epoch 122/200\n",
      "6/6 [==============================] - 0s 4ms/step - loss: 0.1723 - accuracy: 0.9891\n",
      "Epoch 123/200\n",
      "6/6 [==============================] - 0s 5ms/step - loss: 0.1666 - accuracy: 0.9891\n",
      "Epoch 124/200\n",
      "6/6 [==============================] - 0s 4ms/step - loss: 0.1651 - accuracy: 0.9836\n",
      "Epoch 125/200\n",
      "6/6 [==============================] - 0s 4ms/step - loss: 0.1567 - accuracy: 0.9836\n",
      "Epoch 126/200\n",
      "6/6 [==============================] - 0s 3ms/step - loss: 0.1528 - accuracy: 0.9945\n",
      "Epoch 127/200\n",
      "6/6 [==============================] - 0s 3ms/step - loss: 0.1467 - accuracy: 0.9945\n",
      "Epoch 128/200\n",
      "6/6 [==============================] - 0s 3ms/step - loss: 0.1417 - accuracy: 0.9945\n",
      "Epoch 129/200\n",
      "6/6 [==============================] - 0s 3ms/step - loss: 0.1376 - accuracy: 0.9945\n",
      "Epoch 130/200\n",
      "6/6 [==============================] - 0s 4ms/step - loss: 0.1347 - accuracy: 0.9945\n",
      "Epoch 131/200\n",
      "6/6 [==============================] - 0s 3ms/step - loss: 0.1309 - accuracy: 0.9945\n",
      "Epoch 132/200\n",
      "6/6 [==============================] - 0s 4ms/step - loss: 0.1253 - accuracy: 0.9945\n",
      "Epoch 133/200\n",
      "6/6 [==============================] - 0s 4ms/step - loss: 0.1217 - accuracy: 0.9945\n",
      "Epoch 134/200\n",
      "6/6 [==============================] - 0s 4ms/step - loss: 0.1178 - accuracy: 1.0000\n",
      "Epoch 135/200\n",
      "6/6 [==============================] - 0s 4ms/step - loss: 0.1151 - accuracy: 1.0000\n",
      "Epoch 136/200\n",
      "6/6 [==============================] - 0s 4ms/step - loss: 0.1144 - accuracy: 0.9945\n",
      "Epoch 137/200\n",
      "6/6 [==============================] - 0s 4ms/step - loss: 0.1088 - accuracy: 1.0000\n",
      "Epoch 138/200\n",
      "6/6 [==============================] - 0s 3ms/step - loss: 0.1083 - accuracy: 0.9945\n",
      "Epoch 139/200\n",
      "6/6 [==============================] - 0s 3ms/step - loss: 0.1034 - accuracy: 1.0000\n",
      "Epoch 140/200\n",
      "6/6 [==============================] - 0s 4ms/step - loss: 0.0993 - accuracy: 1.0000\n",
      "Epoch 141/200\n",
      "6/6 [==============================] - 0s 4ms/step - loss: 0.0971 - accuracy: 1.0000\n",
      "Epoch 142/200\n",
      "6/6 [==============================] - 0s 3ms/step - loss: 0.0945 - accuracy: 1.0000\n",
      "Epoch 143/200\n",
      "6/6 [==============================] - 0s 3ms/step - loss: 0.0915 - accuracy: 1.0000\n",
      "Epoch 144/200\n",
      "6/6 [==============================] - 0s 4ms/step - loss: 0.0897 - accuracy: 1.0000\n",
      "Epoch 145/200\n",
      "6/6 [==============================] - 0s 4ms/step - loss: 0.0869 - accuracy: 1.0000\n",
      "Epoch 146/200\n",
      "6/6 [==============================] - 0s 4ms/step - loss: 0.0842 - accuracy: 1.0000\n",
      "Epoch 147/200\n",
      "6/6 [==============================] - 0s 4ms/step - loss: 0.0811 - accuracy: 1.0000\n",
      "Epoch 148/200\n",
      "6/6 [==============================] - 0s 4ms/step - loss: 0.0791 - accuracy: 1.0000\n",
      "Epoch 149/200\n",
      "6/6 [==============================] - 0s 4ms/step - loss: 0.0770 - accuracy: 1.0000\n",
      "Epoch 150/200\n",
      "6/6 [==============================] - 0s 3ms/step - loss: 0.0754 - accuracy: 1.0000\n",
      "Epoch 151/200\n",
      "6/6 [==============================] - 0s 3ms/step - loss: 0.0733 - accuracy: 1.0000\n",
      "Epoch 152/200\n",
      "6/6 [==============================] - 0s 4ms/step - loss: 0.0726 - accuracy: 1.0000\n",
      "Epoch 153/200\n",
      "6/6 [==============================] - 0s 3ms/step - loss: 0.0697 - accuracy: 1.0000\n",
      "Epoch 154/200\n",
      "6/6 [==============================] - 0s 6ms/step - loss: 0.0681 - accuracy: 1.0000\n",
      "Epoch 155/200\n",
      "6/6 [==============================] - 0s 3ms/step - loss: 0.0666 - accuracy: 1.0000\n",
      "Epoch 156/200\n",
      "6/6 [==============================] - 0s 4ms/step - loss: 0.0651 - accuracy: 1.0000\n",
      "Epoch 157/200\n",
      "6/6 [==============================] - 0s 4ms/step - loss: 0.0637 - accuracy: 1.0000\n",
      "Epoch 158/200\n",
      "6/6 [==============================] - 0s 4ms/step - loss: 0.0616 - accuracy: 1.0000\n",
      "Epoch 159/200\n",
      "6/6 [==============================] - 0s 4ms/step - loss: 0.0597 - accuracy: 1.0000\n",
      "Epoch 160/200\n",
      "6/6 [==============================] - 0s 4ms/step - loss: 0.0585 - accuracy: 1.0000\n",
      "Epoch 161/200\n",
      "6/6 [==============================] - 0s 4ms/step - loss: 0.0565 - accuracy: 1.0000\n",
      "Epoch 162/200\n",
      "6/6 [==============================] - 0s 4ms/step - loss: 0.0556 - accuracy: 1.0000\n",
      "Epoch 163/200\n",
      "6/6 [==============================] - 0s 4ms/step - loss: 0.0546 - accuracy: 1.0000\n",
      "Epoch 164/200\n",
      "6/6 [==============================] - 0s 4ms/step - loss: 0.0530 - accuracy: 1.0000\n",
      "Epoch 165/200\n",
      "6/6 [==============================] - 0s 4ms/step - loss: 0.0525 - accuracy: 1.0000\n",
      "Epoch 166/200\n",
      "6/6 [==============================] - 0s 4ms/step - loss: 0.0509 - accuracy: 1.0000\n",
      "Epoch 167/200\n"
     ]
    },
    {
     "name": "stdout",
     "output_type": "stream",
     "text": [
      "6/6 [==============================] - 0s 4ms/step - loss: 0.0496 - accuracy: 1.0000\n",
      "Epoch 168/200\n",
      "6/6 [==============================] - 0s 4ms/step - loss: 0.0486 - accuracy: 1.0000\n",
      "Epoch 169/200\n",
      "6/6 [==============================] - 0s 3ms/step - loss: 0.0474 - accuracy: 1.0000\n",
      "Epoch 170/200\n",
      "6/6 [==============================] - 0s 3ms/step - loss: 0.0465 - accuracy: 1.0000\n",
      "Epoch 171/200\n",
      "6/6 [==============================] - 0s 4ms/step - loss: 0.0451 - accuracy: 1.0000\n",
      "Epoch 172/200\n",
      "6/6 [==============================] - 0s 4ms/step - loss: 0.0438 - accuracy: 1.0000\n",
      "Epoch 173/200\n",
      "6/6 [==============================] - 0s 3ms/step - loss: 0.0430 - accuracy: 1.0000\n",
      "Epoch 174/200\n",
      "6/6 [==============================] - 0s 3ms/step - loss: 0.0424 - accuracy: 1.0000\n",
      "Epoch 175/200\n",
      "6/6 [==============================] - 0s 3ms/step - loss: 0.0412 - accuracy: 1.0000\n",
      "Epoch 176/200\n",
      "6/6 [==============================] - 0s 4ms/step - loss: 0.0404 - accuracy: 1.0000\n",
      "Epoch 177/200\n",
      "6/6 [==============================] - 0s 4ms/step - loss: 0.0397 - accuracy: 1.0000\n",
      "Epoch 178/200\n",
      "6/6 [==============================] - 0s 4ms/step - loss: 0.0393 - accuracy: 1.0000\n",
      "Epoch 179/200\n",
      "6/6 [==============================] - 0s 2ms/step - loss: 0.0381 - accuracy: 1.0000\n",
      "Epoch 180/200\n",
      "6/6 [==============================] - 0s 3ms/step - loss: 0.0375 - accuracy: 1.0000\n",
      "Epoch 181/200\n",
      "6/6 [==============================] - 0s 2ms/step - loss: 0.0366 - accuracy: 1.0000\n",
      "Epoch 182/200\n",
      "6/6 [==============================] - 0s 3ms/step - loss: 0.0355 - accuracy: 1.0000\n",
      "Epoch 183/200\n",
      "6/6 [==============================] - 0s 2ms/step - loss: 0.0353 - accuracy: 1.0000\n",
      "Epoch 184/200\n",
      "6/6 [==============================] - 0s 3ms/step - loss: 0.0345 - accuracy: 1.0000\n",
      "Epoch 185/200\n",
      "6/6 [==============================] - 0s 3ms/step - loss: 0.0336 - accuracy: 1.0000\n",
      "Epoch 186/200\n",
      "6/6 [==============================] - 0s 3ms/step - loss: 0.0332 - accuracy: 1.0000\n",
      "Epoch 187/200\n",
      "6/6 [==============================] - 0s 4ms/step - loss: 0.0322 - accuracy: 1.0000\n",
      "Epoch 188/200\n",
      "6/6 [==============================] - 0s 3ms/step - loss: 0.0318 - accuracy: 1.0000\n",
      "Epoch 189/200\n",
      "6/6 [==============================] - 0s 3ms/step - loss: 0.0311 - accuracy: 1.0000\n",
      "Epoch 190/200\n",
      "6/6 [==============================] - 0s 3ms/step - loss: 0.0306 - accuracy: 1.0000\n",
      "Epoch 191/200\n",
      "6/6 [==============================] - 0s 3ms/step - loss: 0.0300 - accuracy: 1.0000\n",
      "Epoch 192/200\n",
      "6/6 [==============================] - 0s 3ms/step - loss: 0.0295 - accuracy: 1.0000\n",
      "Epoch 193/200\n",
      "6/6 [==============================] - 0s 3ms/step - loss: 0.0290 - accuracy: 1.0000\n",
      "Epoch 194/200\n",
      "6/6 [==============================] - 0s 4ms/step - loss: 0.0284 - accuracy: 1.0000\n",
      "Epoch 195/200\n",
      "6/6 [==============================] - 0s 4ms/step - loss: 0.0278 - accuracy: 1.0000\n",
      "Epoch 196/200\n",
      "6/6 [==============================] - 0s 3ms/step - loss: 0.0277 - accuracy: 1.0000\n",
      "Epoch 197/200\n",
      "6/6 [==============================] - 0s 3ms/step - loss: 0.0269 - accuracy: 1.0000\n",
      "Epoch 198/200\n",
      "6/6 [==============================] - 0s 3ms/step - loss: 0.0270 - accuracy: 1.0000\n",
      "Epoch 199/200\n",
      "6/6 [==============================] - 0s 3ms/step - loss: 0.0260 - accuracy: 1.0000\n",
      "Epoch 200/200\n",
      "6/6 [==============================] - 0s 3ms/step - loss: 0.0254 - accuracy: 1.0000\n"
     ]
    },
    {
     "data": {
      "text/plain": [
       "<keras.src.callbacks.History at 0x7ff56b9690f0>"
      ]
     },
     "execution_count": 38,
     "metadata": {},
     "output_type": "execute_result"
    }
   ],
   "source": [
    "model.fit(x, y, epochs=200)"
   ]
  },
  {
   "cell_type": "code",
   "execution_count": 39,
   "id": "be369d0f",
   "metadata": {},
   "outputs": [
    {
     "name": "stdout",
     "output_type": "stream",
     "text": [
      "Model: \"sequential_1\"\n",
      "_________________________________________________________________\n",
      " Layer (type)                Output Shape              Param #   \n",
      "=================================================================\n",
      " embedding_1 (Embedding)     (None, 4, 10)             1010      \n",
      "                                                                 \n",
      " lambda_1 (Lambda)           (None, 10)                0         \n",
      "                                                                 \n",
      " dense_3 (Dense)             (None, 128)               1408      \n",
      "                                                                 \n",
      " dense_4 (Dense)             (None, 64)                8256      \n",
      "                                                                 \n",
      " dense_5 (Dense)             (None, 101)               6565      \n",
      "                                                                 \n",
      "=================================================================\n",
      "Total params: 17239 (67.34 KB)\n",
      "Trainable params: 17239 (67.34 KB)\n",
      "Non-trainable params: 0 (0.00 Byte)\n",
      "_________________________________________________________________\n"
     ]
    }
   ],
   "source": [
    "model.summary()"
   ]
  },
  {
   "cell_type": "code",
   "execution_count": 40,
   "id": "c182e738",
   "metadata": {},
   "outputs": [],
   "source": [
    "# Get the word embeddings\n",
    "weights = model.get_weights()[0]"
   ]
  },
  {
   "cell_type": "code",
   "execution_count": 43,
   "id": "4e441897",
   "metadata": {},
   "outputs": [],
   "source": [
    "# Perform PCA to reduce \n",
    "pca = PCA(2)\n",
    "reduce_weights = pca.fit_transform(weights)"
   ]
  },
  {
   "cell_type": "code",
   "execution_count": 44,
   "id": "5aa4dd76",
   "metadata": {},
   "outputs": [
    {
     "data": {
      "image/png": "[encoded data removed]",
      "text/plain": [
       "<Figure size 640x480 with 1 Axes>"
      ]
     },
     "metadata": {},
     "output_type": "display_data"
    }
   ],
   "source": [
    "# visualize the embeddings\n",
    "for i, word in enumerate(tokenizer.word_index.keys()):\n",
    "    x, y = reduce_weights[i]\n",
    "    plt.scatter(x,y)\n",
    "    plt.annotate(word, (x,y))\n",
    "plt.show()"
   ]
  },
  {
   "cell_type": "code",
   "execution_count": null,
   "id": "c1c703f2",
   "metadata": {},
   "outputs": [],
   "source": []
  }
 ],
 "metadata": {
  "kernelspec": {
   "display_name": "Python 3 (ipykernel)",
   "language": "python",
   "name": "python3"
  },
  "language_info": {
   "codemirror_mode": {
    "name": "ipython",
    "version": 3
   },
   "file_extension": ".py",
   "mimetype": "text/x-python",
   "name": "python",
   "nbconvert_exporter": "python",
   "pygments_lexer": "ipython3",
   "version": "3.10.12"
  }
 },
 "nbformat": 4,
 "nbformat_minor": 5
}
