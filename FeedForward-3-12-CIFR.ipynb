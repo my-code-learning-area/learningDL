{
 "cells": [
  {
   "cell_type": "markdown",
   "id": "99b63179",
   "metadata": {},
   "source": [
    "# Build Feedforward neural networks with Keras and TensorFlow for classification of CIFAR10 image dataset using the following steps:\n",
    "* a. Import the necessary packages\n",
    "* b. Load the training and testing data \n",
    "* c. Define the network architecture using Keras \n",
    "* d. Train the model using SGD/Adam optimizer\n",
    "* e. Evaluate the network \n",
    "* f. Plot the training loss and accuracy"
   ]
  },
  {
   "cell_type": "markdown",
   "id": "d53a22c3",
   "metadata": {},
   "source": [
    "## A. Import The Necessary Packages"
   ]
  },
  {
   "cell_type": "code",
   "execution_count": 2,
   "id": "95f20da6",
   "metadata": {},
   "outputs": [],
   "source": [
    "import tensorflow as tf\n",
    "from tensorflow.keras.models import Sequential\n",
    "from tensorflow.keras.layers import Dense, Dropout\n",
    "from tensorflow.keras.optimizers import SGD\n",
    "import matplotlib.pyplot as plt\n",
    "\n",
    "import pandas as pd\n",
    "import numpy as np"
   ]
  },
  {
   "cell_type": "markdown",
   "id": "ca68e80c",
   "metadata": {},
   "source": [
    "## B. Load the CIFR training and testing data"
   ]
  },
  {
   "cell_type": "code",
   "execution_count": 28,
   "id": "69d21a5f",
   "metadata": {},
   "outputs": [],
   "source": [
    "test = pd.read_csv(\"../datasets/CIFR(Ass2&3)/test_data.csv\")\n",
    "train = pd.read_csv(\"../datasets/CIFR(Ass2&3)/train_data.csv\")"
   ]
  },
  {
   "cell_type": "code",
   "execution_count": 29,
   "id": "979146b8",
   "metadata": {},
   "outputs": [],
   "source": [
    "x_train = train.drop(\"label\", axis=1).values\n",
    "x_test = test.drop(\"label\", axis=1).values"
   ]
  },
  {
   "cell_type": "code",
   "execution_count": 30,
   "id": "d610affa",
   "metadata": {},
   "outputs": [],
   "source": [
    "shape = x_train.shape[1]"
   ]
  },
  {
   "cell_type": "code",
   "execution_count": 31,
   "id": "367b3a27",
   "metadata": {},
   "outputs": [],
   "source": [
    "x_train = x_train.reshape((-1, shape))\n",
    "x_test = x_test.reshape((-1, shape))"
   ]
  },
  {
   "cell_type": "code",
   "execution_count": 32,
   "id": "15be624e",
   "metadata": {},
   "outputs": [],
   "source": [
    "x_train = x_train / 255.0\n",
    "x_test = x_test / 255.0"
   ]
  },
  {
   "cell_type": "code",
   "execution_count": 33,
   "id": "1ff1d1f2",
   "metadata": {},
   "outputs": [],
   "source": [
    "y_train = train[\"label\"].values\n",
    "y_test = test[\"label\"].values"
   ]
  },
  {
   "cell_type": "code",
   "execution_count": 34,
   "id": "14ce37b6",
   "metadata": {},
   "outputs": [],
   "source": [
    "y_train = tf.keras.utils.to_categorical(y_train)\n",
    "y_test = tf.keras.utils.to_categorical(y_test)"
   ]
  },
  {
   "cell_type": "code",
   "execution_count": 37,
   "id": "77645136",
   "metadata": {},
   "outputs": [],
   "source": [
    "model = Sequential([\n",
    "    Dense(shape, \"relu\"),\n",
    "    Dense(64, \"relu\"),\n",
    "    Dense(10, \"softmax\")\n",
    "])"
   ]
  },
  {
   "cell_type": "code",
   "execution_count": 38,
   "id": "98f3fd50",
   "metadata": {},
   "outputs": [],
   "source": [
    "model.compile(SGD(0.01), \"categorical_crossentropy\", metrics=[\"accuracy\"])"
   ]
  },
  {
   "cell_type": "code",
   "execution_count": 40,
   "id": "6592b246",
   "metadata": {},
   "outputs": [
    {
     "name": "stdout",
     "output_type": "stream",
     "text": [
      "Epoch 1/10\n",
      "  1/391 [..............................] - ETA: 26s - loss: 1.9875 - accuracy: 0.2969"
     ]
    },
    {
     "name": "stderr",
     "output_type": "stream",
     "text": [
      "2023-11-17 01:39:40.674855: W tensorflow/tsl/framework/cpu_allocator_impl.cc:83] Allocation of 614400000 exceeds 10% of free system memory.\n"
     ]
    },
    {
     "name": "stdout",
     "output_type": "stream",
     "text": [
      "391/391 [==============================] - 28s 72ms/step - loss: 1.8319 - accuracy: 0.3551\n",
      "Epoch 2/10\n",
      "391/391 [==============================] - 29s 74ms/step - loss: 1.7381 - accuracy: 0.3896\n",
      "Epoch 3/10\n",
      "391/391 [==============================] - 29s 75ms/step - loss: 1.6819 - accuracy: 0.4108\n",
      "Epoch 4/10\n",
      "391/391 [==============================] - 27s 69ms/step - loss: 1.6379 - accuracy: 0.4253\n",
      "Epoch 5/10\n",
      "391/391 [==============================] - 29s 74ms/step - loss: 1.6033 - accuracy: 0.4388\n",
      "Epoch 6/10\n",
      "391/391 [==============================] - 29s 75ms/step - loss: 1.5772 - accuracy: 0.4490\n",
      "Epoch 7/10\n",
      "391/391 [==============================] - 31s 78ms/step - loss: 1.5503 - accuracy: 0.4571\n",
      "Epoch 8/10\n",
      "391/391 [==============================] - 30s 77ms/step - loss: 1.5229 - accuracy: 0.4670\n",
      "Epoch 9/10\n",
      "391/391 [==============================] - 29s 75ms/step - loss: 1.5015 - accuracy: 0.4768\n",
      "Epoch 10/10\n",
      "391/391 [==============================] - 29s 75ms/step - loss: 1.4771 - accuracy: 0.4858\n"
     ]
    }
   ],
   "source": [
    "M = model.fit(x_train, y_train, batch_size=128, epochs=10)"
   ]
  },
  {
   "cell_type": "code",
   "execution_count": 41,
   "id": "48841fb8",
   "metadata": {},
   "outputs": [
    {
     "name": "stdout",
     "output_type": "stream",
     "text": [
      "313/313 [==============================] - 3s 11ms/step - loss: 1.4991 - accuracy: 0.4700\n"
     ]
    },
    {
     "data": {
      "text/plain": [
       "[1.4990545511245728, 0.4699999988079071]"
      ]
     },
     "execution_count": 41,
     "metadata": {},
     "output_type": "execute_result"
    }
   ],
   "source": [
    "model.evaluate(x_test, y_test)"
   ]
  },
  {
   "cell_type": "code",
   "execution_count": 42,
   "id": "899bd707",
   "metadata": {},
   "outputs": [
    {
     "data": {
      "text/plain": [
       "[<matplotlib.lines.Line2D at 0x7fc43be39720>]"
      ]
     },
     "execution_count": 42,
     "metadata": {},
     "output_type": "execute_result"
    },
    {
     "data": {
      "image/png": "[encoded data removed]",
      "text/plain": [
       "<Figure size 640x480 with 1 Axes>"
      ]
     },
     "metadata": {},
     "output_type": "display_data"
    }
   ],
   "source": [
    "plt.plot(M.history[\"accuracy\"])"
   ]
  },
  {
   "cell_type": "code",
   "execution_count": 43,
   "id": "dcd06eee",
   "metadata": {},
   "outputs": [
    {
     "data": {
      "text/plain": [
       "[<matplotlib.lines.Line2D at 0x7fc43b9ec460>]"
      ]
     },
     "execution_count": 43,
     "metadata": {},
     "output_type": "execute_result"
    },
    {
     "data": {
      "image/png": "[encoded data removed]",
      "text/plain": [
       "<Figure size 640x480 with 1 Axes>"
      ]
     },
     "metadata": {},
     "output_type": "display_data"
    }
   ],
   "source": [
    "plt.plot(M.history[\"loss\"])"
   ]
  },
  {
   "cell_type": "code",
   "execution_count": 44,
   "id": "b211061f",
   "metadata": {},
   "outputs": [],
   "source": [
    "classes=['airplane','automobile','bird','cat','deer','dog','frog','horse','ship','truck']"
   ]
  },
  {
   "cell_type": "code",
   "execution_count": 59,
   "id": "b78259b3",
   "metadata": {},
   "outputs": [
    {
     "name": "stdout",
     "output_type": "stream",
     "text": [
      "313/313 [==============================] - 3s 9ms/step\n",
      "actual:  ship\n",
      "predicted:  ship\n"
     ]
    },
    {
     "data": {
      "image/png": "[encoded data removed]",
      "text/plain": [
       "<Figure size 640x480 with 1 Axes>"
      ]
     },
     "metadata": {},
     "output_type": "display_data"
    }
   ],
   "source": [
    "n = 15\n",
    "plt.imshow(x_test[n].reshape((32,32,3)))\n",
    "\n",
    "predictions = model.predict(x_test)\n",
    "\n",
    "print(\"actual: \", classes[np.argmax(y_test[n])])\n",
    "print(\"predicted: \", classes[np.argmax(predictions[n])])"
   ]
  },
  {
   "cell_type": "code",
   "execution_count": null,
   "id": "c2ad5f77",
   "metadata": {},
   "outputs": [],
   "source": []
  }
 ],
 "metadata": {
  "kernelspec": {
   "display_name": "Python 3 (ipykernel)",
   "language": "python",
   "name": "python3"
  },
  "language_info": {
   "codemirror_mode": {
    "name": "ipython",
    "version": 3
   },
   "file_extension": ".py",
   "mimetype": "text/x-python",
   "name": "python",
   "nbconvert_exporter": "python",
   "pygments_lexer": "ipython3",
   "version": "3.10.12"
  }
 },
 "nbformat": 4,
 "nbformat_minor": 5
}
