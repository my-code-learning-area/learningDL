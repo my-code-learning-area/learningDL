{
 "cells": [
  {
   "cell_type": "code",
   "execution_count": null,
   "id": "60725baa",
   "metadata": {},
   "outputs": [],
   "source": [
    "#Transfer learning is a technique that involves using a pre-trained model on a new task. This can be a very effective way to improve the performance of a model, as the pre-trained model has already learned some useful features\n",
    "\n",
    "#Basic Idea:\n",
    "\t#basic idea of transfer learning is to take a model that has been trained on a large dataset of data and use it to train a new model on a smaller dataset of data. The pre-trained model is used as a starting point for the new model, and the weights of the pre-trained model are fine-tuned on the new dataset of data."
   ]
  },
  {
   "cell_type": "code",
   "execution_count": 2,
   "id": "f4cd3c6f",
   "metadata": {},
   "outputs": [],
   "source": [
    "from keras.applications import VGG16\n",
    "#VGG16 is a convolutional neural network (CNN) architecture\n",
    "# It is a very deep network with 16 layers, which makes it capable of learning very complex patterns in images.\n",
    "#used for- img classi, obj dete,img segmentation\n",
    "#often used as a starting point for transfer learning. \n",
    "\n",
    "from keras.models import Model\n",
    "from keras.layers import Dense,Flatten\n",
    "from keras.optimizers import Adam\n",
    "\n",
    "from keras.preprocessing.image import ImageDataGenerator\n",
    "#ImageDataGenerator is a tool that simplifies the process of using transfer learning for image classification tasks. It allows you to automatically generate augmented data, which involves modifying existing images to create variations that the model can learn from. This helps the model become more robust and generalize better to new data\n",
    "import numpy as np"
   ]
  },
  {
   "cell_type": "code",
   "execution_count": 7,
   "id": "8cf9ef35",
   "metadata": {},
   "outputs": [
    {
     "name": "stdout",
     "output_type": "stream",
     "text": [
      "Found 9144 images belonging to 102 classes.\n"
     ]
    }
   ],
   "source": [
    "#he Caltech-101 dataset is a collection of 101 categories of objects, with approximately 800 images per category.\n",
    "dataset_datagen=ImageDataGenerator(rescale=1.0/255,)# The rescale parameter is set to 1.0/255, which will normalize the pixel values of the images in the dataset to be between 0 and 1.\n",
    "\n",
    "#batch_size = 2000\n",
    "dataset_generator = dataset_datagen.flow_from_directory(  #generate batches of data from the Caltech-101 dataset\n",
    "    \"./caltech-101-img\", #path to ds\n",
    "    target_size=(64, 64), \n",
    "    batch_size=2000,\n",
    ")"
   ]
  },
  {
   "cell_type": "code",
   "execution_count": 12,
   "id": "84a7f195",
   "metadata": {},
   "outputs": [
    {
     "name": "stdout",
     "output_type": "stream",
     "text": [
      "2000\n",
      "2000\n"
     ]
    }
   ],
   "source": [
    "#split the dataset into training and testing sets\n",
    "x_train,y_train=dataset_generator[0]\n",
    "x_test,y_test=dataset_generator[1]\n",
    "\n",
    "print(len(x_train))\n",
    "print(len(x_test))"
   ]
  },
  {
   "cell_type": "code",
   "execution_count": 17,
   "id": "a762c6b1",
   "metadata": {},
   "outputs": [],
   "source": [
    "vggPath = \"./datasets/Object Detection(Ass6)/vgg16_weights_tf_dim_ordering_tf_kernels_notop.h5\"\n",
    "#The VGG16 weights file contains the weights that were learned when the VGG16 model was trained on the ImageNet dataset.\n",
    "base_model = VGG16(False, vggPath, input_shape=(64, 64, 3))\n",
    "#The include_top parameter is set to False, which means that the top layer of the VGG16 model, which is a fully connected layer that is used for image classification, will not be included in the new model. "
   ]
  },
  {
   "cell_type": "code",
   "execution_count": 19,
   "id": "0253d8b6",
   "metadata": {},
   "outputs": [],
   "source": [
    "for layer in base_model.layers:\n",
    "   layer.trainable = False\n",
    "#sets the trainable attribute of the current layer to False. This means that the weights of the layer will not be updated during training."
   ]
  },
  {
   "cell_type": "code",
   "execution_count": 21,
   "id": "92ab7c46",
   "metadata": {},
   "outputs": [],
   "source": [
    "x = Flatten()(base_model.output)\n",
    "# Explanation: This line adds a Flatten layer to the output of the base_model. The Flatten layer is used to transform the 3D tensor output from the convolutional base (which is usually the output of the last convolutional layer) into a 1D tensor. This flattening step is necessary when transitioning from convolutional layers to densely connected layers.\n",
    "# Example: Suppose the output shape of base_model is (7, 7, 512). This means you have a 3D tensor with dimensions 7x7x512. Applying the Flatten layer converts this 3D tensor into a 1D tensor by unraveling the values along the dimensions. In this case, the resulting 1D tensor would have a size of 7 * 7 * 512 = 25088.\n",
    "x = Dense(64, activation='relu')(x)\n",
    "predictions = Dense(102, activation='softmax')(x)\n",
    "\n",
    "# Create the model\n",
    "model = Model(inputs=base_model.input, outputs=predictions)\n",
    "# Compile the model\n",
    "model.compile(\"adam\", 'categorical_crossentropy', ['accuracy'])"
   ]
  },
  {
   "cell_type": "code",
   "execution_count": 23,
   "id": "8d4fe653",
   "metadata": {
    "scrolled": true
   },
   "outputs": [
    {
     "name": "stdout",
     "output_type": "stream",
     "text": [
      "Epoch 1/2\n",
      "16/16 [==============================] - 83s 5s/step - loss: 2.8746 - accuracy: 0.3660 - val_loss: 2.9631 - val_accuracy: 0.3770\n",
      "Epoch 2/2\n",
      "16/16 [==============================] - 91s 6s/step - loss: 2.5445 - accuracy: 0.4445 - val_loss: 2.7472 - val_accuracy: 0.4225\n"
     ]
    },
    {
     "data": {
      "text/plain": [
       "<keras.src.callbacks.History at 0x7fc7fa70a200>"
      ]
     },
     "execution_count": 23,
     "metadata": {},
     "output_type": "execute_result"
    }
   ],
   "source": [
    "model.fit(x_train, y_train, batch_size=128, epochs=2, validation_data=(x_test, y_test))"
   ]
  },
  {
   "cell_type": "code",
   "execution_count": 24,
   "id": "80fde0a7",
   "metadata": {},
   "outputs": [
    {
     "name": "stdout",
     "output_type": "stream",
     "text": [
      "Epoch 1/2\n",
      "16/16 [==============================] - 91s 6s/step - loss: 3.3306 - accuracy: 0.3100 - val_loss: 2.5704 - val_accuracy: 0.4285\n",
      "Epoch 2/2\n",
      "16/16 [==============================] - 92s 6s/step - loss: 1.9450 - accuracy: 0.5510 - val_loss: 1.9941 - val_accuracy: 0.5395\n"
     ]
    },
    {
     "data": {
      "text/plain": [
       "<keras.src.callbacks.History at 0x7fc7fcf0a290>"
      ]
     },
     "execution_count": 24,
     "metadata": {},
     "output_type": "execute_result"
    }
   ],
   "source": [
    "import tensorflow as tf\n",
    "\n",
    "##\n",
    "base_model = VGG16(weights=weights_path, include_top=False, input_shape=(64, 64, 3)) #creates new VGG16 model \n",
    "\n",
    "# freeze all layers first\n",
    "for layer in base_model.layers:\n",
    "   layer.trainable = False\n",
    "#i.e. weights of these layers will not be updated during training\n",
    "\n",
    "\n",
    "#-----\n",
    "# unfreeze last 4 layers of base model\n",
    "for layer in base_model.layers[len(base_model.layers) - 2:]:\n",
    "   layer.trainable = True\n",
    "#i.e. weights of these layers will be updates\n",
    "\n",
    "\n",
    "# fine-tuning hyper parameters\n",
    "x = Flatten()(base_model.output)\n",
    "x = Dense(512, activation='relu')(x)\n",
    "\n",
    "#-----\n",
    "x = tf.keras.layers.Dropout(0.3)(x)\n",
    "\n",
    "\n",
    "predictions = Dense(102, activation='softmax')(x)\n",
    "\n",
    "\n",
    "# Create the model\n",
    "model = Model(inputs=base_model.input, outputs=predictions)\n",
    "\n",
    "# Compile the model\n",
    "model.compile(Adam(learning_rate=0.001), 'categorical_crossentropy', ['accuracy'])\n",
    "\n",
    "# training fine tuned model\n",
    "model.fit(x_train, y_train, batch_size=128, epochs=2, validation_data=(x_test, y_test))\n"
   ]
  },
  {
   "cell_type": "code",
   "execution_count": 26,
   "id": "f4785b4f",
   "metadata": {},
   "outputs": [
    {
     "name": "stdout",
     "output_type": "stream",
     "text": [
      "63/63 [==============================] - 42s 668ms/step\n"
     ]
    },
    {
     "data": {
      "text/plain": [
       "array([[4.34928434e-03, 9.89965260e-01, 3.62784958e-05, ...,\n",
       "        2.02369776e-07, 2.82671408e-07, 1.37792154e-06],\n",
       "       [8.13188910e-01, 3.99823011e-06, 1.64881931e-05, ...,\n",
       "        3.43916254e-05, 1.29031643e-04, 2.45643387e-05],\n",
       "       [1.76951662e-01, 6.80106459e-05, 2.94061494e-04, ...,\n",
       "        1.23513571e-03, 1.18067407e-03, 6.65903674e-04],\n",
       "       ...,\n",
       "       [1.06892295e-01, 1.49879768e-03, 1.78124334e-04, ...,\n",
       "        3.70609434e-03, 4.37091076e-04, 3.59265920e-04],\n",
       "       [8.37401375e-02, 4.86361329e-04, 1.54503417e-04, ...,\n",
       "        2.20164726e-03, 9.69434986e-05, 6.73791728e-05],\n",
       "       [3.00895363e-01, 4.10782050e-05, 9.08714574e-05, ...,\n",
       "        8.06437153e-03, 5.60559507e-04, 4.99161142e-05]], dtype=float32)"
      ]
     },
     "execution_count": 26,
     "metadata": {},
     "output_type": "execute_result"
    }
   ],
   "source": [
    "predicted_value = model.predict(x_test)\n",
    "predicted_value"
   ]
  },
  {
   "cell_type": "code",
   "execution_count": 27,
   "id": "eb512b6b",
   "metadata": {},
   "outputs": [],
   "source": [
    "import matplotlib.pyplot as plt"
   ]
  },
  {
   "cell_type": "code",
   "execution_count": 28,
   "id": "0cd78638",
   "metadata": {},
   "outputs": [],
   "source": [
    "labels = list(dataset_generator.class_indices.keys())"
   ]
  },
  {
   "cell_type": "code",
   "execution_count": 30,
   "id": "e00f8b5d",
   "metadata": {
    "scrolled": true
   },
   "outputs": [
    {
     "name": "stdout",
     "output_type": "stream",
     "text": [
      "Preditcted:  airplanes\n",
      "Actual:  airplanes\n"
     ]
    },
    {
     "data": {
      "image/png": "[encoded data removed]",
      "text/plain": [
       "<Figure size 640x480 with 1 Axes>"
      ]
     },
     "metadata": {},
     "output_type": "display_data"
    }
   ],
   "source": [
    "n=101\n",
    "\n",
    "plt.imshow(x_test[n])\n",
    "print(\"Preditcted: \",labels[np.argmax(predicted_value[n])])\n",
    "print(\"Actual: \", labels[np.argmax(y_test[n])])"
   ]
  },
  {
   "cell_type": "code",
   "execution_count": null,
   "id": "0b66704b",
   "metadata": {},
   "outputs": [],
   "source": []
  },
  {
   "cell_type": "code",
   "execution_count": null,
   "id": "77072ba0",
   "metadata": {},
   "outputs": [],
   "source": []
  },
  {
   "cell_type": "code",
   "execution_count": null,
   "id": "42028e88",
   "metadata": {},
   "outputs": [],
   "source": []
  }
 ],
 "metadata": {
  "kernelspec": {
   "display_name": "Python 3 (ipykernel)",
   "language": "python",
   "name": "python3"
  },
  "language_info": {
   "codemirror_mode": {
    "name": "ipython",
    "version": 3
   },
   "file_extension": ".py",
   "mimetype": "text/x-python",
   "name": "python",
   "nbconvert_exporter": "python",
   "pygments_lexer": "ipython3",
   "version": "3.10.12"
  }
 },
 "nbformat": 4,
 "nbformat_minor": 5
}
