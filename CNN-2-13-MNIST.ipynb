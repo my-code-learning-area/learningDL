{
 "cells": [
  {
   "cell_type": "markdown",
   "id": "8ccc44d4",
   "metadata": {},
   "source": [
    "# Implement the Image classification CNN model for classifying hand-written MNIST dataset by dividing the model into following 4 stages:\n",
    "* a. Loading and preprocessing the image data\n",
    "* b. Defining the model's architecture\n",
    "* c. Training the model\n",
    "* d. Estimating the model's performance"
   ]
  },
  {
   "cell_type": "markdown",
   "id": "0f35d59f",
   "metadata": {},
   "source": [
    "# a. Loading and preprocessing the image data\n"
   ]
  },
  {
   "cell_type": "code",
   "execution_count": 11,
   "id": "c3d8b04c",
   "metadata": {},
   "outputs": [],
   "source": [
    "import numpy as np\n",
    "import pandas as pd\n",
    "import matplotlib.pyplot as plt\n",
    "import tensorflow as tf\n",
    "from tensorflow import keras\n",
    "from tensorflow.keras.models import Sequential\n",
    "from tensorflow.keras.layers import Conv2D, Flatten, Dense, MaxPooling2D\n",
    "from tensorflow.keras.optimizers import Adam"
   ]
  },
  {
   "cell_type": "code",
   "execution_count": 12,
   "id": "78ad3fb8",
   "metadata": {},
   "outputs": [
    {
     "name": "stdout",
     "output_type": "stream",
     "text": [
      "(60000, 784)\n",
      "(60000,)\n"
     ]
    }
   ],
   "source": [
    "mnist_train=pd.read_csv('../datasets/MNIST(Ass2&3)/mnist_train.csv')\n",
    "x_train=mnist_train.drop('label',axis=1).values\n",
    "y_train=mnist_train['label'].values\n",
    "\n",
    "print(x_train.shape)\n",
    "print(y_train.shape)"
   ]
  },
  {
   "cell_type": "code",
   "execution_count": 13,
   "id": "cc311fe8",
   "metadata": {},
   "outputs": [
    {
     "name": "stdout",
     "output_type": "stream",
     "text": [
      "(10000, 784)\n",
      "(10000,)\n"
     ]
    }
   ],
   "source": [
    "mnist_test=pd.read_csv('../datasets/MNIST(Ass2&3)/mnist_test.csv')\n",
    "x_test=mnist_test.drop('label',axis=1).values\n",
    "y_test=mnist_test['label'].values\n",
    "\n",
    "print(x_test.shape)\n",
    "print(y_test.shape)"
   ]
  },
  {
   "cell_type": "code",
   "execution_count": 14,
   "id": "6a6a89dc",
   "metadata": {},
   "outputs": [
    {
     "name": "stdout",
     "output_type": "stream",
     "text": [
      "(60000, 28, 28, 1)\n",
      "(10000, 28, 28, 1)\n"
     ]
    }
   ],
   "source": [
    "# Normalize pixel values to the range [0, 1]\n",
    "x_train = x_train / 255.0\n",
    "x_test = x_test / 255.0\n",
    "\n",
    "# Flatten the images to a 1D array (for MNIST)\n",
    "x_train = x_train.reshape((-1, 28, 28, 1))\n",
    "x_test = x_test.reshape((-1, 28, 28, 1))\n",
    "\n",
    "print(x_train.shape)\n",
    "print(x_test.shape)"
   ]
  },
  {
   "cell_type": "code",
   "execution_count": 15,
   "id": "88fb5eb1",
   "metadata": {},
   "outputs": [],
   "source": [
    "y_train = keras.utils.to_categorical(y_train)\n",
    "y_test = keras.utils.to_categorical(y_test)"
   ]
  },
  {
   "cell_type": "code",
   "execution_count": 20,
   "id": "084a2775",
   "metadata": {},
   "outputs": [
    {
     "name": "stdout",
     "output_type": "stream",
     "text": [
      "Model: \"sequential_2\"\n",
      "_________________________________________________________________\n",
      " Layer (type)                Output Shape              Param #   \n",
      "=================================================================\n",
      " conv2d_2 (Conv2D)           (None, 26, 26, 32)        320       \n",
      "                                                                 \n",
      " max_pooling2d_2 (MaxPoolin  (None, 13, 13, 32)        0         \n",
      " g2D)                                                            \n",
      "                                                                 \n",
      " flatten_2 (Flatten)         (None, 5408)              0         \n",
      "                                                                 \n",
      " dense_4 (Dense)             (None, 128)               692352    \n",
      "                                                                 \n",
      " dense_5 (Dense)             (None, 10)                1290      \n",
      "                                                                 \n",
      "=================================================================\n",
      "Total params: 693962 (2.65 MB)\n",
      "Trainable params: 693962 (2.65 MB)\n",
      "Non-trainable params: 0 (0.00 Byte)\n",
      "_________________________________________________________________\n"
     ]
    }
   ],
   "source": [
    "model=Sequential()\n",
    "\n",
    "model.add(Conv2D(32,(3,3),input_shape=(28,28,1,),activation='relu'))\n",
    "model.add(MaxPooling2D(2))\n",
    "model.add(Flatten())\n",
    "\n",
    "model.add(Dense(128,activation='relu'))\n",
    "\n",
    "model.add(Dense(10,activation='softmax'))\n",
    "\n",
    "model.summary()"
   ]
  },
  {
   "cell_type": "code",
   "execution_count": 21,
   "id": "d2b7fa5b",
   "metadata": {},
   "outputs": [
    {
     "name": "stdout",
     "output_type": "stream",
     "text": [
      "Epoch 1/5\n",
      "469/469 [==============================] - 14s 29ms/step - loss: 0.2253 - accuracy: 0.9361 - val_loss: 0.0850 - val_accuracy: 0.9749\n",
      "Epoch 2/5\n",
      "469/469 [==============================] - 14s 29ms/step - loss: 0.0686 - accuracy: 0.9799 - val_loss: 0.0550 - val_accuracy: 0.9826\n",
      "Epoch 3/5\n",
      "469/469 [==============================] - 14s 30ms/step - loss: 0.0455 - accuracy: 0.9864 - val_loss: 0.0442 - val_accuracy: 0.9844\n",
      "Epoch 4/5\n",
      "469/469 [==============================] - 14s 31ms/step - loss: 0.0335 - accuracy: 0.9895 - val_loss: 0.0475 - val_accuracy: 0.9835\n",
      "Epoch 5/5\n",
      "469/469 [==============================] - 14s 31ms/step - loss: 0.0244 - accuracy: 0.9930 - val_loss: 0.0399 - val_accuracy: 0.9870\n"
     ]
    }
   ],
   "source": [
    "model.compile('adam', 'categorical_crossentropy', ['accuracy'])\n",
    "H=model.fit(x_train,y_train, 128, 5, validation_data=(x_test, y_test))"
   ]
  },
  {
   "cell_type": "code",
   "execution_count": 22,
   "id": "0b336726",
   "metadata": {},
   "outputs": [
    {
     "name": "stdout",
     "output_type": "stream",
     "text": [
      "313/313 [==============================] - 1s 3ms/step - loss: 0.0399 - accuracy: 0.9870\n"
     ]
    },
    {
     "data": {
      "text/plain": [
       "[0.03990432620048523, 0.9869999885559082]"
      ]
     },
     "execution_count": 22,
     "metadata": {},
     "output_type": "execute_result"
    }
   ],
   "source": [
    "model.evaluate(x_test,y_test)"
   ]
  },
  {
   "cell_type": "code",
   "execution_count": 23,
   "id": "bea4e4c7",
   "metadata": {},
   "outputs": [
    {
     "data": {
      "image/png": "[encoded data removed]",
      "text/plain": [
       "<Figure size 640x480 with 1 Axes>"
      ]
     },
     "metadata": {},
     "output_type": "display_data"
    }
   ],
   "source": [
    "plt.plot(H.history['loss'],label=('loss'))\n",
    "plt.plot(H.history['accuracy'],label=('accuracy'))\n",
    "plt.legend()\n",
    "plt.show()"
   ]
  },
  {
   "cell_type": "code",
   "execution_count": 24,
   "id": "2abff65d",
   "metadata": {},
   "outputs": [
    {
     "name": "stdout",
     "output_type": "stream",
     "text": [
      "313/313 [==============================] - 1s 3ms/step\n",
      "Actual Number:  0\n",
      "Predicted Number:  0\n"
     ]
    },
    {
     "data": {
      "image/png": "[encoded data removed]",
      "text/plain": [
       "<Figure size 640x480 with 1 Axes>"
      ]
     },
     "metadata": {},
     "output_type": "display_data"
    }
   ],
   "source": [
    "n = 3\n",
    "plt.imshow(x_test[n].reshape(28, 28), \"gray\")\n",
    "\n",
    "predicted_value = model.predict(x_test)\n",
    "\n",
    "print(\"Actual Number: \",np.argmax(y_test[n]))\n",
    "print(\"Predicted Number: \", np.argmax(predicted_value[n]))"
   ]
  },
  {
   "cell_type": "code",
   "execution_count": null,
   "id": "f64e6110",
   "metadata": {},
   "outputs": [],
   "source": []
  }
 ],
 "metadata": {
  "kernelspec": {
   "display_name": "Python 3 (ipykernel)",
   "language": "python",
   "name": "python3"
  },
  "language_info": {
   "codemirror_mode": {
    "name": "ipython",
    "version": 3
   },
   "file_extension": ".py",
   "mimetype": "text/x-python",
   "name": "python",
   "nbconvert_exporter": "python",
   "pygments_lexer": "ipython3",
   "version": "3.10.12"
  }
 },
 "nbformat": 4,
 "nbformat_minor": 5
}
