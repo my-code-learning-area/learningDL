{
 "cells": [
  {
   "cell_type": "code",
   "execution_count": null,
   "id": "60725baa",
   "metadata": {},
   "outputs": [],
   "source": [
    "#Transfer learning is a technique that involves using a pre-trained model on a new task. This can be a very effective way to improve the performance of a model, as the pre-trained model has already learned some useful features\n",
    "\n",
    "#Basic Idea:\n",
    "\t#basic idea of transfer learning is to take a model that has been trained on a large dataset of data and use it to train a new model on a smaller dataset of data. The pre-trained model is used as a starting point for the new model, and the weights of the pre-trained model are fine-tuned on the new dataset of data."
   ]
  },
  {
   "cell_type": "code",
   "execution_count": 1,
   "id": "f4cd3c6f",
   "metadata": {},
   "outputs": [],
   "source": [
    "from keras.applications import VGG16\n",
    "#VGG16 is a convolutional neural network (CNN) architecture\n",
    "# It is a very deep network with 16 layers, which makes it capable of learning very complex patterns in images.\n",
    "#used for- img classi, obj dete,img segmentation\n",
    "#often used as a starting point for transfer learning. \n",
    "\n",
    "from keras.models import Model\n",
    "from keras.layers import Dense,Flatten\n",
    "from keras.optimizers import Adam\n",
    "\n",
    "from keras.preprocessing.image import ImageDataGenerator\n",
    "#ImageDataGenerator is a tool that simplifies the process of using transfer learning for image classification tasks. It allows you to automatically generate augmented data, which involves modifying existing images to create variations that the model can learn from. This helps the model become more robust and generalize better to new data\n",
    "import numpy as np"
   ]
  },
  {
   "cell_type": "code",
   "execution_count": 2,
   "id": "8cf9ef35",
   "metadata": {},
   "outputs": [
    {
     "name": "stdout",
     "output_type": "stream",
     "text": [
      "Found 9144 images belonging to 102 classes.\n"
     ]
    }
   ],
   "source": [
    "#he Caltech-101 dataset is a collection of 101 categories of objects, with approximately 800 images per category.\n",
    "dataset_dir = r\"C:\\Users\\hp\\Desktop\\BE\\DL\\Practise\\LP-IV-datasets\\caltech-101-img\"\n",
    "dataset_datagen=ImageDataGenerator(rescale=1.0/255,)# The rescale parameter is set to 1.0/255, which will normalize the pixel values of the images in the dataset to be between 0 and 1.\n",
    "\n",
    "#batch_size = 2000\n",
    "dataset_generator = dataset_datagen.flow_from_directory(  #generate batches of data from the Caltech-101 dataset\n",
    "    dataset_dir, #path to ds\n",
    "    target_size=(64, 64), \n",
    "    batch_size=2000,\n",
    "    class_mode='categorical' #the labels for the images will be one-hot encoded.\n",
    ")"
   ]
  },
  {
   "cell_type": "code",
   "execution_count": 3,
   "id": "84a7f195",
   "metadata": {},
   "outputs": [
    {
     "name": "stdout",
     "output_type": "stream",
     "text": [
      "2000\n",
      "2000\n"
     ]
    }
   ],
   "source": [
    "#split the dataset into training and testing sets\n",
    "x_train,y_train=dataset_generator[0]\n",
    "x_test,y_test=dataset_generator[1]\n",
    "\n",
    "print(len(x_train))\n",
    "print(len(x_test))"
   ]
  },
  {
   "cell_type": "code",
   "execution_count": 4,
   "id": "cd6fc8f0",
   "metadata": {},
   "outputs": [],
   "source": [
    "weights_path = \"vgg16_weights_tf_dim_ordering_tf_kernels_notop.h5\"\n",
    "#The VGG16 weights file contains the weights that were learned when the VGG16 model was trained on the ImageNet dataset.\n",
    "base_model = VGG16(weights=weights_path, include_top=False, input_shape=(64, 64, 3))\n",
    "#The include_top parameter is set to False, which means that the top layer of the VGG16 model, which is a fully connected layer that is used for image classification, will not be included in the new model. "
   ]
  },
  {
   "cell_type": "code",
   "execution_count": 5,
   "id": "0253d8b6",
   "metadata": {},
   "outputs": [],
   "source": [
    "for layer in base_model.layers:\n",
    "   layer.trainable = False\n",
    "#sets the trainable attribute of the current layer to False. This means that the weights of the layer will not be updated during training."
   ]
  },
  {
   "cell_type": "code",
   "execution_count": 6,
   "id": "92ab7c46",
   "metadata": {},
   "outputs": [],
   "source": [
    "x = Flatten()(base_model.output)\n",
    "# Explanation: This line adds a Flatten layer to the output of the base_model. The Flatten layer is used to transform the 3D tensor output from the convolutional base (which is usually the output of the last convolutional layer) into a 1D tensor. This flattening step is necessary when transitioning from convolutional layers to densely connected layers.\n",
    "# Example: Suppose the output shape of base_model is (7, 7, 512). This means you have a 3D tensor with dimensions 7x7x512. Applying the Flatten layer converts this 3D tensor into a 1D tensor by unraveling the values along the dimensions. In this case, the resulting 1D tensor would have a size of 7 * 7 * 512 = 25088.\n",
    "x = Dense(64, activation='relu')(x)\n",
    "predictions = Dense(102, activation='softmax')(x)\n",
    "\n",
    "# Create the model\n",
    "model = Model(inputs=base_model.input, outputs=predictions)\n",
    "# Compile the model\n",
    "model.compile(optimizer=\"adam\", loss='categorical_crossentropy', metrics=['accuracy'])"
   ]
  },
  {
   "cell_type": "code",
   "execution_count": 7,
   "id": "8d4fe653",
   "metadata": {
    "scrolled": true
   },
   "outputs": [
    {
     "name": "stdout",
     "output_type": "stream",
     "text": [
      "Epoch 1/10\n",
      "32/32 [==============================] - 84s 3s/step - loss: 4.6035 - accuracy: 0.0875 - val_loss: 4.5727 - val_accuracy: 0.0910\n",
      "Epoch 2/10\n",
      "32/32 [==============================] - 82s 3s/step - loss: 4.5320 - accuracy: 0.0910 - val_loss: 4.4772 - val_accuracy: 0.0910\n",
      "Epoch 3/10\n",
      "32/32 [==============================] - 84s 3s/step - loss: 4.4145 - accuracy: 0.0910 - val_loss: 4.3483 - val_accuracy: 0.0910\n",
      "Epoch 4/10\n",
      "32/32 [==============================] - 84s 3s/step - loss: 4.2857 - accuracy: 0.0910 - val_loss: 4.2377 - val_accuracy: 0.0910\n",
      "Epoch 5/10\n",
      "32/32 [==============================] - 83s 3s/step - loss: 4.1978 - accuracy: 0.0910 - val_loss: 4.1912 - val_accuracy: 0.0910\n",
      "Epoch 6/10\n",
      "32/32 [==============================] - 83s 3s/step - loss: 4.1707 - accuracy: 0.0910 - val_loss: 4.1828 - val_accuracy: 0.0910\n",
      "Epoch 7/10\n",
      "32/32 [==============================] - 84s 3s/step - loss: 4.1667 - accuracy: 0.0910 - val_loss: 4.1827 - val_accuracy: 0.0910\n",
      "Epoch 8/10\n",
      "32/32 [==============================] - 83s 3s/step - loss: 4.1649 - accuracy: 0.0910 - val_loss: 4.1812 - val_accuracy: 0.0910\n",
      "Epoch 9/10\n",
      "32/32 [==============================] - 80s 3s/step - loss: 4.1633 - accuracy: 0.0910 - val_loss: 4.1811 - val_accuracy: 0.0910\n",
      "Epoch 10/10\n",
      "32/32 [==============================] - 82s 3s/step - loss: 4.1627 - accuracy: 0.0910 - val_loss: 4.1806 - val_accuracy: 0.0910\n"
     ]
    },
    {
     "data": {
      "text/plain": [
       "<keras.src.callbacks.History at 0x1fd8ddf8af0>"
      ]
     },
     "execution_count": 7,
     "metadata": {},
     "output_type": "execute_result"
    }
   ],
   "source": [
    "model.fit(x_train, y_train, batch_size=64, epochs=10, validation_data=(x_test, y_test))"
   ]
  },
  {
   "cell_type": "code",
   "execution_count": 1,
   "id": "80fde0a7",
   "metadata": {},
   "outputs": [
    {
     "ename": "NameError",
     "evalue": "name 'VGG16' is not defined",
     "output_type": "error",
     "traceback": [
      "\u001b[1;31m---------------------------------------------------------------------------\u001b[0m",
      "\u001b[1;31mNameError\u001b[0m                                 Traceback (most recent call last)",
      "Cell \u001b[1;32mIn[1], line 3\u001b[0m\n\u001b[0;32m      1\u001b[0m \u001b[38;5;28;01mimport\u001b[39;00m \u001b[38;5;21;01mtensorflow\u001b[39;00m \u001b[38;5;28;01mas\u001b[39;00m \u001b[38;5;21;01mtf\u001b[39;00m\n\u001b[1;32m----> 3\u001b[0m base_model \u001b[38;5;241m=\u001b[39m \u001b[43mVGG16\u001b[49m(weights\u001b[38;5;241m=\u001b[39mweights_path, include_top\u001b[38;5;241m=\u001b[39m\u001b[38;5;28;01mFalse\u001b[39;00m, input_shape\u001b[38;5;241m=\u001b[39m(\u001b[38;5;241m64\u001b[39m, \u001b[38;5;241m64\u001b[39m, \u001b[38;5;241m3\u001b[39m)) \u001b[38;5;66;03m#creates new VGG16 model \u001b[39;00m\n\u001b[0;32m      5\u001b[0m \u001b[38;5;66;03m# freeze all layers first\u001b[39;00m\n\u001b[0;32m      6\u001b[0m \u001b[38;5;28;01mfor\u001b[39;00m layer \u001b[38;5;129;01min\u001b[39;00m base_model\u001b[38;5;241m.\u001b[39mlayers:\n",
      "\u001b[1;31mNameError\u001b[0m: name 'VGG16' is not defined"
     ]
    }
   ],
   "source": [
    "import tensorflow as tf\n",
    "\n",
    "base_model = VGG16(weights=weights_path, include_top=False, input_shape=(64, 64, 3)) #creates new VGG16 model \n",
    "\n",
    "# freeze all layers first\n",
    "for layer in base_model.layers:\n",
    "   layer.trainable = False\n",
    "#i.e. weights of these layers will not be updated during training\n",
    "\n",
    "# unfreeze last 4 layers of base model\n",
    "for layer in base_model.layers[len(base_model.layers) - 2:]:\n",
    "   layer.trainable = True\n",
    "#i.e. weights of these layers will be updates\n",
    "\n",
    "# fine-tuning hyper parameters\n",
    "x = Flatten()(base_model.output)\n",
    "x = Dense(512, activation='relu')(x)\n",
    "x = tf.keras.layers.Dropout(0.3)(x)\n",
    "predictions = Dense(102, activation='softmax')(x)\n",
    "\n",
    "# Create the model\n",
    "model = Model(inputs=base_model.input, outputs=predictions)\n",
    "# Compile the model\n",
    "model.compile(optimizer=Adam(learning_rate=0.001), loss='categorical_crossentropy', metrics=['accuracy'])\n",
    "# training fine tuned model\n",
    "model.fit(x_train, y_train, batch_size=64, epochs=5, validation_data=(x_test, y_test))\n"
   ]
  },
  {
   "cell_type": "code",
   "execution_count": 10,
   "id": "f4785b4f",
   "metadata": {},
   "outputs": [
    {
     "name": "stdout",
     "output_type": "stream",
     "text": [
      "63/63 [==============================] - 44s 693ms/step\n"
     ]
    }
   ],
   "source": [
    "import matplotlib.pyplot as plt\n",
    "predicted_value = model.predict(x_test)"
   ]
  },
  {
   "cell_type": "code",
   "execution_count": 11,
   "id": "0cd78638",
   "metadata": {},
   "outputs": [],
   "source": [
    "labels = list(dataset_generator.class_indices.keys())"
   ]
  },
  {
   "cell_type": "code",
   "execution_count": 13,
   "id": "e00f8b5d",
   "metadata": {
    "scrolled": true
   },
   "outputs": [
    {
     "name": "stdout",
     "output_type": "stream",
     "text": [
      "Preditcted:  hedgehog\n",
      "Actual:  hedgehog\n"
     ]
    },
    {
     "data": {
      "image/png": "[encoded data removed]",
      "text/plain": [
       "<Figure size 640x480 with 1 Axes>"
      ]
     },
     "metadata": {},
     "output_type": "display_data"
    }
   ],
   "source": [
    "#n = 887\n",
    "n=101\n",
    "\n",
    "plt.imshow(x_test[n])\n",
    "print(\"Preditcted: \",labels[np.argmax(predicted_value[n])])\n",
    "print(\"Actual: \", labels[np.argmax(y_test[n])])"
   ]
  },
  {
   "cell_type": "code",
   "execution_count": null,
   "id": "0b66704b",
   "metadata": {},
   "outputs": [],
   "source": []
  },
  {
   "cell_type": "code",
   "execution_count": null,
   "id": "77072ba0",
   "metadata": {},
   "outputs": [],
   "source": []
  },
  {
   "cell_type": "code",
   "execution_count": null,
   "id": "42028e88",
   "metadata": {},
   "outputs": [],
   "source": []
  }
 ],
 "metadata": {
  "kernelspec": {
   "display_name": "Python 3 (ipykernel)",
   "language": "python",
   "name": "python3"
  },
  "language_info": {
   "codemirror_mode": {
    "name": "ipython",
    "version": 3
   },
   "file_extension": ".py",
   "mimetype": "text/x-python",
   "name": "python",
   "nbconvert_exporter": "python",
   "pygments_lexer": "ipython3",
   "version": "3.10.12"
  }
 },
 "nbformat": 4,
 "nbformat_minor": 5
}
