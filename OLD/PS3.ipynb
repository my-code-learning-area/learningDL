{
 "cells": [
  {
   "cell_type": "code",
   "execution_count": 15,
   "id": "7e700d58",
   "metadata": {},
   "outputs": [],
   "source": [
    "import pandas as pd\n",
    "import numpy as np\n",
    "from keras.models import Sequential\n",
    "from keras.layers import Dense,Dropout\n",
    "from keras.optimizers import SGD\n",
    "import matplotlib.pyplot as plt\n",
    "import random\n",
    "import keras"
   ]
  },
  {
   "cell_type": "code",
   "execution_count": 16,
   "id": "e9ab4b1d",
   "metadata": {},
   "outputs": [
    {
     "name": "stdout",
     "output_type": "stream",
     "text": [
      "(50000, 3072)\n",
      "(50000,)\n"
     ]
    }
   ],
   "source": [
    "cifar_train=pd.read_csv('train_data.csv')\n",
    "x_train=cifar_train.drop('label',axis=1).values\n",
    "y_train=cifar_train['label'].values\n",
    "\n",
    "print(x_train.shape)\n",
    "print(y_train.shape)"
   ]
  },
  {
   "cell_type": "code",
   "execution_count": 17,
   "id": "758b474e",
   "metadata": {},
   "outputs": [
    {
     "name": "stdout",
     "output_type": "stream",
     "text": [
      "(10000, 3072)\n",
      "(10000,)\n"
     ]
    }
   ],
   "source": [
    "cifar_test=pd.read_csv('test_data.csv')\n",
    "x_test=cifar_test.drop('label',axis=1).values\n",
    "y_test=cifar_test['label'].values\n",
    "\n",
    "print(x_test.shape)\n",
    "print(y_test.shape)"
   ]
  },
  {
   "cell_type": "code",
   "execution_count": 18,
   "id": "4fd4fdab",
   "metadata": {},
   "outputs": [
    {
     "name": "stdout",
     "output_type": "stream",
     "text": [
      "(50000, 3072)\n",
      "(10000, 3072)\n"
     ]
    }
   ],
   "source": [
    "x_train=x_train.reshape((-1,32*32*3))\n",
    "x_train=x_train.astype('float32')/255.0\n",
    "\n",
    "x_test=x_test.reshape((-1,32*32*3))\n",
    "x_test=x_test.astype('float32')/255.0\n",
    "\n",
    "print(x_train.shape)\n",
    "print(x_test.shape)"
   ]
  },
  {
   "cell_type": "code",
   "execution_count": 19,
   "id": "ce7a56dc",
   "metadata": {},
   "outputs": [
    {
     "name": "stdout",
     "output_type": "stream",
     "text": [
      "[[0. 0. 0. ... 0. 0. 0.]\n",
      " [0. 0. 0. ... 0. 0. 1.]\n",
      " [0. 0. 0. ... 0. 0. 1.]\n",
      " ...\n",
      " [0. 0. 0. ... 0. 0. 1.]\n",
      " [0. 1. 0. ... 0. 0. 0.]\n",
      " [0. 1. 0. ... 0. 0. 0.]]\n",
      "[[0. 0. 0. ... 0. 0. 0.]\n",
      " [0. 0. 0. ... 0. 1. 0.]\n",
      " [0. 0. 0. ... 0. 1. 0.]\n",
      " ...\n",
      " [0. 0. 0. ... 0. 0. 0.]\n",
      " [0. 1. 0. ... 0. 0. 0.]\n",
      " [0. 0. 0. ... 1. 0. 0.]]\n"
     ]
    }
   ],
   "source": [
    "y_train=keras.utils.to_categorical(y_train,10)\n",
    "y_test=keras.utils.to_categorical(y_test,10)\n",
    "\n",
    "print(y_train)\n",
    "print(y_test)"
   ]
  },
  {
   "cell_type": "code",
   "execution_count": 20,
   "id": "925220e0",
   "metadata": {},
   "outputs": [
    {
     "name": "stdout",
     "output_type": "stream",
     "text": [
      "Model: \"sequential_2\"\n",
      "_________________________________________________________________\n",
      " Layer (type)                Output Shape              Param #   \n",
      "=================================================================\n",
      " dense_6 (Dense)             (None, 128)               393344    \n",
      "                                                                 \n",
      " dense_7 (Dense)             (None, 62)                7998      \n",
      "                                                                 \n",
      " dense_8 (Dense)             (None, 10)                630       \n",
      "                                                                 \n",
      "=================================================================\n",
      "Total params: 401972 (1.53 MB)\n",
      "Trainable params: 401972 (1.53 MB)\n",
      "Non-trainable params: 0 (0.00 Byte)\n",
      "_________________________________________________________________\n"
     ]
    }
   ],
   "source": [
    "model=Sequential()\n",
    "\n",
    "model.add(Dense(128,input_shape=(32*32*3,),activation='relu'))\n",
    "model.add(Dense(62,activation='relu'))\n",
    "model.add(Dense(10,activation='softmax'))\n",
    "\n",
    "model.summary()"
   ]
  },
  {
   "cell_type": "code",
   "execution_count": 21,
   "id": "7df01d5c",
   "metadata": {},
   "outputs": [
    {
     "name": "stdout",
     "output_type": "stream",
     "text": [
      "Epoch 1/11\n",
      "391/391 [==============================] - 10s 20ms/step - loss: 2.0190 - accuracy: 0.2765 - val_loss: 1.8835 - val_accuracy: 0.3371\n",
      "Epoch 2/11\n",
      "391/391 [==============================] - 6s 15ms/step - loss: 1.8466 - accuracy: 0.3462 - val_loss: 1.8069 - val_accuracy: 0.3597\n",
      "Epoch 3/11\n",
      "391/391 [==============================] - 6s 14ms/step - loss: 1.7792 - accuracy: 0.3751 - val_loss: 1.7451 - val_accuracy: 0.3900\n",
      "Epoch 4/11\n",
      "391/391 [==============================] - 6s 14ms/step - loss: 1.7319 - accuracy: 0.3919 - val_loss: 1.7105 - val_accuracy: 0.3997\n",
      "Epoch 5/11\n",
      "391/391 [==============================] - 6s 14ms/step - loss: 1.6921 - accuracy: 0.4059 - val_loss: 1.6986 - val_accuracy: 0.4070\n",
      "Epoch 6/11\n",
      "391/391 [==============================] - 6s 15ms/step - loss: 1.6601 - accuracy: 0.4180 - val_loss: 1.6370 - val_accuracy: 0.4259\n",
      "Epoch 7/11\n",
      "391/391 [==============================] - 6s 15ms/step - loss: 1.6309 - accuracy: 0.4272 - val_loss: 1.6395 - val_accuracy: 0.4152\n",
      "Epoch 8/11\n",
      "391/391 [==============================] - 6s 15ms/step - loss: 1.6076 - accuracy: 0.4337 - val_loss: 1.6100 - val_accuracy: 0.4290\n",
      "Epoch 9/11\n",
      "391/391 [==============================] - 6s 15ms/step - loss: 1.5887 - accuracy: 0.4422 - val_loss: 1.6254 - val_accuracy: 0.4107\n",
      "Epoch 10/11\n",
      "391/391 [==============================] - 6s 14ms/step - loss: 1.5674 - accuracy: 0.4501 - val_loss: 1.6291 - val_accuracy: 0.4191\n",
      "Epoch 11/11\n",
      "391/391 [==============================] - 6s 14ms/step - loss: 1.5485 - accuracy: 0.4578 - val_loss: 1.5482 - val_accuracy: 0.4549\n"
     ]
    }
   ],
   "source": [
    "#sgd=SGD()\n",
    "\n",
    "sgd=SGD(0.01)\n",
    "model.compile(optimizer=sgd,loss=\"categorical_crossentropy\",metrics=[\"accuracy\"])\n",
    "H=model.fit(x_train,y_train,epochs=11,batch_size=128,validation_data=(x_test,y_test))\n"
   ]
  },
  {
   "cell_type": "code",
   "execution_count": 22,
   "id": "9a65d87e",
   "metadata": {},
   "outputs": [
    {
     "name": "stdout",
     "output_type": "stream",
     "text": [
      "313/313 [==============================] - 2s 5ms/step - loss: 1.5482 - accuracy: 0.4549\n",
      "loss:  1.5481538772583008\n",
      "accuracy:  0.45489999651908875\n"
     ]
    }
   ],
   "source": [
    "score=model.evaluate(x_test,y_test)\n",
    "print(\"loss: \",score[0])\n",
    "print(\"accuracy: \",score[1])"
   ]
  },
  {
   "cell_type": "code",
   "execution_count": 35,
   "id": "3de62430",
   "metadata": {},
   "outputs": [
    {
     "name": "stdout",
     "output_type": "stream",
     "text": [
      "313/313 [==============================] - 1s 4ms/step\n",
      "actual value:  0\n",
      "Predicted value:  0\n"
     ]
    },
    {
     "data": {
      "image/png": "[encoded data removed]",
      "text/plain": [
       "<Figure size 640x480 with 1 Axes>"
      ]
     },
     "metadata": {},
     "output_type": "display_data"
    }
   ],
   "source": [
    "classes=['airplane','automobile','bird','cat','deer','dog','frog','horse','ship','truck']\n",
    "\n",
    "n=random.randint(0,9999)\n",
    "plt.imshow(x_test[n].reshape((32,32,3)))\n",
    "\n",
    "predictions=model.predict(x_test)\n",
    "\n",
    "print(\"actual value: \",np.argmax(y_test[n]))\n",
    "print(\"Predicted value: \",np.argmax(predictions[n]))"
   ]
  },
  {
   "cell_type": "code",
   "execution_count": null,
   "id": "f2a93b56",
   "metadata": {},
   "outputs": [],
   "source": []
  }
 ],
 "metadata": {
  "kernelspec": {
   "display_name": "Python 3 (ipykernel)",
   "language": "python",
   "name": "python3"
  },
  "language_info": {
   "codemirror_mode": {
    "name": "ipython",
    "version": 3
   },
   "file_extension": ".py",
   "mimetype": "text/x-python",
   "name": "python",
   "nbconvert_exporter": "python",
   "pygments_lexer": "ipython3",
   "version": "3.10.12"
  }
 },
 "nbformat": 4,
 "nbformat_minor": 5
}
