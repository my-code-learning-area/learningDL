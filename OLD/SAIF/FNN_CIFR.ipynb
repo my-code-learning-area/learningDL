{
 "cells": [
  {
   "cell_type": "code",
   "execution_count": 27,
   "id": "6f01ce4a",
   "metadata": {},
   "outputs": [],
   "source": [
    "import numpy as np\n",
    "import pandas as pd\n",
    "import keras \n",
    "import tensorflow as tf\n",
    "import matplotlib.pyplot as plt\n",
    "from tensorflow.keras.layers import Dense,Dropout\n",
    "from tensorflow.keras.models import Sequential\n",
    "from tensorflow.keras.optimizers import SGD"
   ]
  },
  {
   "cell_type": "code",
   "execution_count": 28,
   "id": "bec52c7b",
   "metadata": {},
   "outputs": [],
   "source": [
    "train_data=pd.read_csv('../train_data.csv')\n",
    "x_train=train_data.drop('label',axis=1).values\n",
    "y_train=train_data['label'].values"
   ]
  },
  {
   "cell_type": "code",
   "execution_count": 29,
   "id": "a8ecf837",
   "metadata": {},
   "outputs": [],
   "source": [
    "test_data=pd.read_csv('../test_data.csv')\n",
    "x_test=test_data.drop('label',axis=1).values\n",
    "y_test=test_data['label'].values"
   ]
  },
  {
   "cell_type": "code",
   "execution_count": 30,
   "id": "bf1b86b7",
   "metadata": {},
   "outputs": [],
   "source": [
    "\n",
    "\n",
    "x_train=x_train.reshape((-1,32*32*3))\n",
    "x_test=x_test.reshape((-1,32*32*3))\n",
    "\n",
    "x_train=x_train/255.0\n",
    "x_test=x_test/255.0\n"
   ]
  },
  {
   "cell_type": "code",
   "execution_count": 31,
   "id": "6a7a07b3",
   "metadata": {},
   "outputs": [],
   "source": [
    "y_train=keras.utils.to_categorical(y_train,10)\n",
    "y_test=keras.utils.to_categorical(y_test,10)"
   ]
  },
  {
   "cell_type": "code",
   "execution_count": 32,
   "id": "ed46b3a1",
   "metadata": {},
   "outputs": [
    {
     "name": "stdout",
     "output_type": "stream",
     "text": [
      "Model: \"sequential_7\"\n",
      "_________________________________________________________________\n",
      " Layer (type)                Output Shape              Param #   \n",
      "=================================================================\n",
      " dense_20 (Dense)            (None, 128)               393344    \n",
      "                                                                 \n",
      " dense_21 (Dense)            (None, 64)                8256      \n",
      "                                                                 \n",
      " dense_22 (Dense)            (None, 10)                650       \n",
      "                                                                 \n",
      "=================================================================\n",
      "Total params: 402250 (1.53 MB)\n",
      "Trainable params: 402250 (1.53 MB)\n",
      "Non-trainable params: 0 (0.00 Byte)\n",
      "_________________________________________________________________\n"
     ]
    }
   ],
   "source": [
    "model =Sequential()\n",
    "model.add(Dense(128, input_shape=(32*32*3,), activation='relu'))\n",
    "model.add(Dense(64, activation='relu'))\n",
    "model.add(Dense(10, activation='softmax'))\n",
    "\n",
    "model.summary()"
   ]
  },
  {
   "cell_type": "code",
   "execution_count": 33,
   "id": "890392e7",
   "metadata": {},
   "outputs": [
    {
     "name": "stdout",
     "output_type": "stream",
     "text": [
      "Epoch 1/50\n",
      "391/391 [==============================] - 3s 6ms/step - loss: 2.0293 - accuracy: 0.2678 - val_loss: 1.9455 - val_accuracy: 0.2939\n",
      "Epoch 2/50\n",
      "391/391 [==============================] - 2s 5ms/step - loss: 1.8468 - accuracy: 0.3473 - val_loss: 1.7952 - val_accuracy: 0.3683\n",
      "Epoch 3/50\n",
      "391/391 [==============================] - 2s 5ms/step - loss: 1.7734 - accuracy: 0.3741 - val_loss: 1.7504 - val_accuracy: 0.3745\n",
      "Epoch 4/50\n",
      "391/391 [==============================] - 2s 6ms/step - loss: 1.7250 - accuracy: 0.3923 - val_loss: 1.7098 - val_accuracy: 0.3960\n",
      "Epoch 5/50\n",
      "391/391 [==============================] - 2s 5ms/step - loss: 1.6838 - accuracy: 0.4070 - val_loss: 1.6551 - val_accuracy: 0.4112\n",
      "Epoch 6/50\n",
      "391/391 [==============================] - 2s 5ms/step - loss: 1.6514 - accuracy: 0.4182 - val_loss: 1.6319 - val_accuracy: 0.4234\n",
      "Epoch 7/50\n",
      "391/391 [==============================] - 2s 6ms/step - loss: 1.6252 - accuracy: 0.4272 - val_loss: 1.6302 - val_accuracy: 0.4223\n",
      "Epoch 8/50\n",
      "391/391 [==============================] - 2s 5ms/step - loss: 1.6008 - accuracy: 0.4370 - val_loss: 1.5919 - val_accuracy: 0.4359\n",
      "Epoch 9/50\n",
      "391/391 [==============================] - 2s 6ms/step - loss: 1.5773 - accuracy: 0.4433 - val_loss: 1.5961 - val_accuracy: 0.4315\n",
      "Epoch 10/50\n",
      "391/391 [==============================] - 3s 6ms/step - loss: 1.5604 - accuracy: 0.4502 - val_loss: 1.6013 - val_accuracy: 0.4298\n",
      "Epoch 11/50\n",
      "391/391 [==============================] - 2s 5ms/step - loss: 1.5407 - accuracy: 0.4592 - val_loss: 1.5945 - val_accuracy: 0.4305\n",
      "Epoch 12/50\n",
      "391/391 [==============================] - 2s 5ms/step - loss: 1.5234 - accuracy: 0.4627 - val_loss: 1.5549 - val_accuracy: 0.4472\n",
      "Epoch 13/50\n",
      "391/391 [==============================] - 2s 6ms/step - loss: 1.5100 - accuracy: 0.4674 - val_loss: 1.5174 - val_accuracy: 0.4587\n",
      "Epoch 14/50\n",
      "391/391 [==============================] - 2s 6ms/step - loss: 1.4987 - accuracy: 0.4713 - val_loss: 1.5272 - val_accuracy: 0.4611\n",
      "Epoch 15/50\n",
      "391/391 [==============================] - 3s 6ms/step - loss: 1.4839 - accuracy: 0.4769 - val_loss: 1.5265 - val_accuracy: 0.4569\n",
      "Epoch 16/50\n",
      "391/391 [==============================] - 2s 6ms/step - loss: 1.4720 - accuracy: 0.4803 - val_loss: 1.5127 - val_accuracy: 0.4626\n",
      "Epoch 17/50\n",
      "391/391 [==============================] - 2s 6ms/step - loss: 1.4607 - accuracy: 0.4847 - val_loss: 1.4961 - val_accuracy: 0.4637\n",
      "Epoch 18/50\n",
      "391/391 [==============================] - 2s 6ms/step - loss: 1.4505 - accuracy: 0.4870 - val_loss: 1.4950 - val_accuracy: 0.4719\n",
      "Epoch 19/50\n",
      "391/391 [==============================] - 2s 6ms/step - loss: 1.4363 - accuracy: 0.4934 - val_loss: 1.4815 - val_accuracy: 0.4756\n",
      "Epoch 20/50\n",
      "391/391 [==============================] - 2s 6ms/step - loss: 1.4314 - accuracy: 0.4947 - val_loss: 1.5024 - val_accuracy: 0.4725\n",
      "Epoch 21/50\n",
      "391/391 [==============================] - 2s 6ms/step - loss: 1.4198 - accuracy: 0.5004 - val_loss: 1.4528 - val_accuracy: 0.4840\n",
      "Epoch 22/50\n",
      "391/391 [==============================] - 2s 6ms/step - loss: 1.4086 - accuracy: 0.5030 - val_loss: 1.4931 - val_accuracy: 0.4687\n",
      "Epoch 23/50\n",
      "391/391 [==============================] - 2s 6ms/step - loss: 1.4040 - accuracy: 0.5054 - val_loss: 1.4612 - val_accuracy: 0.4813\n",
      "Epoch 24/50\n",
      "391/391 [==============================] - 2s 6ms/step - loss: 1.3906 - accuracy: 0.5065 - val_loss: 1.4644 - val_accuracy: 0.4775\n",
      "Epoch 25/50\n",
      "391/391 [==============================] - 2s 6ms/step - loss: 1.3823 - accuracy: 0.5130 - val_loss: 1.4799 - val_accuracy: 0.4732\n",
      "Epoch 26/50\n",
      "391/391 [==============================] - 2s 6ms/step - loss: 1.3741 - accuracy: 0.5170 - val_loss: 1.4423 - val_accuracy: 0.4898\n",
      "Epoch 27/50\n",
      "391/391 [==============================] - 2s 6ms/step - loss: 1.3649 - accuracy: 0.5205 - val_loss: 1.4162 - val_accuracy: 0.4986\n",
      "Epoch 28/50\n",
      "391/391 [==============================] - 2s 6ms/step - loss: 1.3569 - accuracy: 0.5216 - val_loss: 1.4829 - val_accuracy: 0.4757\n",
      "Epoch 29/50\n",
      "391/391 [==============================] - 2s 6ms/step - loss: 1.3494 - accuracy: 0.5262 - val_loss: 1.4443 - val_accuracy: 0.4864\n",
      "Epoch 30/50\n",
      "391/391 [==============================] - 3s 7ms/step - loss: 1.3460 - accuracy: 0.5256 - val_loss: 1.4548 - val_accuracy: 0.4797\n",
      "Epoch 31/50\n",
      "391/391 [==============================] - 4s 9ms/step - loss: 1.3355 - accuracy: 0.5310 - val_loss: 1.4442 - val_accuracy: 0.4846\n",
      "Epoch 32/50\n",
      "391/391 [==============================] - 2s 6ms/step - loss: 1.3309 - accuracy: 0.5323 - val_loss: 1.4267 - val_accuracy: 0.4933\n",
      "Epoch 33/50\n",
      "391/391 [==============================] - 3s 7ms/step - loss: 1.3214 - accuracy: 0.5344 - val_loss: 1.5113 - val_accuracy: 0.4602\n",
      "Epoch 34/50\n",
      "391/391 [==============================] - 2s 6ms/step - loss: 1.3153 - accuracy: 0.5342 - val_loss: 1.4045 - val_accuracy: 0.5019\n",
      "Epoch 35/50\n",
      "391/391 [==============================] - 2s 6ms/step - loss: 1.3073 - accuracy: 0.5396 - val_loss: 1.4590 - val_accuracy: 0.4810\n",
      "Epoch 36/50\n",
      "391/391 [==============================] - 3s 6ms/step - loss: 1.3009 - accuracy: 0.5416 - val_loss: 1.4374 - val_accuracy: 0.4885\n",
      "Epoch 37/50\n",
      "391/391 [==============================] - 2s 6ms/step - loss: 1.2951 - accuracy: 0.5455 - val_loss: 1.4240 - val_accuracy: 0.4991\n",
      "Epoch 38/50\n",
      "391/391 [==============================] - 2s 6ms/step - loss: 1.2951 - accuracy: 0.5443 - val_loss: 1.4258 - val_accuracy: 0.4911\n",
      "Epoch 39/50\n",
      "391/391 [==============================] - 2s 6ms/step - loss: 1.2868 - accuracy: 0.5473 - val_loss: 1.3962 - val_accuracy: 0.5007\n",
      "Epoch 40/50\n",
      "391/391 [==============================] - 2s 6ms/step - loss: 1.2788 - accuracy: 0.5478 - val_loss: 1.4235 - val_accuracy: 0.4915\n",
      "Epoch 41/50\n",
      "391/391 [==============================] - 3s 7ms/step - loss: 1.2741 - accuracy: 0.5514 - val_loss: 1.3944 - val_accuracy: 0.5009\n",
      "Epoch 42/50\n",
      "391/391 [==============================] - 3s 7ms/step - loss: 1.2635 - accuracy: 0.5565 - val_loss: 1.4253 - val_accuracy: 0.4904\n",
      "Epoch 43/50\n",
      "391/391 [==============================] - 2s 6ms/step - loss: 1.2594 - accuracy: 0.5553 - val_loss: 1.3740 - val_accuracy: 0.5177\n",
      "Epoch 44/50\n",
      "391/391 [==============================] - 2s 6ms/step - loss: 1.2566 - accuracy: 0.5575 - val_loss: 1.4108 - val_accuracy: 0.4985\n",
      "Epoch 45/50\n",
      "391/391 [==============================] - 2s 5ms/step - loss: 1.2473 - accuracy: 0.5598 - val_loss: 1.4184 - val_accuracy: 0.4988\n",
      "Epoch 46/50\n",
      "391/391 [==============================] - 2s 6ms/step - loss: 1.2488 - accuracy: 0.5610 - val_loss: 1.3753 - val_accuracy: 0.5087\n",
      "Epoch 47/50\n",
      "391/391 [==============================] - 2s 6ms/step - loss: 1.2368 - accuracy: 0.5644 - val_loss: 1.3904 - val_accuracy: 0.5062\n",
      "Epoch 48/50\n",
      "391/391 [==============================] - 2s 5ms/step - loss: 1.2318 - accuracy: 0.5677 - val_loss: 1.4112 - val_accuracy: 0.4993\n",
      "Epoch 49/50\n",
      "391/391 [==============================] - 2s 5ms/step - loss: 1.2304 - accuracy: 0.5654 - val_loss: 1.3776 - val_accuracy: 0.5118\n",
      "Epoch 50/50\n",
      "391/391 [==============================] - 2s 5ms/step - loss: 1.2240 - accuracy: 0.5694 - val_loss: 1.4460 - val_accuracy: 0.4892\n"
     ]
    }
   ],
   "source": [
    "sgd=SGD(0.01)\n",
    "model.compile(optimizer=sgd,loss=\"categorical_crossentropy\",metrics=[\"accuracy\"])\n",
    "history=model.fit(x_train,y_train,epochs=50,batch_size=128,validation_data=(x_test,y_test))"
   ]
  },
  {
   "cell_type": "code",
   "execution_count": 34,
   "id": "2bdf3a36",
   "metadata": {},
   "outputs": [],
   "source": [
    "class_names = ['airplane', 'automobile', 'bird', 'cat', 'deer','dog', 'frog', 'horse', 'ship', 'truck']"
   ]
  },
  {
   "cell_type": "code",
   "execution_count": 42,
   "id": "c9fa88c1",
   "metadata": {},
   "outputs": [
    {
     "name": "stdout",
     "output_type": "stream",
     "text": [
      "313/313 [==============================] - 1s 2ms/step\n",
      "Actual :  ship\n",
      "Predicted :  ship\n"
     ]
    },
    {
     "data": {
      "image/png": "[encoded data removed]",
      "text/plain": [
       "<Figure size 640x480 with 1 Axes>"
      ]
     },
     "metadata": {},
     "output_type": "display_data"
    }
   ],
   "source": [
    "import random\n",
    "n=15\n",
    "plt.imshow(x_test[n].reshape(32,32,3), cmap='gray')\n",
    "predicted_value = model.predict(x_test)\n",
    "print(\"Actual : \",class_names[np.argmax(y_test[n])])\n",
    "print(\"Predicted : \", class_names[np.argmax(predicted_value[n])])"
   ]
  },
  {
   "cell_type": "code",
   "execution_count": 43,
   "id": "cff3bf78",
   "metadata": {},
   "outputs": [
    {
     "name": "stdout",
     "output_type": "stream",
     "text": [
      "313/313 [==============================] - 1s 2ms/step - loss: 1.4460 - accuracy: 0.4892\n"
     ]
    }
   ],
   "source": [
    "score=model.evaluate(x_test,y_test)"
   ]
  },
  {
   "cell_type": "code",
   "execution_count": 45,
   "id": "1dd1fd1a",
   "metadata": {},
   "outputs": [
    {
     "data": {
      "text/plain": [
       "[<matplotlib.lines.Line2D at 0x7f4b6566c1c0>]"
      ]
     },
     "execution_count": 45,
     "metadata": {},
     "output_type": "execute_result"
    },
    {
     "data": {
      "image/png": "[encoded data removed]",
      "text/plain": [
       "<Figure size 640x480 with 1 Axes>"
      ]
     },
     "metadata": {},
     "output_type": "display_data"
    }
   ],
   "source": [
    "import matplotlib.pyplot as plt\n",
    "\n",
    "plt.plot(history.history['loss'])\n",
    "plt.plot(history.history['val_loss'])\n",
    "plt.plot(history.history['accuracy'])\n",
    "plt.plot(history.history['val_accuracy'])"
   ]
  },
  {
   "cell_type": "code",
   "execution_count": null,
   "id": "cf71d726",
   "metadata": {},
   "outputs": [],
   "source": []
  }
 ],
 "metadata": {
  "kernelspec": {
   "display_name": "Python 3 (ipykernel)",
   "language": "python",
   "name": "python3"
  },
  "language_info": {
   "codemirror_mode": {
    "name": "ipython",
    "version": 3
   },
   "file_extension": ".py",
   "mimetype": "text/x-python",
   "name": "python",
   "nbconvert_exporter": "python",
   "pygments_lexer": "ipython3",
   "version": "3.10.12"
  }
 },
 "nbformat": 4,
 "nbformat_minor": 5
}
