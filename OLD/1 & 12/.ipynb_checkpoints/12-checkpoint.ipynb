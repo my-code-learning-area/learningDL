{
 "cells": [
  {
   "cell_type": "markdown",
   "id": "e24e94ea",
   "metadata": {},
   "source": [
    "Importing Necessary Packages"
   ]
  },
  {
   "cell_type": "code",
   "execution_count": 39,
   "id": "2a7325fc",
   "metadata": {},
   "outputs": [],
   "source": [
    "import pandas as pd\n",
    "import keras\n",
    "import tensorflow\n",
    "import matplotlib.pyplot as plt\n",
    "from tensorflow.keras.models import Sequential\n",
    "from tensorflow.keras.layers import Dense, Dropout\n",
    "from tensorflow.keras.optimizers import SGD"
   ]
  },
  {
   "cell_type": "markdown",
   "id": "4cd9c124",
   "metadata": {},
   "source": [
    "Load the training and testing data"
   ]
  },
  {
   "cell_type": "code",
   "execution_count": 40,
   "id": "17ebff33",
   "metadata": {},
   "outputs": [],
   "source": [
    "train = pd.read_csv(\"../LP-IV-datasets/MNIST/mnist_train.csv\")\n",
    "test = pd.read_csv(\"../LP-IV-datasets/MNIST/mnist_test.csv\")"
   ]
  },
  {
   "cell_type": "markdown",
   "id": "200f9d4b",
   "metadata": {},
   "source": [
    "Preparing data"
   ]
  },
  {
   "cell_type": "code",
   "execution_count": 41,
   "id": "030c7a5d",
   "metadata": {},
   "outputs": [],
   "source": [
    "x_train = train.drop(\"label\", axis=1)\n",
    "x_test = test.drop(\"label\", axis=1)"
   ]
  },
  {
   "cell_type": "code",
   "execution_count": 42,
   "id": "f57f174d",
   "metadata": {},
   "outputs": [],
   "source": [
    "y_train = train[\"label\"]\n",
    "y_test = test[\"label\"]"
   ]
  },
  {
   "cell_type": "code",
   "execution_count": 43,
   "id": "5f4ee22e",
   "metadata": {},
   "outputs": [],
   "source": [
    "# convert grayscale image pixels into black and white only (binary)\n",
    "x_train = x_train / 255.0\n",
    "x_test = x_test / 255.0"
   ]
  },
  {
   "cell_type": "code",
   "execution_count": 44,
   "id": "0d54df87",
   "metadata": {},
   "outputs": [],
   "source": [
    "# convert y into binary representation using categorical\n",
    "y_train = keras.utils.to_categorical(y_train)\n",
    "y_test = keras.utils.to_categorical(y_test)"
   ]
  },
  {
   "cell_type": "code",
   "execution_count": 45,
   "id": "4f9bfb05",
   "metadata": {},
   "outputs": [],
   "source": [
    "train_shape_y = x_train.shape[1]"
   ]
  },
  {
   "cell_type": "markdown",
   "id": "e0eaa3cf",
   "metadata": {},
   "source": [
    "Define the network architecture using Keras"
   ]
  },
  {
   "cell_type": "code",
   "execution_count": 46,
   "id": "af11a381",
   "metadata": {},
   "outputs": [],
   "source": [
    "model = Sequential([\n",
    "    Dense(128, input_shape=(train_shape_y,), activation=\"relu\"),\n",
    "    Dense(64, activation=\"relu\"),\n",
    "    Dropout(0.2),\n",
    "    Dense(10, activation=\"softmax\")\n",
    "])"
   ]
  },
  {
   "cell_type": "markdown",
   "id": "7fae81de",
   "metadata": {},
   "source": [
    "rain the model using SGD with 11 epochs"
   ]
  },
  {
   "cell_type": "code",
   "execution_count": 47,
   "id": "e32245df",
   "metadata": {},
   "outputs": [
    {
     "name": "stdout",
     "output_type": "stream",
     "text": [
      "Model: \"sequential_2\"\n",
      "_________________________________________________________________\n",
      " Layer (type)                Output Shape              Param #   \n",
      "=================================================================\n",
      " dense_6 (Dense)             (None, 128)               100480    \n",
      "                                                                 \n",
      " dense_7 (Dense)             (None, 64)                8256      \n",
      "                                                                 \n",
      " dropout_2 (Dropout)         (None, 64)                0         \n",
      "                                                                 \n",
      " dense_8 (Dense)             (None, 10)                650       \n",
      "                                                                 \n",
      "=================================================================\n",
      "Total params: 109386 (427.29 KB)\n",
      "Trainable params: 109386 (427.29 KB)\n",
      "Non-trainable params: 0 (0.00 Byte)\n",
      "_________________________________________________________________\n"
     ]
    }
   ],
   "source": [
    "model.compile(loss=\"categorical_crossentropy\", optimizer=SGD(learning_rate=0.1, momentum=0), metrics=[\"accuracy\"])\n",
    "model.summary()"
   ]
  },
  {
   "cell_type": "code",
   "execution_count": 48,
   "id": "c14d36a7",
   "metadata": {},
   "outputs": [
    {
     "name": "stdout",
     "output_type": "stream",
     "text": [
      "Epoch 1/11\n"
     ]
    },
    {
     "name": "stderr",
     "output_type": "stream",
     "text": [
      "2023-11-15 14:57:01.860819: W tensorflow/tsl/framework/cpu_allocator_impl.cc:83] Allocation of 376320000 exceeds 10% of free system memory.\n"
     ]
    },
    {
     "name": "stdout",
     "output_type": "stream",
     "text": [
      "118/118 [==============================] - 1s 6ms/step - loss: 0.9154 - accuracy: 0.7310\n",
      "Epoch 2/11\n",
      "118/118 [==============================] - 1s 5ms/step - loss: 0.4241 - accuracy: 0.8776\n",
      "Epoch 3/11\n",
      "118/118 [==============================] - 1s 6ms/step - loss: 0.3470 - accuracy: 0.9000\n",
      "Epoch 4/11\n",
      "118/118 [==============================] - 1s 5ms/step - loss: 0.3030 - accuracy: 0.9116\n",
      "Epoch 5/11\n",
      "118/118 [==============================] - 1s 5ms/step - loss: 0.2710 - accuracy: 0.9217\n",
      "Epoch 6/11\n",
      "118/118 [==============================] - 1s 5ms/step - loss: 0.2490 - accuracy: 0.9275\n",
      "Epoch 7/11\n",
      "118/118 [==============================] - 1s 5ms/step - loss: 0.2312 - accuracy: 0.9336\n",
      "Epoch 8/11\n",
      "118/118 [==============================] - 1s 5ms/step - loss: 0.2138 - accuracy: 0.9383\n",
      "Epoch 9/11\n",
      "118/118 [==============================] - 1s 6ms/step - loss: 0.1990 - accuracy: 0.9423\n",
      "Epoch 10/11\n",
      "118/118 [==============================] - 1s 6ms/step - loss: 0.1887 - accuracy: 0.9455\n",
      "Epoch 11/11\n",
      "118/118 [==============================] - 1s 6ms/step - loss: 0.1772 - accuracy: 0.9493\n"
     ]
    }
   ],
   "source": [
    "M = model.fit(x=x_train, y=y_train, batch_size=512, epochs=11)"
   ]
  },
  {
   "cell_type": "markdown",
   "id": "d3681903",
   "metadata": {},
   "source": [
    "Evaluate the network"
   ]
  },
  {
   "cell_type": "code",
   "execution_count": 49,
   "id": "901cd578",
   "metadata": {},
   "outputs": [
    {
     "name": "stdout",
     "output_type": "stream",
     "text": [
      "313/313 [==============================] - 0s 1ms/step - loss: 0.1508 - accuracy: 0.9552\n"
     ]
    }
   ],
   "source": [
    "acc, loss = model.evaluate(x=x_test, y=y_test)"
   ]
  },
  {
   "cell_type": "markdown",
   "id": "1cac61d4",
   "metadata": {},
   "source": [
    "Plot the training loss and accuracy"
   ]
  },
  {
   "cell_type": "code",
   "execution_count": 50,
   "id": "9bd2a8ca",
   "metadata": {},
   "outputs": [
    {
     "data": {
      "text/plain": [
       "[<matplotlib.lines.Line2D at 0x7fc520ecc250>]"
      ]
     },
     "execution_count": 50,
     "metadata": {},
     "output_type": "execute_result"
    },
    {
     "data": {
      "image/png": "[encoded data removed]",
      "text/plain": [
       "<Figure size 640x480 with 1 Axes>"
      ]
     },
     "metadata": {},
     "output_type": "display_data"
    }
   ],
   "source": [
    "plt.plot(M.history['accuracy'])"
   ]
  },
  {
   "cell_type": "code",
   "execution_count": 51,
   "id": "a91edcfc",
   "metadata": {},
   "outputs": [
    {
     "data": {
      "text/plain": [
       "[<matplotlib.lines.Line2D at 0x7fc520e0f520>]"
      ]
     },
     "execution_count": 51,
     "metadata": {},
     "output_type": "execute_result"
    },
    {
     "data": {
      "image/png": "[encoded data removed]",
      "text/plain": [
       "<Figure size 640x480 with 1 Axes>"
      ]
     },
     "metadata": {},
     "output_type": "display_data"
    }
   ],
   "source": [
    "plt.plot(M.history['loss'])"
   ]
  },
  {
   "cell_type": "code",
   "execution_count": null,
   "id": "3e8603a7",
   "metadata": {},
   "outputs": [],
   "source": []
  }
 ],
 "metadata": {
  "kernelspec": {
   "display_name": "Python 3 (ipykernel)",
   "language": "python",
   "name": "python3"
  },
  "language_info": {
   "codemirror_mode": {
    "name": "ipython",
    "version": 3
   },
   "file_extension": ".py",
   "mimetype": "text/x-python",
   "name": "python",
   "nbconvert_exporter": "python",
   "pygments_lexer": "ipython3",
   "version": "3.10.12"
  }
 },
 "nbformat": 4,
 "nbformat_minor": 5
}
