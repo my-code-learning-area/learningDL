{
 "cells": [
  {
   "cell_type": "code",
   "execution_count": 34,
   "id": "060367a7",
   "metadata": {},
   "outputs": [],
   "source": [
    "import numpy as np\n",
    "import pandas as pd\n",
    "import tensorflow as tf\n",
    "import keras"
   ]
  },
  {
   "cell_type": "code",
   "execution_count": 36,
   "id": "373e9d8b",
   "metadata": {},
   "outputs": [],
   "source": [
    "xt=pd.read_csv('../LP-IV-datasets/MNIST/mnist_train.csv')\n",
    "xtr=xt.drop('label',axis=1).values\n",
    "ytr=xt['label'].values"
   ]
  },
  {
   "cell_type": "code",
   "execution_count": 37,
   "id": "e4429bd5",
   "metadata": {},
   "outputs": [],
   "source": [
    "yt=pd.read_csv('../LP-IV-datasets/MNIST/mnist_test.csv')\n",
    "xts=yt.drop('label',axis=1).values\n",
    "yts=yt['label'].values"
   ]
  },
  {
   "cell_type": "code",
   "execution_count": 38,
   "id": "c5b62f74",
   "metadata": {},
   "outputs": [],
   "source": [
    "xtr=xtr/255.0\n",
    "xts=xts/255.0\n",
    "\n",
    "\n",
    "xtr=xtr.reshape((-1,28*28))\n",
    "xts=xts.reshape((-1,28*28))"
   ]
  },
  {
   "cell_type": "code",
   "execution_count": 39,
   "id": "2e86bdd0",
   "metadata": {},
   "outputs": [
    {
     "name": "stdout",
     "output_type": "stream",
     "text": [
      "(60000, 784)\n",
      "(10000, 784)\n",
      "(60000,)\n",
      "(10000,)\n"
     ]
    }
   ],
   "source": [
    "print(xtr.shape)\n",
    "print(xts.shape)\n",
    "print(ytr.shape)\n",
    "print(yts.shape)"
   ]
  },
  {
   "cell_type": "code",
   "execution_count": 40,
   "id": "39519364",
   "metadata": {},
   "outputs": [],
   "source": [
    "ytr=keras.utils.to_categorical(ytr,10)\n",
    "yts=keras.utils.to_categorical(yts,10)"
   ]
  },
  {
   "cell_type": "code",
   "execution_count": 41,
   "id": "4082e8d8",
   "metadata": {},
   "outputs": [],
   "source": [
    "from tensorflow.keras.models import Sequential\n",
    "from tensorflow.keras.layers import Dense,Dropout\n",
    "from tensorflow.keras.optimizers import SGD\n",
    "\n"
   ]
  },
  {
   "cell_type": "code",
   "execution_count": 42,
   "id": "c23b0a1d",
   "metadata": {},
   "outputs": [],
   "source": [
    "model=Sequential([\n",
    "    Dense(128,input_shape=(784,),activation='relu'),\n",
    "    Dense(64,activation='relu'),\n",
    "    Dropout(0.2),\n",
    "    Dense(10,activation='softmax')\n",
    "])"
   ]
  },
  {
   "cell_type": "code",
   "execution_count": 43,
   "id": "15d4d00c",
   "metadata": {},
   "outputs": [
    {
     "name": "stdout",
     "output_type": "stream",
     "text": [
      "Model: \"sequential_3\"\n",
      "_________________________________________________________________\n",
      " Layer (type)                Output Shape              Param #   \n",
      "=================================================================\n",
      " dense_9 (Dense)             (None, 128)               100480    \n",
      "                                                                 \n",
      " dense_10 (Dense)            (None, 64)                8256      \n",
      "                                                                 \n",
      " dropout_3 (Dropout)         (None, 64)                0         \n",
      "                                                                 \n",
      " dense_11 (Dense)            (None, 10)                650       \n",
      "                                                                 \n",
      "=================================================================\n",
      "Total params: 109386 (427.29 KB)\n",
      "Trainable params: 109386 (427.29 KB)\n",
      "Non-trainable params: 0 (0.00 Byte)\n",
      "_________________________________________________________________\n"
     ]
    }
   ],
   "source": [
    "sgd=SGD()\n",
    "\n",
    "model.compile(optimizer=sgd,loss='categorical_crossentropy',metrics=['accuracy'])\n",
    "model.summary()"
   ]
  },
  {
   "cell_type": "code",
   "execution_count": 44,
   "id": "8ffbb5a7",
   "metadata": {},
   "outputs": [
    {
     "name": "stdout",
     "output_type": "stream",
     "text": [
      "Epoch 1/11\n",
      "1875/1875 [==============================] - 5s 2ms/step - loss: 0.7476 - accuracy: 0.7878 - val_loss: 0.3201 - val_accuracy: 0.9127\n",
      "Epoch 2/11\n",
      "1875/1875 [==============================] - 5s 3ms/step - loss: 0.3513 - accuracy: 0.9003 - val_loss: 0.2491 - val_accuracy: 0.9287\n",
      "Epoch 3/11\n",
      "1875/1875 [==============================] - 4s 2ms/step - loss: 0.2852 - accuracy: 0.9180 - val_loss: 0.2153 - val_accuracy: 0.9388\n",
      "Epoch 4/11\n",
      "1875/1875 [==============================] - 4s 2ms/step - loss: 0.2448 - accuracy: 0.9298 - val_loss: 0.1871 - val_accuracy: 0.9448\n",
      "Epoch 5/11\n",
      "1875/1875 [==============================] - 4s 2ms/step - loss: 0.2164 - accuracy: 0.9370 - val_loss: 0.1696 - val_accuracy: 0.9503\n",
      "Epoch 6/11\n",
      "1875/1875 [==============================] - 4s 2ms/step - loss: 0.1944 - accuracy: 0.9438 - val_loss: 0.1535 - val_accuracy: 0.9536\n",
      "Epoch 7/11\n",
      "1875/1875 [==============================] - 4s 2ms/step - loss: 0.1785 - accuracy: 0.9479 - val_loss: 0.1435 - val_accuracy: 0.9571\n",
      "Epoch 8/11\n",
      "1875/1875 [==============================] - 5s 2ms/step - loss: 0.1654 - accuracy: 0.9524 - val_loss: 0.1340 - val_accuracy: 0.9600\n",
      "Epoch 9/11\n",
      "1875/1875 [==============================] - 5s 2ms/step - loss: 0.1526 - accuracy: 0.9558 - val_loss: 0.1259 - val_accuracy: 0.9627\n",
      "Epoch 10/11\n",
      "1875/1875 [==============================] - 5s 2ms/step - loss: 0.1422 - accuracy: 0.9591 - val_loss: 0.1178 - val_accuracy: 0.9637\n",
      "Epoch 11/11\n",
      "1875/1875 [==============================] - 5s 3ms/step - loss: 0.1319 - accuracy: 0.9618 - val_loss: 0.1109 - val_accuracy: 0.9671\n"
     ]
    }
   ],
   "source": [
    "hist=model.fit(xtr,ytr,shuffle=True,validation_data=(xts,yts),epochs=11,batch_size=32)"
   ]
  },
  {
   "cell_type": "code",
   "execution_count": 45,
   "id": "f6b6aeb9",
   "metadata": {},
   "outputs": [
    {
     "name": "stdout",
     "output_type": "stream",
     "text": [
      "313/313 [==============================] - 1s 2ms/step - loss: 0.1109 - accuracy: 0.9671\n",
      "0.11093313246965408\n",
      "0.9671000242233276\n"
     ]
    }
   ],
   "source": [
    "score=model.evaluate(xts,yts)\n",
    "print(score[0])\n",
    "print(score[1])"
   ]
  },
  {
   "cell_type": "code",
   "execution_count": 49,
   "id": "8060cc8f",
   "metadata": {},
   "outputs": [
    {
     "data": {
      "text/plain": [
       "[<matplotlib.lines.Line2D at 0x7f21e1023d60>]"
      ]
     },
     "execution_count": 49,
     "metadata": {},
     "output_type": "execute_result"
    },
    {
     "data": {
      "image/png": "[encoded data removed]",
      "text/plain": [
       "<Figure size 640x480 with 1 Axes>"
      ]
     },
     "metadata": {},
     "output_type": "display_data"
    }
   ],
   "source": [
    "import matplotlib.pyplot as plt\n",
    "\n",
    "plt.plot(hist.history['loss'])\n",
    "plt.plot(hist.history['accuracy'])\n",
    "plt.plot(hist.history['val_loss'])\n",
    "plt.plot(hist.history['val_accuracy'])"
   ]
  },
  {
   "cell_type": "code",
   "execution_count": null,
   "id": "214a10fb",
   "metadata": {},
   "outputs": [],
   "source": []
  }
 ],
 "metadata": {
  "kernelspec": {
   "display_name": "Python 3 (ipykernel)",
   "language": "python",
   "name": "python3"
  },
  "language_info": {
   "codemirror_mode": {
    "name": "ipython",
    "version": 3
   },
   "file_extension": ".py",
   "mimetype": "text/x-python",
   "name": "python",
   "nbconvert_exporter": "python",
   "pygments_lexer": "ipython3",
   "version": "3.10.12"
  }
 },
 "nbformat": 4,
 "nbformat_minor": 5
}
